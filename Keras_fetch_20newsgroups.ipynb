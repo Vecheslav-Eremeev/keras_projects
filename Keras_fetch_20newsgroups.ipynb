{
  "nbformat": 4,
  "nbformat_minor": 0,
  "metadata": {
    "colab": {
      "name": "Keras fetch_20newsgroups",
      "provenance": [],
      "collapsed_sections": [],
      "authorship_tag": "ABX9TyPQCtKO/Zao5hq8h9lfwMsd",
      "include_colab_link": true
    },
    "kernelspec": {
      "name": "python3",
      "display_name": "Python 3"
    },
    "language_info": {
      "name": "python"
    },
    "accelerator": "GPU"
  },
  "cells": [
    {
      "cell_type": "markdown",
      "metadata": {
        "id": "view-in-github",
        "colab_type": "text"
      },
      "source": [
        "<a href=\"https://colab.research.google.com/github/Vecheslav-Eremeev/keras_projects/blob/main/Keras_fetch_20newsgroups.ipynb\" target=\"_parent\"><img src=\"https://colab.research.google.com/assets/colab-badge.svg\" alt=\"Open In Colab\"/></a>"
      ]
    },
    {
      "cell_type": "markdown",
      "source": [
        "Imports\n"
      ],
      "metadata": {
        "id": "9RUrDWnoCf8F"
      }
    },
    {
      "cell_type": "code",
      "source": [
        "import warnings\n",
        "warnings.filterwarnings('ignore')"
      ],
      "metadata": {
        "id": "if3HHY89C4LK"
      },
      "execution_count": 1,
      "outputs": []
    },
    {
      "cell_type": "code",
      "execution_count": 2,
      "metadata": {
        "id": "EREMdBqBCZs_"
      },
      "outputs": [],
      "source": [
        "import numpy as np\n",
        "import matplotlib.pyplot as plt\n",
        "\n",
        "from sklearn.datasets import fetch_20newsgroups\n",
        "from sklearn.model_selection import train_test_split\n",
        "\n",
        "from keras_preprocessing.text import Tokenizer\n",
        "from keras_preprocessing.sequence import pad_sequences\n",
        "from keras.utils.np_utils import to_categorical\n",
        "\n",
        "from keras.models import Sequential\n",
        "from keras.layers import Embedding, Dropout, Dense, LSTM, SimpleRNN, GRU\n",
        "from keras.layers import Flatten, MaxPooling1D, GlobalMaxPooling1D, Conv1D\n",
        "from keras.callbacks import EarlyStopping, ModelCheckpoint"
      ]
    },
    {
      "cell_type": "markdown",
      "source": [
        "Load Data"
      ],
      "metadata": {
        "id": "tYfGG5L3tTaw"
      }
    },
    {
      "cell_type": "code",
      "source": [
        "data = fetch_20newsgroups()\n",
        "data.keys()"
      ],
      "metadata": {
        "colab": {
          "base_uri": "https://localhost:8080/"
        },
        "id": "MdhHQ1LfC0Yi",
        "outputId": "f7d78cf2-338c-4b77-bc6e-f317d245b526"
      },
      "execution_count": 3,
      "outputs": [
        {
          "output_type": "execute_result",
          "data": {
            "text/plain": [
              "dict_keys(['data', 'filenames', 'target_names', 'target', 'DESCR'])"
            ]
          },
          "metadata": {},
          "execution_count": 3
        }
      ]
    },
    {
      "cell_type": "code",
      "source": [
        "data.target_names"
      ],
      "metadata": {
        "colab": {
          "base_uri": "https://localhost:8080/"
        },
        "id": "68aarFB1FLmz",
        "outputId": "4772a700-ecce-4c2a-a361-cb9e77d1abda"
      },
      "execution_count": null,
      "outputs": [
        {
          "output_type": "execute_result",
          "data": {
            "text/plain": [
              "['alt.atheism',\n",
              " 'comp.graphics',\n",
              " 'comp.os.ms-windows.misc',\n",
              " 'comp.sys.ibm.pc.hardware',\n",
              " 'comp.sys.mac.hardware',\n",
              " 'comp.windows.x',\n",
              " 'misc.forsale',\n",
              " 'rec.autos',\n",
              " 'rec.motorcycles',\n",
              " 'rec.sport.baseball',\n",
              " 'rec.sport.hockey',\n",
              " 'sci.crypt',\n",
              " 'sci.electronics',\n",
              " 'sci.med',\n",
              " 'sci.space',\n",
              " 'soc.religion.christian',\n",
              " 'talk.politics.guns',\n",
              " 'talk.politics.mideast',\n",
              " 'talk.politics.misc',\n",
              " 'talk.religion.misc']"
            ]
          },
          "metadata": {},
          "execution_count": 81
        }
      ]
    },
    {
      "cell_type": "code",
      "source": [
        "data.data[0]"
      ],
      "metadata": {
        "colab": {
          "base_uri": "https://localhost:8080/",
          "height": 90
        },
        "id": "DlijFu01FVqL",
        "outputId": "dbe60aef-c598-40c1-843f-e0fb697e0ecc"
      },
      "execution_count": 4,
      "outputs": [
        {
          "output_type": "execute_result",
          "data": {
            "text/plain": [
              "\"From: lerxst@wam.umd.edu (where's my thing)\\nSubject: WHAT car is this!?\\nNntp-Posting-Host: rac3.wam.umd.edu\\nOrganization: University of Maryland, College Park\\nLines: 15\\n\\n I was wondering if anyone out there could enlighten me on this car I saw\\nthe other day. It was a 2-door sports car, looked to be from the late 60s/\\nearly 70s. It was called a Bricklin. The doors were really small. In addition,\\nthe front bumper was separate from the rest of the body. This is \\nall I know. If anyone can tellme a model name, engine specs, years\\nof production, where this car is made, history, or whatever info you\\nhave on this funky looking car, please e-mail.\\n\\nThanks,\\n- IL\\n   ---- brought to you by your neighborhood Lerxst ----\\n\\n\\n\\n\\n\""
            ],
            "application/vnd.google.colaboratory.intrinsic+json": {
              "type": "string"
            }
          },
          "metadata": {},
          "execution_count": 4
        }
      ]
    },
    {
      "cell_type": "code",
      "source": [
        "data.target[0]"
      ],
      "metadata": {
        "colab": {
          "base_uri": "https://localhost:8080/"
        },
        "id": "8ju6KxXIFaZT",
        "outputId": "3c701c67-66ce-4d1c-eb43-595aa8f10a4d"
      },
      "execution_count": 5,
      "outputs": [
        {
          "output_type": "execute_result",
          "data": {
            "text/plain": [
              "7"
            ]
          },
          "metadata": {},
          "execution_count": 5
        }
      ]
    },
    {
      "cell_type": "code",
      "source": [
        "data.target_names[data.target[0]]"
      ],
      "metadata": {
        "colab": {
          "base_uri": "https://localhost:8080/",
          "height": 35
        },
        "id": "9MeyloNlFdDj",
        "outputId": "122ec2f8-a523-4d09-8076-94d9e9cfc66b"
      },
      "execution_count": 6,
      "outputs": [
        {
          "output_type": "execute_result",
          "data": {
            "text/plain": [
              "'rec.autos'"
            ],
            "application/vnd.google.colaboratory.intrinsic+json": {
              "type": "string"
            }
          },
          "metadata": {},
          "execution_count": 6
        }
      ]
    },
    {
      "cell_type": "code",
      "source": [
        "text = data.data\n",
        "len(text)"
      ],
      "metadata": {
        "colab": {
          "base_uri": "https://localhost:8080/"
        },
        "id": "X1PaNSuAFkmr",
        "outputId": "b68cedd9-c201-48b2-b8d7-4490011016eb"
      },
      "execution_count": 7,
      "outputs": [
        {
          "output_type": "execute_result",
          "data": {
            "text/plain": [
              "11314"
            ]
          },
          "metadata": {},
          "execution_count": 7
        }
      ]
    },
    {
      "cell_type": "code",
      "source": [
        "target = data.target\n",
        "len(target)"
      ],
      "metadata": {
        "colab": {
          "base_uri": "https://localhost:8080/"
        },
        "id": "HNhFNVOrFtST",
        "outputId": "5577fe1e-cb2a-4e6d-cf91-d0dd23e69b71"
      },
      "execution_count": 8,
      "outputs": [
        {
          "output_type": "execute_result",
          "data": {
            "text/plain": [
              "11314"
            ]
          },
          "metadata": {},
          "execution_count": 8
        }
      ]
    },
    {
      "cell_type": "code",
      "source": [
        "num_words = 3000\n",
        "max_len = 30"
      ],
      "metadata": {
        "id": "toYYCbsNF0L7"
      },
      "execution_count": 9,
      "outputs": []
    },
    {
      "cell_type": "code",
      "source": [
        "tokenizer = Tokenizer(num_words=num_words)\n",
        "tokenizer.fit_on_texts(text)\n",
        "sequences = tokenizer.texts_to_sequences(text)\n",
        "sequences = pad_sequences(sequences, maxlen=max_len)\n",
        "sequences.shape"
      ],
      "metadata": {
        "colab": {
          "base_uri": "https://localhost:8080/"
        },
        "id": "ZRI2cMVEGJC8",
        "outputId": "5fb939a3-115a-41a2-9171-d5db64cde111"
      },
      "execution_count": 10,
      "outputs": [
        {
          "output_type": "execute_result",
          "data": {
            "text/plain": [
              "(11314, 30)"
            ]
          },
          "metadata": {},
          "execution_count": 10
        }
      ]
    },
    {
      "cell_type": "code",
      "source": [
        "y = to_categorical(target)\n",
        "y.shape"
      ],
      "metadata": {
        "colab": {
          "base_uri": "https://localhost:8080/"
        },
        "id": "8-G11U-5Gx-s",
        "outputId": "d19181a6-d2e6-4341-89d2-ca1df51869f3"
      },
      "execution_count": 11,
      "outputs": [
        {
          "output_type": "execute_result",
          "data": {
            "text/plain": [
              "(11314, 20)"
            ]
          },
          "metadata": {},
          "execution_count": 11
        }
      ]
    },
    {
      "cell_type": "code",
      "source": [
        "X_train, X_test, y_train, y_test = train_test_split(sequences, y, random_state=42, test_size=0.15)"
      ],
      "metadata": {
        "id": "t527LUe_IdVy"
      },
      "execution_count": 12,
      "outputs": []
    },
    {
      "cell_type": "markdown",
      "source": [
        "Train models"
      ],
      "metadata": {
        "id": "aQmrW5uwacbj"
      }
    },
    {
      "cell_type": "code",
      "source": [
        "def train_model(model, epochs=30, batch_size=128):\n",
        "  model.compile(optimizer='adam', loss='categorical_crossentropy', metrics=['acc'])\n",
        "  callbacks_list = [\n",
        "    EarlyStopping(monitor='val_acc', patience=5),\n",
        "    ModelCheckpoint(filepath='my_model.h5', monitor='val_loss', save_best_only=True)\n",
        "  ]\n",
        "  history = model.fit(X_train, y_train, batch_size=batch_size, epochs=epochs, validation_split=0.15, callbacks=callbacks_list)\n",
        "\n",
        "  print(model.evaluate(X_test, y_test))\n",
        "  return history\n"
      ],
      "metadata": {
        "id": "EInEfKHdaf_0"
      },
      "execution_count": 13,
      "outputs": []
    },
    {
      "cell_type": "code",
      "source": [
        "def show_loss_model(history):\n",
        "  loss = history.history['loss']\n",
        "  val_loss = history.history['val_loss']\n",
        "\n",
        "  epochs_plot = np.arange(1, len(loss) + 1)\n",
        "  plt.clf()\n",
        "\n",
        "  plt.plot(epochs_plot, loss, 'r', label='Training loss')\n",
        "  plt.plot(epochs_plot, val_loss, 'b', label='Validation loss')\n",
        "  plt.title('Training and validation loss')\n",
        "  plt.xlabel('Epochs')\n",
        "  plt.ylabel('Loss')\n",
        "  plt.legend()\n",
        "  plt.show()"
      ],
      "metadata": {
        "id": "3uTcOtKmbqfs"
      },
      "execution_count": 14,
      "outputs": []
    },
    {
      "cell_type": "code",
      "source": [
        "def show_accuracy_model(history):\n",
        "  acc = history.history['acc']\n",
        "  val_acc = history.history['val_acc']\n",
        "\n",
        "  epochs_plot = np.arange(1, len(acc) + 1)\n",
        "  plt.clf()\n",
        "\n",
        "  plt.plot(epochs_plot, acc, 'r', label='Training acc')\n",
        "  plt.plot(epochs_plot, val_acc, 'b', label='Validation acc')\n",
        "  plt.title('Training and validation acc')\n",
        "  plt.xlabel('Epochs')\n",
        "  plt.ylabel('Accuracy')\n",
        "  plt.legend()\n",
        "  plt.show()"
      ],
      "metadata": {
        "id": "q7FeDfQMcBRL"
      },
      "execution_count": 15,
      "outputs": []
    },
    {
      "cell_type": "markdown",
      "source": [
        "Simple Dense Model"
      ],
      "metadata": {
        "id": "NJqkgIouIV2c"
      }
    },
    {
      "cell_type": "code",
      "source": [
        "model = Sequential([\n",
        "                    Embedding(num_words, 16, input_length=max_len),\n",
        "                    Flatten(),\n",
        "                    Dense(64, activation='relu'),\n",
        "                    Dropout(0.25),\n",
        "                    Dense(20, activation='softmax')\n",
        "])\n",
        "model.summary()"
      ],
      "metadata": {
        "colab": {
          "base_uri": "https://localhost:8080/"
        },
        "id": "iowFWeURIRs7",
        "outputId": "eea122a0-edc1-415e-b6f1-46af3b350a0b"
      },
      "execution_count": 16,
      "outputs": [
        {
          "output_type": "stream",
          "name": "stdout",
          "text": [
            "Model: \"sequential\"\n",
            "_________________________________________________________________\n",
            " Layer (type)                Output Shape              Param #   \n",
            "=================================================================\n",
            " embedding (Embedding)       (None, 30, 16)            48000     \n",
            "                                                                 \n",
            " flatten (Flatten)           (None, 480)               0         \n",
            "                                                                 \n",
            " dense (Dense)               (None, 64)                30784     \n",
            "                                                                 \n",
            " dropout (Dropout)           (None, 64)                0         \n",
            "                                                                 \n",
            " dense_1 (Dense)             (None, 20)                1300      \n",
            "                                                                 \n",
            "=================================================================\n",
            "Total params: 80,084\n",
            "Trainable params: 80,084\n",
            "Non-trainable params: 0\n",
            "_________________________________________________________________\n"
          ]
        }
      ]
    },
    {
      "cell_type": "code",
      "source": [
        "history = train_model(model)"
      ],
      "metadata": {
        "colab": {
          "base_uri": "https://localhost:8080/"
        },
        "id": "6mntTaCkcnds",
        "outputId": "c7a3588b-e8d2-4c6c-c6ea-ebace148c53f"
      },
      "execution_count": 17,
      "outputs": [
        {
          "output_type": "stream",
          "name": "stdout",
          "text": [
            "Epoch 1/30\n",
            "64/64 [==============================] - 3s 10ms/step - loss: 2.9860 - acc: 0.0854 - val_loss: 2.9715 - val_acc: 0.1178\n",
            "Epoch 2/30\n",
            "64/64 [==============================] - 0s 7ms/step - loss: 2.9203 - acc: 0.1933 - val_loss: 2.9036 - val_acc: 0.1642\n",
            "Epoch 3/30\n",
            "64/64 [==============================] - 0s 7ms/step - loss: 2.7554 - acc: 0.2666 - val_loss: 2.7478 - val_acc: 0.2190\n",
            "Epoch 4/30\n",
            "64/64 [==============================] - 0s 7ms/step - loss: 2.4228 - acc: 0.3635 - val_loss: 2.4969 - val_acc: 0.2855\n",
            "Epoch 5/30\n",
            "64/64 [==============================] - 0s 6ms/step - loss: 2.0180 - acc: 0.4512 - val_loss: 2.2990 - val_acc: 0.3209\n",
            "Epoch 6/30\n",
            "64/64 [==============================] - 0s 7ms/step - loss: 1.6867 - acc: 0.5336 - val_loss: 2.1926 - val_acc: 0.3416\n",
            "Epoch 7/30\n",
            "64/64 [==============================] - 0s 6ms/step - loss: 1.4098 - acc: 0.6137 - val_loss: 2.1370 - val_acc: 0.3590\n",
            "Epoch 8/30\n",
            "64/64 [==============================] - 0s 7ms/step - loss: 1.1905 - acc: 0.6733 - val_loss: 2.1117 - val_acc: 0.3756\n",
            "Epoch 9/30\n",
            "64/64 [==============================] - 0s 7ms/step - loss: 1.0150 - acc: 0.7287 - val_loss: 2.1041 - val_acc: 0.3881\n",
            "Epoch 10/30\n",
            "64/64 [==============================] - 0s 7ms/step - loss: 0.8712 - acc: 0.7678 - val_loss: 2.1229 - val_acc: 0.3929\n",
            "Epoch 11/30\n",
            "64/64 [==============================] - 0s 6ms/step - loss: 0.7535 - acc: 0.8044 - val_loss: 2.1632 - val_acc: 0.4075\n",
            "Epoch 12/30\n",
            "64/64 [==============================] - 0s 7ms/step - loss: 0.6583 - acc: 0.8319 - val_loss: 2.1978 - val_acc: 0.4089\n",
            "Epoch 13/30\n",
            "64/64 [==============================] - 0s 6ms/step - loss: 0.5639 - acc: 0.8582 - val_loss: 2.2483 - val_acc: 0.4179\n",
            "Epoch 14/30\n",
            "64/64 [==============================] - 0s 7ms/step - loss: 0.4861 - acc: 0.8828 - val_loss: 2.2998 - val_acc: 0.4137\n",
            "Epoch 15/30\n",
            "64/64 [==============================] - 0s 6ms/step - loss: 0.4248 - acc: 0.9026 - val_loss: 2.3596 - val_acc: 0.4165\n",
            "Epoch 16/30\n",
            "64/64 [==============================] - 0s 7ms/step - loss: 0.3743 - acc: 0.9141 - val_loss: 2.4271 - val_acc: 0.4179\n",
            "Epoch 17/30\n",
            "64/64 [==============================] - 0s 7ms/step - loss: 0.3197 - acc: 0.9312 - val_loss: 2.4860 - val_acc: 0.4220\n",
            "Epoch 18/30\n",
            "64/64 [==============================] - 0s 6ms/step - loss: 0.2975 - acc: 0.9333 - val_loss: 2.5413 - val_acc: 0.4248\n",
            "Epoch 19/30\n",
            "64/64 [==============================] - 0s 6ms/step - loss: 0.2577 - acc: 0.9493 - val_loss: 2.5955 - val_acc: 0.4262\n",
            "Epoch 20/30\n",
            "64/64 [==============================] - 0s 6ms/step - loss: 0.2342 - acc: 0.9501 - val_loss: 2.6631 - val_acc: 0.4248\n",
            "Epoch 21/30\n",
            "64/64 [==============================] - 0s 6ms/step - loss: 0.2056 - acc: 0.9591 - val_loss: 2.7297 - val_acc: 0.4234\n",
            "Epoch 22/30\n",
            "64/64 [==============================] - 0s 6ms/step - loss: 0.1831 - acc: 0.9643 - val_loss: 2.7906 - val_acc: 0.4262\n",
            "Epoch 23/30\n",
            "64/64 [==============================] - 0s 6ms/step - loss: 0.1667 - acc: 0.9693 - val_loss: 2.8470 - val_acc: 0.4248\n",
            "Epoch 24/30\n",
            "64/64 [==============================] - 0s 6ms/step - loss: 0.1603 - acc: 0.9676 - val_loss: 2.8998 - val_acc: 0.4262\n",
            "54/54 [==============================] - 0s 3ms/step - loss: 2.7274 - acc: 0.4146\n",
            "[2.7273643016815186, 0.41460540890693665]\n"
          ]
        }
      ]
    },
    {
      "cell_type": "code",
      "source": [
        "show_loss_model(history)"
      ],
      "metadata": {
        "colab": {
          "base_uri": "https://localhost:8080/",
          "height": 295
        },
        "id": "Wdw_oNHtc1n8",
        "outputId": "774831d7-802b-4f9d-de47-00a53995fc08"
      },
      "execution_count": 18,
      "outputs": [
        {
          "output_type": "display_data",
          "data": {
            "text/plain": [
              "<Figure size 432x288 with 1 Axes>"
            ],
            "image/png": "[encoded data removed]"
          },
          "metadata": {
            "needs_background": "light"
          }
        }
      ]
    },
    {
      "cell_type": "code",
      "source": [
        "show_accuracy_model(history)"
      ],
      "metadata": {
        "colab": {
          "base_uri": "https://localhost:8080/",
          "height": 295
        },
        "id": "G30eYI2kc6iu",
        "outputId": "b0d9bc4b-60d5-41d5-9fe4-cf75bf74dfaa"
      },
      "execution_count": 19,
      "outputs": [
        {
          "output_type": "display_data",
          "data": {
            "text/plain": [
              "<Figure size 432x288 with 1 Axes>"
            ],
            "image/png": "[encoded data removed]"
          },
          "metadata": {
            "needs_background": "light"
          }
        }
      ]
    },
    {
      "cell_type": "markdown",
      "source": [
        "Dense Model N_2"
      ],
      "metadata": {
        "id": "BRXg7G5VRe2c"
      }
    },
    {
      "cell_type": "code",
      "source": [
        "model = Sequential([\n",
        "                    Embedding(num_words, 8, input_length=max_len),\n",
        "                    Flatten(),\n",
        "                    Dense(64, activation='relu'),\n",
        "                    Dropout(0.5),\n",
        "                    Dense(20, activation='softmax')\n",
        "])\n",
        "model.summary()"
      ],
      "metadata": {
        "colab": {
          "base_uri": "https://localhost:8080/"
        },
        "id": "ehSI3-cHQV4E",
        "outputId": "8d7597b6-36bb-497a-899f-d75ea9b28e8a"
      },
      "execution_count": 20,
      "outputs": [
        {
          "output_type": "stream",
          "name": "stdout",
          "text": [
            "Model: \"sequential_1\"\n",
            "_________________________________________________________________\n",
            " Layer (type)                Output Shape              Param #   \n",
            "=================================================================\n",
            " embedding_1 (Embedding)     (None, 30, 8)             24000     \n",
            "                                                                 \n",
            " flatten_1 (Flatten)         (None, 240)               0         \n",
            "                                                                 \n",
            " dense_2 (Dense)             (None, 64)                15424     \n",
            "                                                                 \n",
            " dropout_1 (Dropout)         (None, 64)                0         \n",
            "                                                                 \n",
            " dense_3 (Dense)             (None, 20)                1300      \n",
            "                                                                 \n",
            "=================================================================\n",
            "Total params: 40,724\n",
            "Trainable params: 40,724\n",
            "Non-trainable params: 0\n",
            "_________________________________________________________________\n"
          ]
        }
      ]
    },
    {
      "cell_type": "code",
      "source": [
        "history = train_model(model)"
      ],
      "metadata": {
        "colab": {
          "base_uri": "https://localhost:8080/"
        },
        "id": "xZz58h-udRYf",
        "outputId": "c430bb01-a2bf-4b6e-dafa-5666dd802bc8"
      },
      "execution_count": 21,
      "outputs": [
        {
          "output_type": "stream",
          "name": "stdout",
          "text": [
            "Epoch 1/30\n",
            "64/64 [==============================] - 1s 10ms/step - loss: 2.9913 - acc: 0.0644 - val_loss: 2.9834 - val_acc: 0.0880\n",
            "Epoch 2/30\n",
            "64/64 [==============================] - 0s 7ms/step - loss: 2.9661 - acc: 0.1100 - val_loss: 2.9625 - val_acc: 0.1289\n",
            "Epoch 3/30\n",
            "64/64 [==============================] - 0s 7ms/step - loss: 2.9200 - acc: 0.1548 - val_loss: 2.9143 - val_acc: 0.1490\n",
            "Epoch 4/30\n",
            "64/64 [==============================] - 0s 7ms/step - loss: 2.8309 - acc: 0.1939 - val_loss: 2.8354 - val_acc: 0.1850\n",
            "Epoch 5/30\n",
            "64/64 [==============================] - 0s 7ms/step - loss: 2.6767 - acc: 0.2462 - val_loss: 2.7092 - val_acc: 0.2252\n",
            "Epoch 6/30\n",
            "64/64 [==============================] - 0s 7ms/step - loss: 2.4633 - acc: 0.3004 - val_loss: 2.5582 - val_acc: 0.2592\n",
            "Epoch 7/30\n",
            "64/64 [==============================] - 0s 7ms/step - loss: 2.2559 - acc: 0.3443 - val_loss: 2.4347 - val_acc: 0.2814\n",
            "Epoch 8/30\n",
            "64/64 [==============================] - 0s 7ms/step - loss: 2.0664 - acc: 0.3849 - val_loss: 2.3411 - val_acc: 0.3008\n",
            "Epoch 9/30\n",
            "64/64 [==============================] - 0s 7ms/step - loss: 1.9135 - acc: 0.4266 - val_loss: 2.2823 - val_acc: 0.3125\n",
            "Epoch 10/30\n",
            "64/64 [==============================] - 0s 7ms/step - loss: 1.7885 - acc: 0.4637 - val_loss: 2.2381 - val_acc: 0.3271\n",
            "Epoch 11/30\n",
            "64/64 [==============================] - 0s 7ms/step - loss: 1.6736 - acc: 0.4932 - val_loss: 2.2070 - val_acc: 0.3299\n",
            "Epoch 12/30\n",
            "64/64 [==============================] - 0s 7ms/step - loss: 1.5804 - acc: 0.5151 - val_loss: 2.1903 - val_acc: 0.3416\n",
            "Epoch 13/30\n",
            "64/64 [==============================] - 0s 6ms/step - loss: 1.5209 - acc: 0.5342 - val_loss: 2.1763 - val_acc: 0.3534\n",
            "Epoch 14/30\n",
            "64/64 [==============================] - 0s 7ms/step - loss: 1.4275 - acc: 0.5639 - val_loss: 2.1763 - val_acc: 0.3514\n",
            "Epoch 15/30\n",
            "64/64 [==============================] - 0s 7ms/step - loss: 1.3611 - acc: 0.5847 - val_loss: 2.1737 - val_acc: 0.3576\n",
            "Epoch 16/30\n",
            "64/64 [==============================] - 0s 7ms/step - loss: 1.3007 - acc: 0.6009 - val_loss: 2.1758 - val_acc: 0.3652\n",
            "Epoch 17/30\n",
            "64/64 [==============================] - 0s 6ms/step - loss: 1.2314 - acc: 0.6217 - val_loss: 2.1919 - val_acc: 0.3694\n",
            "Epoch 18/30\n",
            "64/64 [==============================] - 0s 6ms/step - loss: 1.2000 - acc: 0.6272 - val_loss: 2.1990 - val_acc: 0.3652\n",
            "Epoch 19/30\n",
            "64/64 [==============================] - 0s 7ms/step - loss: 1.1444 - acc: 0.6466 - val_loss: 2.2228 - val_acc: 0.3714\n",
            "Epoch 20/30\n",
            "64/64 [==============================] - 0s 6ms/step - loss: 1.1018 - acc: 0.6596 - val_loss: 2.2351 - val_acc: 0.3784\n",
            "Epoch 21/30\n",
            "64/64 [==============================] - 0s 7ms/step - loss: 1.0706 - acc: 0.6693 - val_loss: 2.2595 - val_acc: 0.3791\n",
            "Epoch 22/30\n",
            "64/64 [==============================] - 0s 7ms/step - loss: 1.0217 - acc: 0.6833 - val_loss: 2.2826 - val_acc: 0.3839\n",
            "Epoch 23/30\n",
            "64/64 [==============================] - 0s 6ms/step - loss: 0.9892 - acc: 0.6957 - val_loss: 2.2982 - val_acc: 0.3798\n",
            "Epoch 24/30\n",
            "64/64 [==============================] - 0s 7ms/step - loss: 0.9656 - acc: 0.6946 - val_loss: 2.3241 - val_acc: 0.3839\n",
            "Epoch 25/30\n",
            "64/64 [==============================] - 0s 7ms/step - loss: 0.9224 - acc: 0.7120 - val_loss: 2.3484 - val_acc: 0.3846\n",
            "Epoch 26/30\n",
            "64/64 [==============================] - 0s 7ms/step - loss: 0.9077 - acc: 0.7133 - val_loss: 2.3756 - val_acc: 0.3832\n",
            "Epoch 27/30\n",
            "64/64 [==============================] - 0s 7ms/step - loss: 0.8717 - acc: 0.7247 - val_loss: 2.3970 - val_acc: 0.3895\n",
            "Epoch 28/30\n",
            "64/64 [==============================] - 0s 7ms/step - loss: 0.8526 - acc: 0.7268 - val_loss: 2.4362 - val_acc: 0.3846\n",
            "Epoch 29/30\n",
            "64/64 [==============================] - 0s 7ms/step - loss: 0.8141 - acc: 0.7424 - val_loss: 2.4662 - val_acc: 0.3909\n",
            "Epoch 30/30\n",
            "64/64 [==============================] - 0s 7ms/step - loss: 0.8038 - acc: 0.7459 - val_loss: 2.5082 - val_acc: 0.3915\n",
            "54/54 [==============================] - 0s 3ms/step - loss: 2.5696 - acc: 0.3840\n",
            "[2.569599151611328, 0.3839811682701111]\n"
          ]
        }
      ]
    },
    {
      "cell_type": "code",
      "source": [
        "show_loss_model(history)"
      ],
      "metadata": {
        "colab": {
          "base_uri": "https://localhost:8080/",
          "height": 295
        },
        "id": "ORYYkl0fdZE9",
        "outputId": "c1e45e65-f0d4-4a45-af4c-d2c40f2326eb"
      },
      "execution_count": 22,
      "outputs": [
        {
          "output_type": "display_data",
          "data": {
            "text/plain": [
              "<Figure size 432x288 with 1 Axes>"
            ],
            "image/png": "[encoded data removed]"
          },
          "metadata": {
            "needs_background": "light"
          }
        }
      ]
    },
    {
      "cell_type": "code",
      "source": [
        "show_accuracy_model(history)"
      ],
      "metadata": {
        "colab": {
          "base_uri": "https://localhost:8080/",
          "height": 295
        },
        "id": "Mlu4YpSkdelP",
        "outputId": "ad22ac17-94be-4fc8-c8d0-2ab8217a2720"
      },
      "execution_count": 23,
      "outputs": [
        {
          "output_type": "display_data",
          "data": {
            "text/plain": [
              "<Figure size 432x288 with 1 Axes>"
            ],
            "image/png": "[encoded data removed]"
          },
          "metadata": {
            "needs_background": "light"
          }
        }
      ]
    },
    {
      "cell_type": "markdown",
      "source": [
        "SimpleRNN Model"
      ],
      "metadata": {
        "id": "npxOnImgSyST"
      }
    },
    {
      "cell_type": "code",
      "source": [
        "model = Sequential([\n",
        "                    Embedding(num_words, 16, input_length=max_len),\n",
        "                    SimpleRNN(8, return_sequences=True),\n",
        "                    SimpleRNN(8),\n",
        "                    Dense(20, activation='softmax')\n",
        "])\n",
        "model.summary()"
      ],
      "metadata": {
        "colab": {
          "base_uri": "https://localhost:8080/"
        },
        "id": "AtA9WsGgSxR-",
        "outputId": "8d0f0087-c695-4da5-9bf0-57bede28954d"
      },
      "execution_count": 24,
      "outputs": [
        {
          "output_type": "stream",
          "name": "stdout",
          "text": [
            "Model: \"sequential_2\"\n",
            "_________________________________________________________________\n",
            " Layer (type)                Output Shape              Param #   \n",
            "=================================================================\n",
            " embedding_2 (Embedding)     (None, 30, 16)            48000     \n",
            "                                                                 \n",
            " simple_rnn (SimpleRNN)      (None, 30, 8)             200       \n",
            "                                                                 \n",
            " simple_rnn_1 (SimpleRNN)    (None, 8)                 136       \n",
            "                                                                 \n",
            " dense_4 (Dense)             (None, 20)                180       \n",
            "                                                                 \n",
            "=================================================================\n",
            "Total params: 48,516\n",
            "Trainable params: 48,516\n",
            "Non-trainable params: 0\n",
            "_________________________________________________________________\n"
          ]
        }
      ]
    },
    {
      "cell_type": "code",
      "source": [
        "history = train_model(model)"
      ],
      "metadata": {
        "colab": {
          "base_uri": "https://localhost:8080/"
        },
        "id": "Kxn4d16Bdnjn",
        "outputId": "2633a62b-6fc4-411f-f5b6-a90bc03bfd82"
      },
      "execution_count": 25,
      "outputs": [
        {
          "output_type": "stream",
          "name": "stdout",
          "text": [
            "Epoch 1/30\n",
            "64/64 [==============================] - 9s 113ms/step - loss: 2.9695 - acc: 0.0902 - val_loss: 2.8902 - val_acc: 0.1303\n",
            "Epoch 2/30\n",
            "64/64 [==============================] - 7s 105ms/step - loss: 2.7664 - acc: 0.1898 - val_loss: 2.7928 - val_acc: 0.1733\n",
            "Epoch 3/30\n",
            "64/64 [==============================] - 7s 108ms/step - loss: 2.5505 - acc: 0.2753 - val_loss: 2.7173 - val_acc: 0.2017\n",
            "Epoch 4/30\n",
            "64/64 [==============================] - 7s 102ms/step - loss: 2.3463 - acc: 0.3382 - val_loss: 2.6715 - val_acc: 0.2169\n",
            "Epoch 5/30\n",
            "64/64 [==============================] - 6s 101ms/step - loss: 2.1703 - acc: 0.3950 - val_loss: 2.6584 - val_acc: 0.2259\n",
            "Epoch 6/30\n",
            "64/64 [==============================] - 7s 106ms/step - loss: 2.0200 - acc: 0.4448 - val_loss: 2.6502 - val_acc: 0.2363\n",
            "Epoch 7/30\n",
            "64/64 [==============================] - 7s 103ms/step - loss: 1.8880 - acc: 0.4811 - val_loss: 2.6698 - val_acc: 0.2419\n",
            "Epoch 8/30\n",
            "64/64 [==============================] - 7s 116ms/step - loss: 1.7648 - acc: 0.5218 - val_loss: 2.6673 - val_acc: 0.2377\n",
            "Epoch 9/30\n",
            "64/64 [==============================] - 7s 113ms/step - loss: 1.6554 - acc: 0.5561 - val_loss: 2.7076 - val_acc: 0.2335\n",
            "Epoch 10/30\n",
            "64/64 [==============================] - 7s 102ms/step - loss: 1.5729 - acc: 0.5731 - val_loss: 2.7205 - val_acc: 0.2467\n",
            "Epoch 11/30\n",
            "64/64 [==============================] - 6s 100ms/step - loss: 1.4839 - acc: 0.6083 - val_loss: 2.7629 - val_acc: 0.2356\n",
            "Epoch 12/30\n",
            "64/64 [==============================] - 6s 101ms/step - loss: 1.4059 - acc: 0.6235 - val_loss: 2.7719 - val_acc: 0.2453\n",
            "Epoch 13/30\n",
            "64/64 [==============================] - 7s 113ms/step - loss: 1.3380 - acc: 0.6448 - val_loss: 2.8114 - val_acc: 0.2370\n",
            "Epoch 14/30\n",
            "64/64 [==============================] - 6s 97ms/step - loss: 1.2796 - acc: 0.6555 - val_loss: 2.8512 - val_acc: 0.2412\n",
            "Epoch 15/30\n",
            "64/64 [==============================] - 6s 99ms/step - loss: 1.2244 - acc: 0.6660 - val_loss: 2.8996 - val_acc: 0.2349\n",
            "54/54 [==============================] - 1s 10ms/step - loss: 2.8921 - acc: 0.2379\n",
            "[2.8921422958374023, 0.23792697489261627]\n"
          ]
        }
      ]
    },
    {
      "cell_type": "code",
      "source": [
        "show_loss_model(history)"
      ],
      "metadata": {
        "colab": {
          "base_uri": "https://localhost:8080/",
          "height": 295
        },
        "id": "3u6aUIbadyRs",
        "outputId": "cf9d1407-b592-4a38-a913-ab59c07688a6"
      },
      "execution_count": 26,
      "outputs": [
        {
          "output_type": "display_data",
          "data": {
            "text/plain": [
              "<Figure size 432x288 with 1 Axes>"
            ],
            "image/png": "[encoded data removed]"
          },
          "metadata": {
            "needs_background": "light"
          }
        }
      ]
    },
    {
      "cell_type": "code",
      "source": [
        "show_accuracy_model(history)"
      ],
      "metadata": {
        "colab": {
          "base_uri": "https://localhost:8080/",
          "height": 295
        },
        "id": "moY_Y_zkd4Lk",
        "outputId": "268463e6-da08-4a43-9f48-d4ecf2dd0358"
      },
      "execution_count": 27,
      "outputs": [
        {
          "output_type": "display_data",
          "data": {
            "text/plain": [
              "<Figure size 432x288 with 1 Axes>"
            ],
            "image/png": "[encoded data removed]"
          },
          "metadata": {
            "needs_background": "light"
          }
        }
      ]
    },
    {
      "cell_type": "markdown",
      "source": [
        "LSTM Model"
      ],
      "metadata": {
        "id": "xSUzntWZTsCq"
      }
    },
    {
      "cell_type": "code",
      "source": [
        "model = Sequential([\n",
        "                    Embedding(num_words, 16, input_length=max_len),\n",
        "                    LSTM(32, return_sequences=True),\n",
        "                    LSTM(16),\n",
        "                    Dense(20, activation='softmax')\n",
        "])\n",
        "model.summary()"
      ],
      "metadata": {
        "colab": {
          "base_uri": "https://localhost:8080/"
        },
        "id": "zGeDvCuETx3T",
        "outputId": "37ddecdb-8d4b-4f26-d19c-2a18e88f4a5a"
      },
      "execution_count": 28,
      "outputs": [
        {
          "output_type": "stream",
          "name": "stdout",
          "text": [
            "Model: \"sequential_3\"\n",
            "_________________________________________________________________\n",
            " Layer (type)                Output Shape              Param #   \n",
            "=================================================================\n",
            " embedding_3 (Embedding)     (None, 30, 16)            48000     \n",
            "                                                                 \n",
            " lstm (LSTM)                 (None, 30, 32)            6272      \n",
            "                                                                 \n",
            " lstm_1 (LSTM)               (None, 16)                3136      \n",
            "                                                                 \n",
            " dense_5 (Dense)             (None, 20)                340       \n",
            "                                                                 \n",
            "=================================================================\n",
            "Total params: 57,748\n",
            "Trainable params: 57,748\n",
            "Non-trainable params: 0\n",
            "_________________________________________________________________\n"
          ]
        }
      ]
    },
    {
      "cell_type": "code",
      "source": [
        "history = train_model(model)"
      ],
      "metadata": {
        "colab": {
          "base_uri": "https://localhost:8080/"
        },
        "id": "WwHBNglheAlT",
        "outputId": "f07c30e0-160d-4252-e76e-74f6590d21b2"
      },
      "execution_count": 29,
      "outputs": [
        {
          "output_type": "stream",
          "name": "stdout",
          "text": [
            "Epoch 1/30\n",
            "64/64 [==============================] - 8s 33ms/step - loss: 2.9852 - acc: 0.0657 - val_loss: 2.9227 - val_acc: 0.0797\n",
            "Epoch 2/30\n",
            "64/64 [==============================] - 1s 18ms/step - loss: 2.7574 - acc: 0.1100 - val_loss: 2.6592 - val_acc: 0.1587\n",
            "Epoch 3/30\n",
            "64/64 [==============================] - 1s 19ms/step - loss: 2.4857 - acc: 0.1916 - val_loss: 2.5319 - val_acc: 0.2190\n",
            "Epoch 4/30\n",
            "64/64 [==============================] - 1s 20ms/step - loss: 2.2816 - acc: 0.2620 - val_loss: 2.4589 - val_acc: 0.2405\n",
            "Epoch 5/30\n",
            "64/64 [==============================] - 1s 18ms/step - loss: 2.1287 - acc: 0.3252 - val_loss: 2.4664 - val_acc: 0.2377\n",
            "Epoch 6/30\n",
            "64/64 [==============================] - 1s 18ms/step - loss: 1.9974 - acc: 0.3636 - val_loss: 2.4068 - val_acc: 0.2730\n",
            "Epoch 7/30\n",
            "64/64 [==============================] - 1s 18ms/step - loss: 1.8847 - acc: 0.4140 - val_loss: 2.4555 - val_acc: 0.2661\n",
            "Epoch 8/30\n",
            "64/64 [==============================] - 1s 18ms/step - loss: 1.8073 - acc: 0.4311 - val_loss: 2.4395 - val_acc: 0.2786\n",
            "Epoch 9/30\n",
            "64/64 [==============================] - 1s 18ms/step - loss: 1.7309 - acc: 0.4642 - val_loss: 2.4539 - val_acc: 0.2841\n",
            "Epoch 10/30\n",
            "64/64 [==============================] - 1s 18ms/step - loss: 1.6652 - acc: 0.4870 - val_loss: 2.4256 - val_acc: 0.2994\n",
            "Epoch 11/30\n",
            "64/64 [==============================] - 1s 18ms/step - loss: 1.6179 - acc: 0.5059 - val_loss: 2.4219 - val_acc: 0.2862\n",
            "Epoch 12/30\n",
            "64/64 [==============================] - 1s 18ms/step - loss: 1.5483 - acc: 0.5261 - val_loss: 2.4856 - val_acc: 0.2952\n",
            "Epoch 13/30\n",
            "64/64 [==============================] - 1s 18ms/step - loss: 1.5118 - acc: 0.5314 - val_loss: 2.5216 - val_acc: 0.2945\n",
            "Epoch 14/30\n",
            "64/64 [==============================] - 1s 17ms/step - loss: 1.4698 - acc: 0.5527 - val_loss: 2.5288 - val_acc: 0.3008\n",
            "Epoch 15/30\n",
            "64/64 [==============================] - 1s 18ms/step - loss: 1.4158 - acc: 0.5703 - val_loss: 2.5680 - val_acc: 0.3112\n",
            "Epoch 16/30\n",
            "64/64 [==============================] - 1s 18ms/step - loss: 1.3864 - acc: 0.5842 - val_loss: 2.6161 - val_acc: 0.2924\n",
            "Epoch 17/30\n",
            "64/64 [==============================] - 1s 18ms/step - loss: 1.3431 - acc: 0.5982 - val_loss: 2.5931 - val_acc: 0.2987\n",
            "Epoch 18/30\n",
            "64/64 [==============================] - 1s 19ms/step - loss: 1.3250 - acc: 0.6049 - val_loss: 2.5986 - val_acc: 0.2994\n",
            "Epoch 19/30\n",
            "64/64 [==============================] - 1s 18ms/step - loss: 1.3060 - acc: 0.6066 - val_loss: 2.6156 - val_acc: 0.3063\n",
            "Epoch 20/30\n",
            "64/64 [==============================] - 1s 19ms/step - loss: 1.2746 - acc: 0.6103 - val_loss: 2.6546 - val_acc: 0.3056\n",
            "54/54 [==============================] - 0s 7ms/step - loss: 2.5461 - acc: 0.3227\n",
            "[2.5460898876190186, 0.3227326273918152]\n"
          ]
        }
      ]
    },
    {
      "cell_type": "code",
      "source": [
        "show_loss_model(history)"
      ],
      "metadata": {
        "colab": {
          "base_uri": "https://localhost:8080/",
          "height": 295
        },
        "id": "dQDIxWhFeRhm",
        "outputId": "6727e5e4-06a5-402f-a89b-c3603a5ef039"
      },
      "execution_count": 30,
      "outputs": [
        {
          "output_type": "display_data",
          "data": {
            "text/plain": [
              "<Figure size 432x288 with 1 Axes>"
            ],
            "image/png": "[encoded data removed]"
          },
          "metadata": {
            "needs_background": "light"
          }
        }
      ]
    },
    {
      "cell_type": "code",
      "source": [
        "show_accuracy_model(history)"
      ],
      "metadata": {
        "colab": {
          "base_uri": "https://localhost:8080/",
          "height": 295
        },
        "id": "H0UvXWeqeV_j",
        "outputId": "2791d729-6d93-4db1-9cbe-c44e33d012c5"
      },
      "execution_count": 31,
      "outputs": [
        {
          "output_type": "display_data",
          "data": {
            "text/plain": [
              "<Figure size 432x288 with 1 Axes>"
            ],
            "image/png": "[encoded data removed]"
          },
          "metadata": {
            "needs_background": "light"
          }
        }
      ]
    },
    {
      "cell_type": "markdown",
      "source": [
        "GRU Model"
      ],
      "metadata": {
        "id": "7fW4dSC5Uex-"
      }
    },
    {
      "cell_type": "code",
      "source": [
        "model = Sequential([\n",
        "                    Embedding(num_words, 16, input_length=max_len),\n",
        "                    GRU(32, return_sequences=True),\n",
        "                    GRU(32),\n",
        "                    Dense(20, activation='softmax')\n",
        "])\n",
        "model.summary()"
      ],
      "metadata": {
        "colab": {
          "base_uri": "https://localhost:8080/"
        },
        "id": "hDH8DnVUUVvr",
        "outputId": "37047904-b48c-4d08-d462-cccd731c8295"
      },
      "execution_count": 32,
      "outputs": [
        {
          "output_type": "stream",
          "name": "stdout",
          "text": [
            "Model: \"sequential_4\"\n",
            "_________________________________________________________________\n",
            " Layer (type)                Output Shape              Param #   \n",
            "=================================================================\n",
            " embedding_4 (Embedding)     (None, 30, 16)            48000     \n",
            "                                                                 \n",
            " gru (GRU)                   (None, 30, 32)            4800      \n",
            "                                                                 \n",
            " gru_1 (GRU)                 (None, 32)                6336      \n",
            "                                                                 \n",
            " dense_6 (Dense)             (None, 20)                660       \n",
            "                                                                 \n",
            "=================================================================\n",
            "Total params: 59,796\n",
            "Trainable params: 59,796\n",
            "Non-trainable params: 0\n",
            "_________________________________________________________________\n"
          ]
        }
      ]
    },
    {
      "cell_type": "code",
      "source": [
        "history = train_model(model)"
      ],
      "metadata": {
        "id": "yM19SsFjVDOr",
        "colab": {
          "base_uri": "https://localhost:8080/"
        },
        "outputId": "a3a27211-510a-4ab2-df1c-eaee12511d92"
      },
      "execution_count": 33,
      "outputs": [
        {
          "output_type": "stream",
          "name": "stdout",
          "text": [
            "Epoch 1/30\n",
            "64/64 [==============================] - 6s 33ms/step - loss: 2.9891 - acc: 0.0558 - val_loss: 2.9733 - val_acc: 0.1040\n",
            "Epoch 2/30\n",
            "64/64 [==============================] - 1s 18ms/step - loss: 2.8281 - acc: 0.1101 - val_loss: 2.7302 - val_acc: 0.1344\n",
            "Epoch 3/30\n",
            "64/64 [==============================] - 1s 19ms/step - loss: 2.5264 - acc: 0.1874 - val_loss: 2.5663 - val_acc: 0.1760\n",
            "Epoch 4/30\n",
            "64/64 [==============================] - 1s 20ms/step - loss: 2.2535 - acc: 0.2579 - val_loss: 2.4347 - val_acc: 0.2370\n",
            "Epoch 5/30\n",
            "64/64 [==============================] - 1s 19ms/step - loss: 2.0500 - acc: 0.3300 - val_loss: 2.3769 - val_acc: 0.2730\n",
            "Epoch 6/30\n",
            "64/64 [==============================] - 1s 19ms/step - loss: 1.8941 - acc: 0.3815 - val_loss: 2.3760 - val_acc: 0.2924\n",
            "Epoch 7/30\n",
            "64/64 [==============================] - 1s 20ms/step - loss: 1.7460 - acc: 0.4207 - val_loss: 2.3505 - val_acc: 0.3125\n",
            "Epoch 8/30\n",
            "64/64 [==============================] - 1s 19ms/step - loss: 1.6261 - acc: 0.4574 - val_loss: 2.3761 - val_acc: 0.3098\n",
            "Epoch 9/30\n",
            "64/64 [==============================] - 1s 18ms/step - loss: 1.5297 - acc: 0.5007 - val_loss: 2.3964 - val_acc: 0.3250\n",
            "Epoch 10/30\n",
            "64/64 [==============================] - 1s 18ms/step - loss: 1.4461 - acc: 0.5267 - val_loss: 2.4115 - val_acc: 0.3354\n",
            "Epoch 11/30\n",
            "64/64 [==============================] - 1s 18ms/step - loss: 1.3727 - acc: 0.5582 - val_loss: 2.4261 - val_acc: 0.3458\n",
            "Epoch 12/30\n",
            "64/64 [==============================] - 1s 18ms/step - loss: 1.2892 - acc: 0.5907 - val_loss: 2.4672 - val_acc: 0.3520\n",
            "Epoch 13/30\n",
            "64/64 [==============================] - 1s 18ms/step - loss: 1.2170 - acc: 0.6115 - val_loss: 2.4941 - val_acc: 0.3708\n",
            "Epoch 14/30\n",
            "64/64 [==============================] - 1s 18ms/step - loss: 1.1529 - acc: 0.6388 - val_loss: 2.5420 - val_acc: 0.3611\n",
            "Epoch 15/30\n",
            "64/64 [==============================] - 1s 18ms/step - loss: 1.1001 - acc: 0.6574 - val_loss: 2.5681 - val_acc: 0.3735\n",
            "Epoch 16/30\n",
            "64/64 [==============================] - 1s 18ms/step - loss: 1.0428 - acc: 0.6760 - val_loss: 2.6657 - val_acc: 0.3742\n",
            "Epoch 17/30\n",
            "64/64 [==============================] - 1s 18ms/step - loss: 1.0031 - acc: 0.6947 - val_loss: 2.6742 - val_acc: 0.3791\n",
            "Epoch 18/30\n",
            "64/64 [==============================] - 1s 18ms/step - loss: 0.9634 - acc: 0.7041 - val_loss: 2.7084 - val_acc: 0.3791\n",
            "Epoch 19/30\n",
            "64/64 [==============================] - 1s 18ms/step - loss: 0.9045 - acc: 0.7253 - val_loss: 2.7400 - val_acc: 0.3770\n",
            "Epoch 20/30\n",
            "64/64 [==============================] - 1s 18ms/step - loss: 0.8574 - acc: 0.7487 - val_loss: 2.8131 - val_acc: 0.3895\n",
            "Epoch 21/30\n",
            "64/64 [==============================] - 1s 19ms/step - loss: 0.8180 - acc: 0.7625 - val_loss: 2.8517 - val_acc: 0.3846\n",
            "Epoch 22/30\n",
            "64/64 [==============================] - 1s 19ms/step - loss: 0.7800 - acc: 0.7734 - val_loss: 2.9078 - val_acc: 0.3853\n",
            "Epoch 23/30\n",
            "64/64 [==============================] - 1s 19ms/step - loss: 0.7556 - acc: 0.7821 - val_loss: 2.9589 - val_acc: 0.3936\n",
            "Epoch 24/30\n",
            "64/64 [==============================] - 1s 20ms/step - loss: 0.7372 - acc: 0.7853 - val_loss: 2.9894 - val_acc: 0.3895\n",
            "Epoch 25/30\n",
            "64/64 [==============================] - 1s 18ms/step - loss: 0.7015 - acc: 0.8039 - val_loss: 3.0567 - val_acc: 0.3950\n",
            "Epoch 26/30\n",
            "64/64 [==============================] - 1s 19ms/step - loss: 0.6743 - acc: 0.8113 - val_loss: 3.0869 - val_acc: 0.3964\n",
            "Epoch 27/30\n",
            "64/64 [==============================] - 1s 18ms/step - loss: 0.6467 - acc: 0.8177 - val_loss: 3.1081 - val_acc: 0.3957\n",
            "Epoch 28/30\n",
            "64/64 [==============================] - 1s 19ms/step - loss: 0.6330 - acc: 0.8244 - val_loss: 3.1132 - val_acc: 0.4019\n",
            "Epoch 29/30\n",
            "64/64 [==============================] - 1s 19ms/step - loss: 0.6031 - acc: 0.8362 - val_loss: 3.2191 - val_acc: 0.4026\n",
            "Epoch 30/30\n",
            "64/64 [==============================] - 1s 19ms/step - loss: 0.5766 - acc: 0.8438 - val_loss: 3.2981 - val_acc: 0.3818\n",
            "54/54 [==============================] - 0s 8ms/step - loss: 3.2349 - acc: 0.3710\n",
            "[3.2348573207855225, 0.3710247278213501]\n"
          ]
        }
      ]
    },
    {
      "cell_type": "code",
      "source": [
        "show_loss_model(history)"
      ],
      "metadata": {
        "colab": {
          "base_uri": "https://localhost:8080/",
          "height": 295
        },
        "id": "gATGP9-9ehsL",
        "outputId": "2a542307-b8ec-4f86-bc23-a90efcd5ccb8"
      },
      "execution_count": 34,
      "outputs": [
        {
          "output_type": "display_data",
          "data": {
            "text/plain": [
              "<Figure size 432x288 with 1 Axes>"
            ],
            "image/png": "[encoded data removed]"
          },
          "metadata": {
            "needs_background": "light"
          }
        }
      ]
    },
    {
      "cell_type": "code",
      "source": [
        "show_accuracy_model(history)"
      ],
      "metadata": {
        "colab": {
          "base_uri": "https://localhost:8080/",
          "height": 295
        },
        "id": "gCICwHUre9jT",
        "outputId": "476a945d-94a9-48c4-8c60-c9aea5989c4a"
      },
      "execution_count": 35,
      "outputs": [
        {
          "output_type": "display_data",
          "data": {
            "text/plain": [
              "<Figure size 432x288 with 1 Axes>"
            ],
            "image/png": "[encoded data removed]"
          },
          "metadata": {
            "needs_background": "light"
          }
        }
      ]
    },
    {
      "cell_type": "markdown",
      "source": [
        "Conv1d Model"
      ],
      "metadata": {
        "id": "O31eGVWvfGMN"
      }
    },
    {
      "cell_type": "code",
      "source": [
        "model = Sequential([\n",
        "                    Embedding(num_words, 16, input_length=max_len),\n",
        "                    Conv1D(32, 7, activation='relu'),\n",
        "                    MaxPooling1D(3),\n",
        "                    Conv1D(32, 5, activation='relu'),\n",
        "                    GlobalMaxPooling1D(),\n",
        "                    Dense(20, activation='softmax')\n",
        "])\n",
        "model.summary()"
      ],
      "metadata": {
        "colab": {
          "base_uri": "https://localhost:8080/"
        },
        "id": "spK__OHgfAuD",
        "outputId": "8451a2f8-254a-49c4-c2e0-9a87df1c03b7"
      },
      "execution_count": 36,
      "outputs": [
        {
          "output_type": "stream",
          "name": "stdout",
          "text": [
            "Model: \"sequential_5\"\n",
            "_________________________________________________________________\n",
            " Layer (type)                Output Shape              Param #   \n",
            "=================================================================\n",
            " embedding_5 (Embedding)     (None, 30, 16)            48000     \n",
            "                                                                 \n",
            " conv1d (Conv1D)             (None, 24, 32)            3616      \n",
            "                                                                 \n",
            " max_pooling1d (MaxPooling1D  (None, 8, 32)            0         \n",
            " )                                                               \n",
            "                                                                 \n",
            " conv1d_1 (Conv1D)           (None, 4, 32)             5152      \n",
            "                                                                 \n",
            " global_max_pooling1d (Globa  (None, 32)               0         \n",
            " lMaxPooling1D)                                                  \n",
            "                                                                 \n",
            " dense_7 (Dense)             (None, 20)                660       \n",
            "                                                                 \n",
            "=================================================================\n",
            "Total params: 57,428\n",
            "Trainable params: 57,428\n",
            "Non-trainable params: 0\n",
            "_________________________________________________________________\n"
          ]
        }
      ]
    },
    {
      "cell_type": "code",
      "source": [
        "history = train_model(model)"
      ],
      "metadata": {
        "colab": {
          "base_uri": "https://localhost:8080/"
        },
        "id": "jOpQRhtLgHOU",
        "outputId": "84a7a56c-affb-4b71-b102-1e0468837138"
      },
      "execution_count": 37,
      "outputs": [
        {
          "output_type": "stream",
          "name": "stdout",
          "text": [
            "Epoch 1/30\n",
            "64/64 [==============================] - 7s 14ms/step - loss: 2.9907 - acc: 0.0536 - val_loss: 2.9859 - val_acc: 0.0700\n",
            "Epoch 2/30\n",
            "64/64 [==============================] - 1s 9ms/step - loss: 2.9626 - acc: 0.0975 - val_loss: 2.9459 - val_acc: 0.1040\n",
            "Epoch 3/30\n",
            "64/64 [==============================] - 1s 9ms/step - loss: 2.8155 - acc: 0.1702 - val_loss: 2.6882 - val_acc: 0.1857\n",
            "Epoch 4/30\n",
            "64/64 [==============================] - 1s 9ms/step - loss: 2.4001 - acc: 0.2698 - val_loss: 2.4142 - val_acc: 0.2405\n",
            "Epoch 5/30\n",
            "64/64 [==============================] - 1s 8ms/step - loss: 2.0539 - acc: 0.3580 - val_loss: 2.3153 - val_acc: 0.2800\n",
            "Epoch 6/30\n",
            "64/64 [==============================] - 1s 9ms/step - loss: 1.8118 - acc: 0.4402 - val_loss: 2.2870 - val_acc: 0.3146\n",
            "Epoch 7/30\n",
            "64/64 [==============================] - 1s 9ms/step - loss: 1.6177 - acc: 0.4954 - val_loss: 2.2514 - val_acc: 0.3216\n",
            "Epoch 8/30\n",
            "64/64 [==============================] - 1s 9ms/step - loss: 1.4427 - acc: 0.5571 - val_loss: 2.2679 - val_acc: 0.3389\n",
            "Epoch 9/30\n",
            "64/64 [==============================] - 1s 8ms/step - loss: 1.2919 - acc: 0.6053 - val_loss: 2.3156 - val_acc: 0.3708\n",
            "Epoch 10/30\n",
            "64/64 [==============================] - 1s 8ms/step - loss: 1.1622 - acc: 0.6474 - val_loss: 2.3556 - val_acc: 0.3638\n",
            "Epoch 11/30\n",
            "64/64 [==============================] - 1s 8ms/step - loss: 1.0510 - acc: 0.6810 - val_loss: 2.4351 - val_acc: 0.3791\n",
            "Epoch 12/30\n",
            "64/64 [==============================] - 1s 8ms/step - loss: 0.9489 - acc: 0.7170 - val_loss: 2.5201 - val_acc: 0.3874\n",
            "Epoch 13/30\n",
            "64/64 [==============================] - 1s 8ms/step - loss: 0.8579 - acc: 0.7487 - val_loss: 2.5858 - val_acc: 0.3888\n",
            "Epoch 14/30\n",
            "64/64 [==============================] - 1s 8ms/step - loss: 0.7793 - acc: 0.7763 - val_loss: 2.6973 - val_acc: 0.3950\n",
            "Epoch 15/30\n",
            "64/64 [==============================] - 1s 8ms/step - loss: 0.7021 - acc: 0.8024 - val_loss: 2.8026 - val_acc: 0.3957\n",
            "Epoch 16/30\n",
            "64/64 [==============================] - 1s 8ms/step - loss: 0.6281 - acc: 0.8281 - val_loss: 2.8962 - val_acc: 0.3957\n",
            "Epoch 17/30\n",
            "64/64 [==============================] - 1s 9ms/step - loss: 0.5626 - acc: 0.8499 - val_loss: 3.0665 - val_acc: 0.3902\n",
            "Epoch 18/30\n",
            "64/64 [==============================] - 1s 8ms/step - loss: 0.5074 - acc: 0.8743 - val_loss: 3.1465 - val_acc: 0.4026\n",
            "Epoch 19/30\n",
            "64/64 [==============================] - 1s 8ms/step - loss: 0.4492 - acc: 0.8907 - val_loss: 3.2890 - val_acc: 0.3985\n",
            "Epoch 20/30\n",
            "64/64 [==============================] - 1s 9ms/step - loss: 0.3950 - acc: 0.9104 - val_loss: 3.4324 - val_acc: 0.4033\n",
            "Epoch 21/30\n",
            "64/64 [==============================] - 1s 9ms/step - loss: 0.3497 - acc: 0.9295 - val_loss: 3.5533 - val_acc: 0.4061\n",
            "Epoch 22/30\n",
            "64/64 [==============================] - 1s 8ms/step - loss: 0.3073 - acc: 0.9387 - val_loss: 3.6938 - val_acc: 0.4040\n",
            "Epoch 23/30\n",
            "64/64 [==============================] - 1s 13ms/step - loss: 0.2687 - acc: 0.9511 - val_loss: 3.8698 - val_acc: 0.4026\n",
            "Epoch 24/30\n",
            "64/64 [==============================] - 1s 11ms/step - loss: 0.2358 - acc: 0.9607 - val_loss: 4.0239 - val_acc: 0.3950\n",
            "Epoch 25/30\n",
            "64/64 [==============================] - 1s 11ms/step - loss: 0.2090 - acc: 0.9675 - val_loss: 4.1730 - val_acc: 0.4089\n",
            "Epoch 26/30\n",
            "64/64 [==============================] - 1s 12ms/step - loss: 0.1812 - acc: 0.9741 - val_loss: 4.3317 - val_acc: 0.4019\n",
            "Epoch 27/30\n",
            "64/64 [==============================] - 1s 9ms/step - loss: 0.1601 - acc: 0.9790 - val_loss: 4.4735 - val_acc: 0.4019\n",
            "Epoch 28/30\n",
            "64/64 [==============================] - 1s 8ms/step - loss: 0.1410 - acc: 0.9819 - val_loss: 4.6122 - val_acc: 0.3985\n",
            "Epoch 29/30\n",
            "64/64 [==============================] - 1s 8ms/step - loss: 0.1282 - acc: 0.9846 - val_loss: 4.7540 - val_acc: 0.3985\n",
            "Epoch 30/30\n",
            "64/64 [==============================] - 1s 8ms/step - loss: 0.1126 - acc: 0.9850 - val_loss: 4.8729 - val_acc: 0.3978\n",
            "54/54 [==============================] - 0s 4ms/step - loss: 4.9192 - acc: 0.3952\n",
            "[4.919188499450684, 0.39517077803611755]\n"
          ]
        }
      ]
    },
    {
      "cell_type": "code",
      "source": [
        "show_loss_model(history)"
      ],
      "metadata": {
        "colab": {
          "base_uri": "https://localhost:8080/",
          "height": 295
        },
        "id": "4pKuhhDAgOUj",
        "outputId": "0cfab597-4764-428e-cb36-c6fdf6db1372"
      },
      "execution_count": 38,
      "outputs": [
        {
          "output_type": "display_data",
          "data": {
            "text/plain": [
              "<Figure size 432x288 with 1 Axes>"
            ],
            "image/png": "[encoded data removed]"
          },
          "metadata": {
            "needs_background": "light"
          }
        }
      ]
    },
    {
      "cell_type": "code",
      "source": [
        "show_accuracy_model(history)"
      ],
      "metadata": {
        "colab": {
          "base_uri": "https://localhost:8080/",
          "height": 295
        },
        "id": "9fjKxcEigS17",
        "outputId": "79ec4684-274a-4621-e303-384ec7106fc0"
      },
      "execution_count": 39,
      "outputs": [
        {
          "output_type": "display_data",
          "data": {
            "text/plain": [
              "<Figure size 432x288 with 1 Axes>"
            ],
            "image/png": "[encoded data removed]"
          },
          "metadata": {
            "needs_background": "light"
          }
        }
      ]
    },
    {
      "cell_type": "code",
      "source": [
        ""
      ],
      "metadata": {
        "id": "_WPgHaJYgW87"
      },
      "execution_count": null,
      "outputs": []
    }
  ]
}