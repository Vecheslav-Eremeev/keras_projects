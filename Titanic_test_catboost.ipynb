{
  "nbformat": 4,
  "nbformat_minor": 0,
  "metadata": {
    "colab": {
      "name": "Titanic test catboost",
      "provenance": [],
      "collapsed_sections": [],
      "authorship_tag": "ABX9TyMsJC7SOaKVhEOAWEdiMueq",
      "include_colab_link": true
    },
    "kernelspec": {
      "name": "python3",
      "display_name": "Python 3"
    },
    "language_info": {
      "name": "python"
    },
    "widgets": {
      "application/vnd.jupyter.widget-state+json": {
        "e90fafdc6e774e9a9f8b70523a0368db": {
          "model_module": "catboost-widget",
          "model_name": "CatboostWidgetModel",
          "model_module_version": "^1.0.0",
          "state": {
            "_dom_classes": [],
            "_model_module": "catboost-widget",
            "_model_module_version": "^1.0.0",
            "_model_name": "CatboostWidgetModel",
            "_view_count": null,
            "_view_module": "catboost-widget",
            "_view_module_version": "^1.0.0",
            "_view_name": "CatboostWidgetView",
            "data": {
              "catboost_info": {
                "path": "catboost_info",
                "name": "catboost_info",
                "content": {
                  "passed_iterations": 999,
                  "total_iterations": 1000,
                  "data": {
                    "iterations": [
                      {
                        "learn": [
                          0.6720667548,
                          0.8383233533
                        ],
                        "iteration": 0,
                        "passed_time": 0.06582079187,
                        "remaining_time": 65.75497108,
                        "test": [
                          0.6738814995,
                          0.8161434978
                        ]
                      },
                      {
                        "learn": [
                          0.6619746919,
                          0.8308383234
                        ],
                        "iteration": 1,
                        "passed_time": 0.06801846319,
                        "remaining_time": 33.94121313,
                        "test": [
                          0.6640009246,
                          0.8071748879
                        ]
                      },
                      {
                        "learn": [
                          0.6471299676,
                          0.8203592814
                        ],
                        "iteration": 2,
                        "passed_time": 0.07575888194,
                        "remaining_time": 25.17720176,
                        "test": [
                          0.648919496,
                          0.8071748879
                        ]
                      },
                      {
                        "learn": [
                          0.6383249085,
                          0.7994011976
                        ],
                        "iteration": 3,
                        "passed_time": 0.07704266042,
                        "remaining_time": 19.18362244,
                        "test": [
                          0.6403234071,
                          0.7847533632
                        ]
                      },
                      {
                        "learn": [
                          0.6238421024,
                          0.7994011976
                        ],
                        "iteration": 4,
                        "passed_time": 0.08449582347,
                        "remaining_time": 16.81466887,
                        "test": [
                          0.6254058126,
                          0.7847533632
                        ]
                      },
                      {
                        "learn": [
                          0.6069533095,
                          0.8128742515
                        ],
                        "iteration": 5,
                        "passed_time": 0.09410171579,
                        "remaining_time": 15.58951758,
                        "test": [
                          0.6106226865,
                          0.8071748879
                        ]
                      },
                      {
                        "learn": [
                          0.5936838068,
                          0.8188622754
                        ],
                        "iteration": 6,
                        "passed_time": 0.09757201961,
                        "remaining_time": 13.84128793,
                        "test": [
                          0.5979998573,
                          0.8071748879
                        ]
                      },
                      {
                        "learn": [
                          0.5819382486,
                          0.8233532934
                        ],
                        "iteration": 7,
                        "passed_time": 0.1080812074,
                        "remaining_time": 13.40206972,
                        "test": [
                          0.5865629316,
                          0.8071748879
                        ]
                      },
                      {
                        "learn": [
                          0.5758470377,
                          0.8188622754
                        ],
                        "iteration": 8,
                        "passed_time": 0.1097709264,
                        "remaining_time": 12.08699867,
                        "test": [
                          0.5807339553,
                          0.8071748879
                        ]
                      },
                      {
                        "learn": [
                          0.5652976239,
                          0.8188622754
                        ],
                        "iteration": 9,
                        "passed_time": 0.1132971764,
                        "remaining_time": 11.21642047,
                        "test": [
                          0.570687186,
                          0.8071748879
                        ]
                      },
                      {
                        "learn": [
                          0.5529076452,
                          0.8203592814
                        ],
                        "iteration": 10,
                        "passed_time": 0.1176336641,
                        "remaining_time": 10.5763358,
                        "test": [
                          0.560761446,
                          0.8071748879
                        ]
                      },
                      {
                        "learn": [
                          0.5437868855,
                          0.8203592814
                        ],
                        "iteration": 11,
                        "passed_time": 0.1228472566,
                        "remaining_time": 10.11442413,
                        "test": [
                          0.5530593308,
                          0.8071748879
                        ]
                      },
                      {
                        "learn": [
                          0.5337055037,
                          0.8203592814
                        ],
                        "iteration": 12,
                        "passed_time": 0.1267790954,
                        "remaining_time": 9.625459013,
                        "test": [
                          0.5441699509,
                          0.8071748879
                        ]
                      },
                      {
                        "learn": [
                          0.529506192,
                          0.8188622754
                        ],
                        "iteration": 13,
                        "passed_time": 0.1284545179,
                        "remaining_time": 9.046868189,
                        "test": [
                          0.5402237107,
                          0.8071748879
                        ]
                      },
                      {
                        "learn": [
                          0.525564314,
                          0.8188622754
                        ],
                        "iteration": 14,
                        "passed_time": 0.1301240124,
                        "remaining_time": 8.544810151,
                        "test": [
                          0.5365228455,
                          0.7937219731
                        ]
                      },
                      {
                        "learn": [
                          0.516657649,
                          0.8233532934
                        ],
                        "iteration": 15,
                        "passed_time": 0.1420509258,
                        "remaining_time": 8.736131939,
                        "test": [
                          0.5284597625,
                          0.8071748879
                        ]
                      },
                      {
                        "learn": [
                          0.5118453915,
                          0.8233532934
                        ],
                        "iteration": 16,
                        "passed_time": 0.1439363307,
                        "remaining_time": 8.322906654,
                        "test": [
                          0.5229350464,
                          0.8071748879
                        ]
                      },
                      {
                        "learn": [
                          0.5086474184,
                          0.8218562874
                        ],
                        "iteration": 17,
                        "passed_time": 0.1455756483,
                        "remaining_time": 7.94196037,
                        "test": [
                          0.5199392443,
                          0.802690583
                        ]
                      },
                      {
                        "learn": [
                          0.5007545899,
                          0.8263473054
                        ],
                        "iteration": 18,
                        "passed_time": 0.1502256559,
                        "remaining_time": 7.756387813,
                        "test": [
                          0.5136615847,
                          0.8116591928
                        ]
                      },
                      {
                        "learn": [
                          0.4937403012,
                          0.8263473054
                        ],
                        "iteration": 19,
                        "passed_time": 0.1560414889,
                        "remaining_time": 7.646032954,
                        "test": [
                          0.5085076185,
                          0.8116591928
                        ]
                      },
                      {
                        "learn": [
                          0.4863962102,
                          0.8278443114
                        ],
                        "iteration": 20,
                        "passed_time": 0.1601395338,
                        "remaining_time": 7.465552552,
                        "test": [
                          0.501625098,
                          0.8071748879
                        ]
                      },
                      {
                        "learn": [
                          0.4806742103,
                          0.8278443114
                        ],
                        "iteration": 21,
                        "passed_time": 0.1667692349,
                        "remaining_time": 7.413650531,
                        "test": [
                          0.4960510913,
                          0.8071748879
                        ]
                      },
                      {
                        "learn": [
                          0.4765855818,
                          0.8278443114
                        ],
                        "iteration": 22,
                        "passed_time": 0.1684617049,
                        "remaining_time": 7.155960248,
                        "test": [
                          0.4925334563,
                          0.8071748879
                        ]
                      },
                      {
                        "learn": [
                          0.4720758764,
                          0.8293413174
                        ],
                        "iteration": 23,
                        "passed_time": 0.1733683449,
                        "remaining_time": 7.050312694,
                        "test": [
                          0.488976713,
                          0.8071748879
                        ]
                      },
                      {
                        "learn": [
                          0.4670181071,
                          0.8308383234
                        ],
                        "iteration": 24,
                        "passed_time": 0.185258548,
                        "remaining_time": 7.225083374,
                        "test": [
                          0.4853812141,
                          0.8116591928
                        ]
                      },
                      {
                        "learn": [
                          0.4652328853,
                          0.8293413174
                        ],
                        "iteration": 25,
                        "passed_time": 0.1869930232,
                        "remaining_time": 7.005046331,
                        "test": [
                          0.483767232,
                          0.8116591928
                        ]
                      },
                      {
                        "learn": [
                          0.4604755172,
                          0.8293413174
                        ],
                        "iteration": 26,
                        "passed_time": 0.2030290662,
                        "remaining_time": 7.316565977,
                        "test": [
                          0.4801271765,
                          0.8116591928
                        ]
                      },
                      {
                        "learn": [
                          0.4549993496,
                          0.8338323353
                        ],
                        "iteration": 27,
                        "passed_time": 0.2103563902,
                        "remaining_time": 7.302371832,
                        "test": [
                          0.476538725,
                          0.8071748879
                        ]
                      },
                      {
                        "learn": [
                          0.4529558067,
                          0.8293413174
                        ],
                        "iteration": 28,
                        "passed_time": 0.2168813421,
                        "remaining_time": 7.261785626,
                        "test": [
                          0.4750423415,
                          0.8071748879
                        ]
                      },
                      {
                        "learn": [
                          0.4521471812,
                          0.8323353293
                        ],
                        "iteration": 29,
                        "passed_time": 0.2184679922,
                        "remaining_time": 7.063798413,
                        "test": [
                          0.4741975732,
                          0.8071748879
                        ]
                      },
                      {
                        "learn": [
                          0.4506313573,
                          0.8323353293
                        ],
                        "iteration": 30,
                        "passed_time": 0.2275943439,
                        "remaining_time": 7.114158685,
                        "test": [
                          0.4729548034,
                          0.8071748879
                        ]
                      },
                      {
                        "learn": [
                          0.4467522246,
                          0.8293413174
                        ],
                        "iteration": 31,
                        "passed_time": 0.2427236382,
                        "remaining_time": 7.342390054,
                        "test": [
                          0.4708293819,
                          0.8071748879
                        ]
                      },
                      {
                        "learn": [
                          0.4448313531,
                          0.8308383234
                        ],
                        "iteration": 32,
                        "passed_time": 0.2470578997,
                        "remaining_time": 7.239545122,
                        "test": [
                          0.4690615636,
                          0.8116591928
                        ]
                      },
                      {
                        "learn": [
                          0.442609991,
                          0.8338323353
                        ],
                        "iteration": 33,
                        "passed_time": 0.2495779467,
                        "remaining_time": 7.090949899,
                        "test": [
                          0.4674084401,
                          0.8116591928
                        ]
                      },
                      {
                        "learn": [
                          0.438597485,
                          0.8353293413
                        ],
                        "iteration": 34,
                        "passed_time": 0.2550105642,
                        "remaining_time": 7.031005557,
                        "test": [
                          0.4651182522,
                          0.8161434978
                        ]
                      },
                      {
                        "learn": [
                          0.4357789941,
                          0.8413173653
                        ],
                        "iteration": 35,
                        "passed_time": 0.259020623,
                        "remaining_time": 6.935996684,
                        "test": [
                          0.4631134514,
                          0.8161434978
                        ]
                      },
                      {
                        "learn": [
                          0.4318837983,
                          0.8428143713
                        ],
                        "iteration": 36,
                        "passed_time": 0.2759883159,
                        "remaining_time": 7.183155356,
                        "test": [
                          0.4606322921,
                          0.8161434978
                        ]
                      },
                      {
                        "learn": [
                          0.4289865319,
                          0.8458083832
                        ],
                        "iteration": 37,
                        "passed_time": 0.2812428663,
                        "remaining_time": 7.119885195,
                        "test": [
                          0.4590627577,
                          0.8116591928
                        ]
                      },
                      {
                        "learn": [
                          0.4265543905,
                          0.8458083832
                        ],
                        "iteration": 38,
                        "passed_time": 0.2839206923,
                        "remaining_time": 6.996097059,
                        "test": [
                          0.4578085153,
                          0.8116591928
                        ]
                      },
                      {
                        "learn": [
                          0.4254034845,
                          0.8458083832
                        ],
                        "iteration": 39,
                        "passed_time": 0.28729899,
                        "remaining_time": 6.89517576,
                        "test": [
                          0.456664001,
                          0.8161434978
                        ]
                      },
                      {
                        "learn": [
                          0.4244750895,
                          0.8473053892
                        ],
                        "iteration": 40,
                        "passed_time": 0.2905945241,
                        "remaining_time": 6.797076796,
                        "test": [
                          0.4560886898,
                          0.8161434978
                        ]
                      },
                      {
                        "learn": [
                          0.4227530512,
                          0.8502994012
                        ],
                        "iteration": 41,
                        "passed_time": 0.2960126797,
                        "remaining_time": 6.751908265,
                        "test": [
                          0.4551385478,
                          0.8251121076
                        ]
                      },
                      {
                        "learn": [
                          0.419919274,
                          0.8502994012
                        ],
                        "iteration": 42,
                        "passed_time": 0.2998377136,
                        "remaining_time": 6.673132371,
                        "test": [
                          0.453533953,
                          0.8206278027
                        ]
                      },
                      {
                        "learn": [
                          0.4174162654,
                          0.8502994012
                        ],
                        "iteration": 43,
                        "passed_time": 0.3163429547,
                        "remaining_time": 6.873269653,
                        "test": [
                          0.4520885816,
                          0.8251121076
                        ]
                      },
                      {
                        "learn": [
                          0.4166539397,
                          0.8473053892
                        ],
                        "iteration": 44,
                        "passed_time": 0.3221539269,
                        "remaining_time": 6.836822226,
                        "test": [
                          0.4511673933,
                          0.8251121076
                        ]
                      },
                      {
                        "learn": [
                          0.4151154953,
                          0.8502994012
                        ],
                        "iteration": 45,
                        "passed_time": 0.3321192215,
                        "remaining_time": 6.887863855,
                        "test": [
                          0.4503794033,
                          0.8251121076
                        ]
                      },
                      {
                        "learn": [
                          0.4142210356,
                          0.8473053892
                        ],
                        "iteration": 46,
                        "passed_time": 0.3664048955,
                        "remaining_time": 7.429443946,
                        "test": [
                          0.4498256414,
                          0.8251121076
                        ]
                      },
                      {
                        "learn": [
                          0.41220669,
                          0.8517964072
                        ],
                        "iteration": 47,
                        "passed_time": 0.3849046689,
                        "remaining_time": 7.633942599,
                        "test": [
                          0.4481909891,
                          0.8251121076
                        ]
                      },
                      {
                        "learn": [
                          0.4118307631,
                          0.8502994012
                        ],
                        "iteration": 48,
                        "passed_time": 0.3907902446,
                        "remaining_time": 7.58452087,
                        "test": [
                          0.4478191218,
                          0.8251121076
                        ]
                      },
                      {
                        "learn": [
                          0.4100903069,
                          0.8517964072
                        ],
                        "iteration": 49,
                        "passed_time": 0.394777552,
                        "remaining_time": 7.500773488,
                        "test": [
                          0.4470715131,
                          0.8251121076
                        ]
                      },
                      {
                        "learn": [
                          0.4081803448,
                          0.8473053892
                        ],
                        "iteration": 50,
                        "passed_time": 0.3997487113,
                        "remaining_time": 7.438461314,
                        "test": [
                          0.4457059682,
                          0.8251121076
                        ]
                      },
                      {
                        "learn": [
                          0.4064522985,
                          0.8488023952
                        ],
                        "iteration": 51,
                        "passed_time": 0.4044654166,
                        "remaining_time": 7.373715672,
                        "test": [
                          0.4450690011,
                          0.8251121076
                        ]
                      },
                      {
                        "learn": [
                          0.4037354992,
                          0.8532934132
                        ],
                        "iteration": 52,
                        "passed_time": 0.419756592,
                        "remaining_time": 7.500179107,
                        "test": [
                          0.4440809884,
                          0.8251121076
                        ]
                      },
                      {
                        "learn": [
                          0.4023971139,
                          0.8517964072
                        ],
                        "iteration": 53,
                        "passed_time": 0.4301966024,
                        "remaining_time": 7.536407146,
                        "test": [
                          0.4436043634,
                          0.8295964126
                        ]
                      },
                      {
                        "learn": [
                          0.4004141828,
                          0.8547904192
                        ],
                        "iteration": 54,
                        "passed_time": 0.4396830677,
                        "remaining_time": 7.554554527,
                        "test": [
                          0.4433168092,
                          0.8251121076
                        ]
                      },
                      {
                        "learn": [
                          0.39945471,
                          0.8547904192
                        ],
                        "iteration": 55,
                        "passed_time": 0.4479280319,
                        "remaining_time": 7.550786823,
                        "test": [
                          0.4429971475,
                          0.8251121076
                        ]
                      },
                      {
                        "learn": [
                          0.3993673384,
                          0.8532934132
                        ],
                        "iteration": 56,
                        "passed_time": 0.4490614497,
                        "remaining_time": 7.429209597,
                        "test": [
                          0.4428753921,
                          0.8251121076
                        ]
                      },
                      {
                        "learn": [
                          0.3985113004,
                          0.8547904192
                        ],
                        "iteration": 57,
                        "passed_time": 0.4589831403,
                        "remaining_time": 7.454519278,
                        "test": [
                          0.442494354,
                          0.8295964126
                        ]
                      },
                      {
                        "learn": [
                          0.3976670314,
                          0.8547904192
                        ],
                        "iteration": 58,
                        "passed_time": 0.469941049,
                        "remaining_time": 7.495161477,
                        "test": [
                          0.4420661113,
                          0.8295964126
                        ]
                      },
                      {
                        "learn": [
                          0.3962518762,
                          0.8562874251
                        ],
                        "iteration": 59,
                        "passed_time": 0.4838403504,
                        "remaining_time": 7.58016549,
                        "test": [
                          0.4421366098,
                          0.8295964126
                        ]
                      },
                      {
                        "learn": [
                          0.3943330617,
                          0.8547904192
                        ],
                        "iteration": 60,
                        "passed_time": 0.5017889551,
                        "remaining_time": 7.724259489,
                        "test": [
                          0.4413992048,
                          0.8295964126
                        ]
                      },
                      {
                        "learn": [
                          0.3940848986,
                          0.8547904192
                        ],
                        "iteration": 61,
                        "passed_time": 0.5032276256,
                        "remaining_time": 7.61334698,
                        "test": [
                          0.4413409231,
                          0.8295964126
                        ]
                      },
                      {
                        "learn": [
                          0.3922805526,
                          0.8547904192
                        ],
                        "iteration": 62,
                        "passed_time": 0.5078926487,
                        "remaining_time": 7.553895425,
                        "test": [
                          0.4406759469,
                          0.8251121076
                        ]
                      },
                      {
                        "learn": [
                          0.3910249516,
                          0.8577844311
                        ],
                        "iteration": 63,
                        "passed_time": 0.5209631968,
                        "remaining_time": 7.619086754,
                        "test": [
                          0.4404725164,
                          0.8251121076
                        ]
                      },
                      {
                        "learn": [
                          0.3893258504,
                          0.8577844311
                        ],
                        "iteration": 64,
                        "passed_time": 0.5336381619,
                        "remaining_time": 7.676179713,
                        "test": [
                          0.4404674329,
                          0.8206278027
                        ]
                      },
                      {
                        "learn": [
                          0.3890999429,
                          0.8607784431
                        ],
                        "iteration": 65,
                        "passed_time": 0.5430381886,
                        "remaining_time": 7.684813154,
                        "test": [
                          0.440273875,
                          0.8206278027
                        ]
                      },
                      {
                        "learn": [
                          0.38793234,
                          0.8592814371
                        ],
                        "iteration": 66,
                        "passed_time": 0.5568320281,
                        "remaining_time": 7.754093765,
                        "test": [
                          0.4397483357,
                          0.8206278027
                        ]
                      },
                      {
                        "learn": [
                          0.3876093112,
                          0.8622754491
                        ],
                        "iteration": 67,
                        "passed_time": 0.560360537,
                        "remaining_time": 7.680235596,
                        "test": [
                          0.4390657489,
                          0.8251121076
                        ]
                      },
                      {
                        "learn": [
                          0.3875681974,
                          0.8622754491
                        ],
                        "iteration": 68,
                        "passed_time": 0.5634354504,
                        "remaining_time": 7.602295715,
                        "test": [
                          0.4389984247,
                          0.8251121076
                        ]
                      },
                      {
                        "learn": [
                          0.386788081,
                          0.8592814371
                        ],
                        "iteration": 69,
                        "passed_time": 0.5693616974,
                        "remaining_time": 7.564376837,
                        "test": [
                          0.4388488374,
                          0.8251121076
                        ]
                      },
                      {
                        "learn": [
                          0.3859781395,
                          0.8577844311
                        ],
                        "iteration": 70,
                        "passed_time": 0.5795523767,
                        "remaining_time": 7.583157154,
                        "test": [
                          0.438570789,
                          0.8251121076
                        ]
                      },
                      {
                        "learn": [
                          0.3857677943,
                          0.8592814371
                        ],
                        "iteration": 71,
                        "passed_time": 0.5863528775,
                        "remaining_time": 7.557437087,
                        "test": [
                          0.4384491621,
                          0.8251121076
                        ]
                      },
                      {
                        "learn": [
                          0.384870816,
                          0.8577844311
                        ],
                        "iteration": 72,
                        "passed_time": 0.6064868826,
                        "remaining_time": 7.701552605,
                        "test": [
                          0.4378480282,
                          0.8251121076
                        ]
                      },
                      {
                        "learn": [
                          0.3841364774,
                          0.8547904192
                        ],
                        "iteration": 73,
                        "passed_time": 0.6151010075,
                        "remaining_time": 7.69707477,
                        "test": [
                          0.4372738287,
                          0.8251121076
                        ]
                      },
                      {
                        "learn": [
                          0.3841079163,
                          0.8547904192
                        ],
                        "iteration": 74,
                        "passed_time": 0.6211852584,
                        "remaining_time": 7.661284853,
                        "test": [
                          0.4372237373,
                          0.8251121076
                        ]
                      },
                      {
                        "learn": [
                          0.3830639641,
                          0.8547904192
                        ],
                        "iteration": 75,
                        "passed_time": 0.6246729847,
                        "remaining_time": 7.594708393,
                        "test": [
                          0.4364456121,
                          0.8251121076
                        ]
                      },
                      {
                        "learn": [
                          0.3819423581,
                          0.8577844311
                        ],
                        "iteration": 76,
                        "passed_time": 0.6356956005,
                        "remaining_time": 7.620091419,
                        "test": [
                          0.4363239219,
                          0.8251121076
                        ]
                      },
                      {
                        "learn": [
                          0.3815230772,
                          0.8577844311
                        ],
                        "iteration": 77,
                        "passed_time": 0.639279248,
                        "remaining_time": 7.556608546,
                        "test": [
                          0.4354587948,
                          0.8251121076
                        ]
                      },
                      {
                        "learn": [
                          0.380077275,
                          0.8562874251
                        ],
                        "iteration": 78,
                        "passed_time": 0.6477325584,
                        "remaining_time": 7.55141375,
                        "test": [
                          0.4349954074,
                          0.8295964126
                        ]
                      },
                      {
                        "learn": [
                          0.3789550409,
                          0.8577844311
                        ],
                        "iteration": 79,
                        "passed_time": 0.6752079882,
                        "remaining_time": 7.764891865,
                        "test": [
                          0.4352929808,
                          0.8295964126
                        ]
                      },
                      {
                        "learn": [
                          0.3788513051,
                          0.8562874251
                        ],
                        "iteration": 80,
                        "passed_time": 0.6805582435,
                        "remaining_time": 7.72139538,
                        "test": [
                          0.4352322409,
                          0.8251121076
                        ]
                      },
                      {
                        "learn": [
                          0.3780842903,
                          0.8577844311
                        ],
                        "iteration": 81,
                        "passed_time": 0.6911321942,
                        "remaining_time": 7.737309198,
                        "test": [
                          0.4353938826,
                          0.8251121076
                        ]
                      },
                      {
                        "learn": [
                          0.3776639182,
                          0.8562874251
                        ],
                        "iteration": 82,
                        "passed_time": 0.7009868526,
                        "remaining_time": 7.744637877,
                        "test": [
                          0.4355822326,
                          0.8251121076
                        ]
                      },
                      {
                        "learn": [
                          0.3771241495,
                          0.8562874251
                        ],
                        "iteration": 83,
                        "passed_time": 0.713135192,
                        "remaining_time": 7.776569475,
                        "test": [
                          0.435371074,
                          0.8251121076
                        ]
                      },
                      {
                        "learn": [
                          0.3765642013,
                          0.8562874251
                        ],
                        "iteration": 84,
                        "passed_time": 0.7256619875,
                        "remaining_time": 7.811537866,
                        "test": [
                          0.4348143926,
                          0.8251121076
                        ]
                      },
                      {
                        "learn": [
                          0.3762845212,
                          0.8562874251
                        ],
                        "iteration": 85,
                        "passed_time": 0.7347298988,
                        "remaining_time": 7.808641017,
                        "test": [
                          0.4343511794,
                          0.8251121076
                        ]
                      },
                      {
                        "learn": [
                          0.3754434677,
                          0.8562874251
                        ],
                        "iteration": 86,
                        "passed_time": 0.7459956531,
                        "remaining_time": 7.828667026,
                        "test": [
                          0.4345874718,
                          0.8251121076
                        ]
                      },
                      {
                        "learn": [
                          0.3746771958,
                          0.8577844311
                        ],
                        "iteration": 87,
                        "passed_time": 0.7562132452,
                        "remaining_time": 7.837119087,
                        "test": [
                          0.4352688717,
                          0.8251121076
                        ]
                      },
                      {
                        "learn": [
                          0.3743519019,
                          0.8577844311
                        ],
                        "iteration": 88,
                        "passed_time": 0.7671549318,
                        "remaining_time": 7.852563403,
                        "test": [
                          0.435312895,
                          0.8251121076
                        ]
                      },
                      {
                        "learn": [
                          0.373470909,
                          0.8562874251
                        ],
                        "iteration": 89,
                        "passed_time": 0.7778055295,
                        "remaining_time": 7.864478131,
                        "test": [
                          0.4353222726,
                          0.8206278027
                        ]
                      },
                      {
                        "learn": [
                          0.3726454933,
                          0.8562874251
                        ],
                        "iteration": 90,
                        "passed_time": 0.789063587,
                        "remaining_time": 7.881964842,
                        "test": [
                          0.4345903897,
                          0.8251121076
                        ]
                      },
                      {
                        "learn": [
                          0.3723694126,
                          0.8562874251
                        ],
                        "iteration": 91,
                        "passed_time": 0.7987069418,
                        "remaining_time": 7.882890252,
                        "test": [
                          0.4343912514,
                          0.8251121076
                        ]
                      },
                      {
                        "learn": [
                          0.3723566448,
                          0.8547904192
                        ],
                        "iteration": 92,
                        "passed_time": 0.8045098603,
                        "remaining_time": 7.846133799,
                        "test": [
                          0.4343903041,
                          0.8251121076
                        ]
                      },
                      {
                        "learn": [
                          0.3723417937,
                          0.8547904192
                        ],
                        "iteration": 93,
                        "passed_time": 0.8070945939,
                        "remaining_time": 7.779018107,
                        "test": [
                          0.4343576394,
                          0.8251121076
                        ]
                      },
                      {
                        "learn": [
                          0.3719926126,
                          0.8547904192
                        ],
                        "iteration": 94,
                        "passed_time": 0.8128700066,
                        "remaining_time": 7.743656378,
                        "test": [
                          0.4348171586,
                          0.8251121076
                        ]
                      },
                      {
                        "learn": [
                          0.3719850811,
                          0.8562874251
                        ],
                        "iteration": 95,
                        "passed_time": 0.8141604247,
                        "remaining_time": 7.666677333,
                        "test": [
                          0.4347996477,
                          0.8251121076
                        ]
                      },
                      {
                        "learn": [
                          0.3715808817,
                          0.8562874251
                        ],
                        "iteration": 96,
                        "passed_time": 0.8183110526,
                        "remaining_time": 7.617885366,
                        "test": [
                          0.4347269316,
                          0.8251121076
                        ]
                      },
                      {
                        "learn": [
                          0.3707767298,
                          0.8607784431
                        ],
                        "iteration": 97,
                        "passed_time": 0.8276879784,
                        "remaining_time": 7.61810772,
                        "test": [
                          0.4345353186,
                          0.8206278027
                        ]
                      },
                      {
                        "learn": [
                          0.3693945991,
                          0.8607784431
                        ],
                        "iteration": 98,
                        "passed_time": 0.8352704769,
                        "remaining_time": 7.601805047,
                        "test": [
                          0.4340390302,
                          0.8206278027
                        ]
                      },
                      {
                        "learn": [
                          0.3686208688,
                          0.8607784431
                        ],
                        "iteration": 99,
                        "passed_time": 0.8399802652,
                        "remaining_time": 7.559822387,
                        "test": [
                          0.4346205867,
                          0.8206278027
                        ]
                      },
                      {
                        "learn": [
                          0.3682751172,
                          0.8607784431
                        ],
                        "iteration": 100,
                        "passed_time": 0.8568132015,
                        "remaining_time": 7.626485823,
                        "test": [
                          0.4344574735,
                          0.8206278027
                        ]
                      },
                      {
                        "learn": [
                          0.3677081099,
                          0.8607784431
                        ],
                        "iteration": 101,
                        "passed_time": 0.866104808,
                        "remaining_time": 7.6251188,
                        "test": [
                          0.4339287577,
                          0.8206278027
                        ]
                      },
                      {
                        "learn": [
                          0.3670420486,
                          0.8607784431
                        ],
                        "iteration": 102,
                        "passed_time": 0.8757374973,
                        "remaining_time": 7.626568301,
                        "test": [
                          0.4335809402,
                          0.8206278027
                        ]
                      },
                      {
                        "learn": [
                          0.3663987347,
                          0.8607784431
                        ],
                        "iteration": 103,
                        "passed_time": 0.8861831401,
                        "remaining_time": 7.634808592,
                        "test": [
                          0.4329932357,
                          0.8206278027
                        ]
                      },
                      {
                        "learn": [
                          0.3657773038,
                          0.8607784431
                        ],
                        "iteration": 104,
                        "passed_time": 0.9010534927,
                        "remaining_time": 7.680408342,
                        "test": [
                          0.4325177434,
                          0.8206278027
                        ]
                      },
                      {
                        "learn": [
                          0.3653489938,
                          0.8607784431
                        ],
                        "iteration": 105,
                        "passed_time": 0.9110326657,
                        "remaining_time": 7.683615124,
                        "test": [
                          0.4327638249,
                          0.8206278027
                        ]
                      },
                      {
                        "learn": [
                          0.3648558706,
                          0.8592814371
                        ],
                        "iteration": 106,
                        "passed_time": 0.922122975,
                        "remaining_time": 7.695848754,
                        "test": [
                          0.4331736171,
                          0.8206278027
                        ]
                      },
                      {
                        "learn": [
                          0.3640325168,
                          0.8607784431
                        ],
                        "iteration": 107,
                        "passed_time": 0.9325045135,
                        "remaining_time": 7.701796538,
                        "test": [
                          0.4331560799,
                          0.8206278027
                        ]
                      },
                      {
                        "learn": [
                          0.3632208948,
                          0.8607784431
                        ],
                        "iteration": 108,
                        "passed_time": 0.9429771987,
                        "remaining_time": 7.708189762,
                        "test": [
                          0.4330354413,
                          0.8206278027
                        ]
                      },
                      {
                        "learn": [
                          0.362708715,
                          0.8607784431
                        ],
                        "iteration": 109,
                        "passed_time": 0.9530882582,
                        "remaining_time": 7.711350453,
                        "test": [
                          0.4328331322,
                          0.8206278027
                        ]
                      },
                      {
                        "learn": [
                          0.361967088,
                          0.8607784431
                        ],
                        "iteration": 110,
                        "passed_time": 0.9762736386,
                        "remaining_time": 7.818984367,
                        "test": [
                          0.4323852397,
                          0.8206278027
                        ]
                      },
                      {
                        "learn": [
                          0.3613106445,
                          0.8607784431
                        ],
                        "iteration": 111,
                        "passed_time": 1.007327931,
                        "remaining_time": 7.986671453,
                        "test": [
                          0.4319233188,
                          0.8206278027
                        ]
                      },
                      {
                        "learn": [
                          0.360912603,
                          0.8622754491
                        ],
                        "iteration": 112,
                        "passed_time": 1.013673155,
                        "remaining_time": 7.956885737,
                        "test": [
                          0.4316922581,
                          0.8206278027
                        ]
                      },
                      {
                        "learn": [
                          0.360669561,
                          0.8622754491
                        ],
                        "iteration": 113,
                        "passed_time": 1.018649646,
                        "remaining_time": 7.916873562,
                        "test": [
                          0.4314851569,
                          0.8206278027
                        ]
                      },
                      {
                        "learn": [
                          0.3603860189,
                          0.8622754491
                        ],
                        "iteration": 114,
                        "passed_time": 1.021943104,
                        "remaining_time": 7.864518671,
                        "test": [
                          0.4316663059,
                          0.8206278027
                        ]
                      },
                      {
                        "learn": [
                          0.3603297915,
                          0.8622754491
                        ],
                        "iteration": 115,
                        "passed_time": 1.024590918,
                        "remaining_time": 7.808089407,
                        "test": [
                          0.4316416301,
                          0.8206278027
                        ]
                      },
                      {
                        "learn": [
                          0.3596072113,
                          0.8622754491
                        ],
                        "iteration": 116,
                        "passed_time": 1.028890651,
                        "remaining_time": 7.76504654,
                        "test": [
                          0.4308879614,
                          0.8206278027
                        ]
                      },
                      {
                        "learn": [
                          0.3588453629,
                          0.8652694611
                        ],
                        "iteration": 117,
                        "passed_time": 1.032567567,
                        "remaining_time": 7.718005033,
                        "test": [
                          0.4312838558,
                          0.8206278027
                        ]
                      },
                      {
                        "learn": [
                          0.3585895101,
                          0.8652694611
                        ],
                        "iteration": 118,
                        "passed_time": 1.037601768,
                        "remaining_time": 7.681740822,
                        "test": [
                          0.4311630961,
                          0.8206278027
                        ]
                      },
                      {
                        "learn": [
                          0.3580171125,
                          0.8667664671
                        ],
                        "iteration": 119,
                        "passed_time": 1.041317822,
                        "remaining_time": 7.636330692,
                        "test": [
                          0.4307282384,
                          0.8206278027
                        ]
                      },
                      {
                        "learn": [
                          0.3578680275,
                          0.8667664671
                        ],
                        "iteration": 120,
                        "passed_time": 1.048644946,
                        "remaining_time": 7.617842209,
                        "test": [
                          0.4307047966,
                          0.8206278027
                        ]
                      },
                      {
                        "learn": [
                          0.3578517375,
                          0.8652694611
                        ],
                        "iteration": 121,
                        "passed_time": 1.051940887,
                        "remaining_time": 7.570525398,
                        "test": [
                          0.4306945513,
                          0.8206278027
                        ]
                      },
                      {
                        "learn": [
                          0.3573197544,
                          0.8667664671
                        ],
                        "iteration": 122,
                        "passed_time": 1.059804241,
                        "remaining_time": 7.556490399,
                        "test": [
                          0.4306493358,
                          0.8206278027
                        ]
                      },
                      {
                        "learn": [
                          0.3569890544,
                          0.8682634731
                        ],
                        "iteration": 123,
                        "passed_time": 1.064849729,
                        "remaining_time": 7.522648083,
                        "test": [
                          0.4305753378,
                          0.8206278027
                        ]
                      },
                      {
                        "learn": [
                          0.3564278036,
                          0.8682634731
                        ],
                        "iteration": 124,
                        "passed_time": 1.074597414,
                        "remaining_time": 7.522181898,
                        "test": [
                          0.4305435163,
                          0.8206278027
                        ]
                      },
                      {
                        "learn": [
                          0.3558752738,
                          0.8682634731
                        ],
                        "iteration": 125,
                        "passed_time": 1.092929164,
                        "remaining_time": 7.581111821,
                        "test": [
                          0.4307747641,
                          0.8206278027
                        ]
                      },
                      {
                        "learn": [
                          0.3552359947,
                          0.8682634731
                        ],
                        "iteration": 126,
                        "passed_time": 1.110698849,
                        "remaining_time": 7.634961381,
                        "test": [
                          0.4301180566,
                          0.8206278027
                        ]
                      },
                      {
                        "learn": [
                          0.3542753935,
                          0.8682634731
                        ],
                        "iteration": 127,
                        "passed_time": 1.121083441,
                        "remaining_time": 7.637380939,
                        "test": [
                          0.4292595626,
                          0.8206278027
                        ]
                      },
                      {
                        "learn": [
                          0.3540928927,
                          0.8682634731
                        ],
                        "iteration": 128,
                        "passed_time": 1.126959535,
                        "remaining_time": 7.609160889,
                        "test": [
                          0.429167495,
                          0.8206278027
                        ]
                      },
                      {
                        "learn": [
                          0.3538665925,
                          0.8682634731
                        ],
                        "iteration": 129,
                        "passed_time": 1.140176029,
                        "remaining_time": 7.63040881,
                        "test": [
                          0.4291668621,
                          0.8206278027
                        ]
                      },
                      {
                        "learn": [
                          0.3537639338,
                          0.8682634731
                        ],
                        "iteration": 130,
                        "passed_time": 1.153111544,
                        "remaining_time": 7.649266653,
                        "test": [
                          0.4291327409,
                          0.8206278027
                        ]
                      },
                      {
                        "learn": [
                          0.3534000105,
                          0.8682634731
                        ],
                        "iteration": 131,
                        "passed_time": 1.160638027,
                        "remaining_time": 7.632074302,
                        "test": [
                          0.4290908279,
                          0.8206278027
                        ]
                      },
                      {
                        "learn": [
                          0.3528740798,
                          0.8682634731
                        ],
                        "iteration": 132,
                        "passed_time": 1.169834501,
                        "remaining_time": 7.625913627,
                        "test": [
                          0.4293158305,
                          0.8206278027
                        ]
                      },
                      {
                        "learn": [
                          0.3520764069,
                          0.8682634731
                        ],
                        "iteration": 133,
                        "passed_time": 1.175722921,
                        "remaining_time": 7.598328725,
                        "test": [
                          0.4293799426,
                          0.8206278027
                        ]
                      },
                      {
                        "learn": [
                          0.3508531146,
                          0.8682634731
                        ],
                        "iteration": 134,
                        "passed_time": 1.180494606,
                        "remaining_time": 7.563909881,
                        "test": [
                          0.4292598986,
                          0.8206278027
                        ]
                      },
                      {
                        "learn": [
                          0.3505527767,
                          0.869760479
                        ],
                        "iteration": 135,
                        "passed_time": 1.1845825,
                        "remaining_time": 7.525582942,
                        "test": [
                          0.4292492694,
                          0.8206278027
                        ]
                      },
                      {
                        "learn": [
                          0.3495770769,
                          0.869760479
                        ],
                        "iteration": 136,
                        "passed_time": 1.189906587,
                        "remaining_time": 7.49554295,
                        "test": [
                          0.4294782853,
                          0.8206278027
                        ]
                      },
                      {
                        "learn": [
                          0.3488288314,
                          0.8682634731
                        ],
                        "iteration": 137,
                        "passed_time": 1.1944319,
                        "remaining_time": 7.460871726,
                        "test": [
                          0.4292633327,
                          0.8206278027
                        ]
                      },
                      {
                        "learn": [
                          0.3484867538,
                          0.869760479
                        ],
                        "iteration": 138,
                        "passed_time": 1.203910804,
                        "remaining_time": 7.457318001,
                        "test": [
                          0.4292458372,
                          0.8206278027
                        ]
                      },
                      {
                        "learn": [
                          0.3480433355,
                          0.871257485
                        ],
                        "iteration": 139,
                        "passed_time": 1.213506134,
                        "remaining_time": 7.454394822,
                        "test": [
                          0.4291342591,
                          0.8206278027
                        ]
                      },
                      {
                        "learn": [
                          0.3478693258,
                          0.871257485
                        ],
                        "iteration": 140,
                        "passed_time": 1.222655423,
                        "remaining_time": 7.448659636,
                        "test": [
                          0.4290488937,
                          0.8206278027
                        ]
                      },
                      {
                        "learn": [
                          0.3478425559,
                          0.871257485
                        ],
                        "iteration": 141,
                        "passed_time": 1.225169852,
                        "remaining_time": 7.402786854,
                        "test": [
                          0.4290469834,
                          0.8206278027
                        ]
                      },
                      {
                        "learn": [
                          0.3473050011,
                          0.871257485
                        ],
                        "iteration": 142,
                        "passed_time": 1.23905547,
                        "remaining_time": 7.425668096,
                        "test": [
                          0.4289465669,
                          0.8206278027
                        ]
                      },
                      {
                        "learn": [
                          0.3469498538,
                          0.871257485
                        ],
                        "iteration": 143,
                        "passed_time": 1.24800255,
                        "remaining_time": 7.418681823,
                        "test": [
                          0.4289729039,
                          0.8206278027
                        ]
                      },
                      {
                        "learn": [
                          0.3469091352,
                          0.871257485
                        ],
                        "iteration": 144,
                        "passed_time": 1.257268703,
                        "remaining_time": 7.41354994,
                        "test": [
                          0.4290434124,
                          0.8206278027
                        ]
                      },
                      {
                        "learn": [
                          0.3464994191,
                          0.871257485
                        ],
                        "iteration": 145,
                        "passed_time": 1.269647374,
                        "remaining_time": 7.426567515,
                        "test": [
                          0.4295005769,
                          0.8206278027
                        ]
                      },
                      {
                        "learn": [
                          0.3459905941,
                          0.871257485
                        ],
                        "iteration": 146,
                        "passed_time": 1.280264715,
                        "remaining_time": 7.429019062,
                        "test": [
                          0.4294136744,
                          0.8206278027
                        ]
                      },
                      {
                        "learn": [
                          0.3456644384,
                          0.871257485
                        ],
                        "iteration": 147,
                        "passed_time": 1.291064437,
                        "remaining_time": 7.432343921,
                        "test": [
                          0.4294226414,
                          0.8206278027
                        ]
                      },
                      {
                        "learn": [
                          0.3447999231,
                          0.871257485
                        ],
                        "iteration": 148,
                        "passed_time": 1.298843071,
                        "remaining_time": 7.418224521,
                        "test": [
                          0.4295525628,
                          0.8206278027
                        ]
                      },
                      {
                        "learn": [
                          0.3446122029,
                          0.871257485
                        ],
                        "iteration": 149,
                        "passed_time": 1.3137314,
                        "remaining_time": 7.444477936,
                        "test": [
                          0.4295105301,
                          0.8206278027
                        ]
                      },
                      {
                        "learn": [
                          0.3445265919,
                          0.871257485
                        ],
                        "iteration": 150,
                        "passed_time": 1.31727905,
                        "remaining_time": 7.406423267,
                        "test": [
                          0.4295055638,
                          0.8206278027
                        ]
                      },
                      {
                        "learn": [
                          0.3443699045,
                          0.869760479
                        ],
                        "iteration": 151,
                        "passed_time": 1.332534649,
                        "remaining_time": 7.434140675,
                        "test": [
                          0.429495103,
                          0.8206278027
                        ]
                      },
                      {
                        "learn": [
                          0.3443278399,
                          0.871257485
                        ],
                        "iteration": 152,
                        "passed_time": 1.339573872,
                        "remaining_time": 7.415810914,
                        "test": [
                          0.429516704,
                          0.8206278027
                        ]
                      },
                      {
                        "learn": [
                          0.3443036094,
                          0.869760479
                        ],
                        "iteration": 153,
                        "passed_time": 1.349301948,
                        "remaining_time": 7.412399014,
                        "test": [
                          0.4294937895,
                          0.8206278027
                        ]
                      },
                      {
                        "learn": [
                          0.3438151441,
                          0.869760479
                        ],
                        "iteration": 154,
                        "passed_time": 1.359211999,
                        "remaining_time": 7.409897671,
                        "test": [
                          0.4291638577,
                          0.8206278027
                        ]
                      },
                      {
                        "learn": [
                          0.3434058021,
                          0.871257485
                        ],
                        "iteration": 155,
                        "passed_time": 1.369461247,
                        "remaining_time": 7.409136492,
                        "test": [
                          0.4291566669,
                          0.8206278027
                        ]
                      },
                      {
                        "learn": [
                          0.3427275495,
                          0.871257485
                        ],
                        "iteration": 156,
                        "passed_time": 1.379432892,
                        "remaining_time": 7.406763873,
                        "test": [
                          0.4290086169,
                          0.8206278027
                        ]
                      },
                      {
                        "learn": [
                          0.3423528049,
                          0.871257485
                        ],
                        "iteration": 157,
                        "passed_time": 1.397565743,
                        "remaining_time": 7.447787059,
                        "test": [
                          0.4304115828,
                          0.8206278027
                        ]
                      },
                      {
                        "learn": [
                          0.3421438029,
                          0.871257485
                        ],
                        "iteration": 158,
                        "passed_time": 1.407593185,
                        "remaining_time": 7.445194142,
                        "test": [
                          0.4303753518,
                          0.8206278027
                        ]
                      },
                      {
                        "learn": [
                          0.342122534,
                          0.871257485
                        ],
                        "iteration": 159,
                        "passed_time": 1.409896672,
                        "remaining_time": 7.401957527,
                        "test": [
                          0.4303476169,
                          0.8206278027
                        ]
                      },
                      {
                        "learn": [
                          0.3417439249,
                          0.872754491
                        ],
                        "iteration": 160,
                        "passed_time": 1.421087428,
                        "remaining_time": 7.40554256,
                        "test": [
                          0.4301458248,
                          0.8206278027
                        ]
                      },
                      {
                        "learn": [
                          0.3415318014,
                          0.874251497
                        ],
                        "iteration": 161,
                        "passed_time": 1.436316915,
                        "remaining_time": 7.42983688,
                        "test": [
                          0.4302182955,
                          0.8206278027
                        ]
                      },
                      {
                        "learn": [
                          0.3414852939,
                          0.874251497
                        ],
                        "iteration": 162,
                        "passed_time": 1.439014048,
                        "remaining_time": 7.389292995,
                        "test": [
                          0.4302590935,
                          0.8206278027
                        ]
                      },
                      {
                        "learn": [
                          0.3414852725,
                          0.874251497
                        ],
                        "iteration": 163,
                        "passed_time": 1.444216411,
                        "remaining_time": 7.361981219,
                        "test": [
                          0.4302587058,
                          0.8206278027
                        ]
                      },
                      {
                        "learn": [
                          0.3408023201,
                          0.874251497
                        ],
                        "iteration": 164,
                        "passed_time": 1.455312632,
                        "remaining_time": 7.364763924,
                        "test": [
                          0.4302073207,
                          0.8206278027
                        ]
                      },
                      {
                        "learn": [
                          0.3407937248,
                          0.874251497
                        ],
                        "iteration": 165,
                        "passed_time": 1.460274815,
                        "remaining_time": 7.336561419,
                        "test": [
                          0.4302061726,
                          0.8206278027
                        ]
                      },
                      {
                        "learn": [
                          0.3404139187,
                          0.875748503
                        ],
                        "iteration": 166,
                        "passed_time": 1.470450076,
                        "remaining_time": 7.334640199,
                        "test": [
                          0.4299716272,
                          0.8206278027
                        ]
                      },
                      {
                        "learn": [
                          0.339936712,
                          0.874251497
                        ],
                        "iteration": 167,
                        "passed_time": 1.482039594,
                        "remaining_time": 7.339624654,
                        "test": [
                          0.4295334015,
                          0.8206278027
                        ]
                      },
                      {
                        "learn": [
                          0.339936538,
                          0.874251497
                        ],
                        "iteration": 168,
                        "passed_time": 1.488138806,
                        "remaining_time": 7.317416259,
                        "test": [
                          0.4295343668,
                          0.8206278027
                        ]
                      },
                      {
                        "learn": [
                          0.3398635141,
                          0.877245509
                        ],
                        "iteration": 169,
                        "passed_time": 1.490231875,
                        "remaining_time": 7.275837979,
                        "test": [
                          0.4295319033,
                          0.8206278027
                        ]
                      },
                      {
                        "learn": [
                          0.3398374626,
                          0.875748503
                        ],
                        "iteration": 170,
                        "passed_time": 1.497530148,
                        "remaining_time": 7.259956098,
                        "test": [
                          0.4295663803,
                          0.8206278027
                        ]
                      },
                      {
                        "learn": [
                          0.339588347,
                          0.877245509
                        ],
                        "iteration": 171,
                        "passed_time": 1.508788217,
                        "remaining_time": 7.263236299,
                        "test": [
                          0.4296433423,
                          0.8206278027
                        ]
                      },
                      {
                        "learn": [
                          0.3389983903,
                          0.880239521
                        ],
                        "iteration": 172,
                        "passed_time": 1.518832484,
                        "remaining_time": 7.260546036,
                        "test": [
                          0.4282344767,
                          0.8206278027
                        ]
                      },
                      {
                        "learn": [
                          0.3384876869,
                          0.878742515
                        ],
                        "iteration": 173,
                        "passed_time": 1.528708877,
                        "remaining_time": 7.256974324,
                        "test": [
                          0.4278968447,
                          0.8206278027
                        ]
                      },
                      {
                        "learn": [
                          0.3383875271,
                          0.878742515
                        ],
                        "iteration": 174,
                        "passed_time": 1.538329301,
                        "remaining_time": 7.252123849,
                        "test": [
                          0.428004196,
                          0.8161434978
                        ]
                      },
                      {
                        "learn": [
                          0.3379976013,
                          0.878742515
                        ],
                        "iteration": 175,
                        "passed_time": 1.548919975,
                        "remaining_time": 7.251761703,
                        "test": [
                          0.427928189,
                          0.8161434978
                        ]
                      },
                      {
                        "learn": [
                          0.3373035744,
                          0.878742515
                        ],
                        "iteration": 176,
                        "passed_time": 1.558170387,
                        "remaining_time": 7.245052138,
                        "test": [
                          0.4275577097,
                          0.8161434978
                        ]
                      },
                      {
                        "learn": [
                          0.3365348762,
                          0.877245509
                        ],
                        "iteration": 177,
                        "passed_time": 1.567844302,
                        "remaining_time": 7.240269755,
                        "test": [
                          0.4278213311,
                          0.8161434978
                        ]
                      },
                      {
                        "learn": [
                          0.3362134791,
                          0.877245509
                        ],
                        "iteration": 178,
                        "passed_time": 1.578203518,
                        "remaining_time": 7.238575912,
                        "test": [
                          0.427955247,
                          0.8161434978
                        ]
                      },
                      {
                        "learn": [
                          0.3353215711,
                          0.880239521
                        ],
                        "iteration": 179,
                        "passed_time": 1.583003364,
                        "remaining_time": 7.211459769,
                        "test": [
                          0.4278567633,
                          0.8161434978
                        ]
                      },
                      {
                        "learn": [
                          0.3351937814,
                          0.880239521
                        ],
                        "iteration": 180,
                        "passed_time": 1.587854563,
                        "remaining_time": 7.184822579,
                        "test": [
                          0.4278104,
                          0.8161434978
                        ]
                      },
                      {
                        "learn": [
                          0.3350869086,
                          0.880239521
                        ],
                        "iteration": 181,
                        "passed_time": 1.590103325,
                        "remaining_time": 7.146728132,
                        "test": [
                          0.4277221973,
                          0.8161434978
                        ]
                      },
                      {
                        "learn": [
                          0.3350841134,
                          0.880239521
                        ],
                        "iteration": 182,
                        "passed_time": 1.591534669,
                        "remaining_time": 7.10537609,
                        "test": [
                          0.4277302566,
                          0.8161434978
                        ]
                      },
                      {
                        "learn": [
                          0.3345173113,
                          0.880239521
                        ],
                        "iteration": 183,
                        "passed_time": 1.596826028,
                        "remaining_time": 7.081576299,
                        "test": [
                          0.4274180734,
                          0.8161434978
                        ]
                      },
                      {
                        "learn": [
                          0.3344278163,
                          0.8817365269
                        ],
                        "iteration": 184,
                        "passed_time": 1.608395611,
                        "remaining_time": 7.085634719,
                        "test": [
                          0.4273318594,
                          0.8161434978
                        ]
                      },
                      {
                        "learn": [
                          0.3338398274,
                          0.880239521
                        ],
                        "iteration": 185,
                        "passed_time": 1.625781806,
                        "remaining_time": 7.11498059,
                        "test": [
                          0.4274627784,
                          0.8161434978
                        ]
                      },
                      {
                        "learn": [
                          0.3335690413,
                          0.8817365269
                        ],
                        "iteration": 186,
                        "passed_time": 1.629669392,
                        "remaining_time": 7.085140192,
                        "test": [
                          0.4279647034,
                          0.8161434978
                        ]
                      },
                      {
                        "learn": [
                          0.333168332,
                          0.8817365269
                        ],
                        "iteration": 187,
                        "passed_time": 1.641493112,
                        "remaining_time": 7.089853229,
                        "test": [
                          0.4277947177,
                          0.8161434978
                        ]
                      },
                      {
                        "learn": [
                          0.3328116091,
                          0.8817365269
                        ],
                        "iteration": 188,
                        "passed_time": 1.655581389,
                        "remaining_time": 7.104108499,
                        "test": [
                          0.4284112941,
                          0.8161434978
                        ]
                      },
                      {
                        "learn": [
                          0.3320735599,
                          0.8832335329
                        ],
                        "iteration": 189,
                        "passed_time": 1.666373744,
                        "remaining_time": 7.104014381,
                        "test": [
                          0.4282812425,
                          0.8116591928
                        ]
                      },
                      {
                        "learn": [
                          0.3320379785,
                          0.8832335329
                        ],
                        "iteration": 190,
                        "passed_time": 1.669054433,
                        "remaining_time": 7.069450454,
                        "test": [
                          0.4282806921,
                          0.8116591928
                        ]
                      },
                      {
                        "learn": [
                          0.3320035204,
                          0.8832335329
                        ],
                        "iteration": 191,
                        "passed_time": 1.673660436,
                        "remaining_time": 7.043321002,
                        "test": [
                          0.4282799846,
                          0.8116591928
                        ]
                      },
                      {
                        "learn": [
                          0.3318787241,
                          0.8832335329
                        ],
                        "iteration": 192,
                        "passed_time": 1.681248238,
                        "remaining_time": 7.029882531,
                        "test": [
                          0.4283216173,
                          0.8161434978
                        ]
                      },
                      {
                        "learn": [
                          0.3317092676,
                          0.8832335329
                        ],
                        "iteration": 193,
                        "passed_time": 1.691018551,
                        "remaining_time": 7.025571917,
                        "test": [
                          0.4280568564,
                          0.8116591928
                        ]
                      },
                      {
                        "learn": [
                          0.3314463051,
                          0.8832335329
                        ],
                        "iteration": 194,
                        "passed_time": 1.704904803,
                        "remaining_time": 7.038196752,
                        "test": [
                          0.427966003,
                          0.8161434978
                        ]
                      },
                      {
                        "learn": [
                          0.3308431412,
                          0.8832335329
                        ],
                        "iteration": 195,
                        "passed_time": 1.715279005,
                        "remaining_time": 7.036144491,
                        "test": [
                          0.4279621061,
                          0.8116591928
                        ]
                      },
                      {
                        "learn": [
                          0.3303459383,
                          0.8877245509
                        ],
                        "iteration": 196,
                        "passed_time": 1.725801317,
                        "remaining_time": 7.034611458,
                        "test": [
                          0.4285900924,
                          0.8161434978
                        ]
                      },
                      {
                        "learn": [
                          0.3301108649,
                          0.8877245509
                        ],
                        "iteration": 197,
                        "passed_time": 1.736321732,
                        "remaining_time": 7.032979945,
                        "test": [
                          0.4284081968,
                          0.8161434978
                        ]
                      },
                      {
                        "learn": [
                          0.3291724276,
                          0.8877245509
                        ],
                        "iteration": 198,
                        "passed_time": 1.747577374,
                        "remaining_time": 7.034218477,
                        "test": [
                          0.4292648185,
                          0.8161434978
                        ]
                      },
                      {
                        "learn": [
                          0.3289162863,
                          0.8877245509
                        ],
                        "iteration": 199,
                        "passed_time": 1.758872111,
                        "remaining_time": 7.035488444,
                        "test": [
                          0.429949747,
                          0.8161434978
                        ]
                      },
                      {
                        "learn": [
                          0.3285652705,
                          0.8877245509
                        ],
                        "iteration": 200,
                        "passed_time": 1.771375737,
                        "remaining_time": 7.041438876,
                        "test": [
                          0.4298604011,
                          0.8161434978
                        ]
                      },
                      {
                        "learn": [
                          0.3285635166,
                          0.8877245509
                        ],
                        "iteration": 201,
                        "passed_time": 1.774465958,
                        "remaining_time": 7.010018982,
                        "test": [
                          0.4298605321,
                          0.8161434978
                        ]
                      },
                      {
                        "learn": [
                          0.328112443,
                          0.8877245509
                        ],
                        "iteration": 202,
                        "passed_time": 1.785122803,
                        "remaining_time": 7.008585587,
                        "test": [
                          0.4299892156,
                          0.8161434978
                        ]
                      },
                      {
                        "learn": [
                          0.3274424951,
                          0.8877245509
                        ],
                        "iteration": 203,
                        "passed_time": 1.800279573,
                        "remaining_time": 7.024620294,
                        "test": [
                          0.4296773327,
                          0.8161434978
                        ]
                      },
                      {
                        "learn": [
                          0.3272385067,
                          0.8877245509
                        ],
                        "iteration": 204,
                        "passed_time": 1.810678338,
                        "remaining_time": 7.021898922,
                        "test": [
                          0.4294922954,
                          0.8161434978
                        ]
                      },
                      {
                        "learn": [
                          0.3269430492,
                          0.8877245509
                        ],
                        "iteration": 205,
                        "passed_time": 1.825868115,
                        "remaining_time": 7.037569337,
                        "test": [
                          0.4293880561,
                          0.8161434978
                        ]
                      },
                      {
                        "learn": [
                          0.3262699621,
                          0.8892215569
                        ],
                        "iteration": 206,
                        "passed_time": 1.836282191,
                        "remaining_time": 7.034646269,
                        "test": [
                          0.4292963233,
                          0.8161434978
                        ]
                      },
                      {
                        "learn": [
                          0.3262096112,
                          0.8892215569
                        ],
                        "iteration": 207,
                        "passed_time": 1.838444039,
                        "remaining_time": 7.000229224,
                        "test": [
                          0.4292960573,
                          0.8161434978
                        ]
                      },
                      {
                        "learn": [
                          0.3261557793,
                          0.8877245509
                        ],
                        "iteration": 208,
                        "passed_time": 1.846208023,
                        "remaining_time": 6.987323189,
                        "test": [
                          0.429256097,
                          0.8161434978
                        ]
                      },
                      {
                        "learn": [
                          0.3257929215,
                          0.8892215569
                        ],
                        "iteration": 209,
                        "passed_time": 1.851920155,
                        "remaining_time": 6.96674725,
                        "test": [
                          0.4295483419,
                          0.8161434978
                        ]
                      },
                      {
                        "learn": [
                          0.3250476602,
                          0.8892215569
                        ],
                        "iteration": 210,
                        "passed_time": 1.860716162,
                        "remaining_time": 6.957843848,
                        "test": [
                          0.4298236197,
                          0.8161434978
                        ]
                      },
                      {
                        "learn": [
                          0.3246362729,
                          0.8892215569
                        ],
                        "iteration": 211,
                        "passed_time": 1.876145286,
                        "remaining_time": 6.973596627,
                        "test": [
                          0.429766548,
                          0.8161434978
                        ]
                      },
                      {
                        "learn": [
                          0.3245794209,
                          0.8892215569
                        ],
                        "iteration": 212,
                        "passed_time": 1.878303143,
                        "remaining_time": 6.940021471,
                        "test": [
                          0.4297663466,
                          0.8161434978
                        ]
                      },
                      {
                        "learn": [
                          0.3242066236,
                          0.8892215569
                        ],
                        "iteration": 213,
                        "passed_time": 1.889100566,
                        "remaining_time": 6.938472173,
                        "test": [
                          0.4297656976,
                          0.8161434978
                        ]
                      },
                      {
                        "learn": [
                          0.323898509,
                          0.8892215569
                        ],
                        "iteration": 214,
                        "passed_time": 1.900837467,
                        "remaining_time": 6.940267031,
                        "test": [
                          0.4299181947,
                          0.8161434978
                        ]
                      },
                      {
                        "learn": [
                          0.3238642892,
                          0.8892215569
                        ],
                        "iteration": 215,
                        "passed_time": 1.903197807,
                        "remaining_time": 6.907903152,
                        "test": [
                          0.4298773395,
                          0.8161434978
                        ]
                      },
                      {
                        "learn": [
                          0.3234861046,
                          0.8892215569
                        ],
                        "iteration": 216,
                        "passed_time": 1.908103957,
                        "remaining_time": 6.885001835,
                        "test": [
                          0.4302596699,
                          0.8161434978
                        ]
                      },
                      {
                        "learn": [
                          0.3227025365,
                          0.8877245509
                        ],
                        "iteration": 217,
                        "passed_time": 1.91228722,
                        "remaining_time": 6.859672505,
                        "test": [
                          0.4302453751,
                          0.8161434978
                        ]
                      },
                      {
                        "learn": [
                          0.3226891721,
                          0.8877245509
                        ],
                        "iteration": 218,
                        "passed_time": 1.914510007,
                        "remaining_time": 6.82754482,
                        "test": [
                          0.4302395767,
                          0.8161434978
                        ]
                      },
                      {
                        "learn": [
                          0.3225657283,
                          0.8877245509
                        ],
                        "iteration": 219,
                        "passed_time": 1.922279297,
                        "remaining_time": 6.815353871,
                        "test": [
                          0.4302360489,
                          0.8161434978
                        ]
                      },
                      {
                        "learn": [
                          0.3222773331,
                          0.8862275449
                        ],
                        "iteration": 220,
                        "passed_time": 1.93178103,
                        "remaining_time": 6.809309602,
                        "test": [
                          0.4301904192,
                          0.8161434978
                        ]
                      },
                      {
                        "learn": [
                          0.3218983318,
                          0.8862275449
                        ],
                        "iteration": 221,
                        "passed_time": 1.941811691,
                        "remaining_time": 6.805087819,
                        "test": [
                          0.4298835016,
                          0.8161434978
                        ]
                      },
                      {
                        "learn": [
                          0.321323371,
                          0.8892215569
                        ],
                        "iteration": 222,
                        "passed_time": 1.953503788,
                        "remaining_time": 6.806602884,
                        "test": [
                          0.430012693,
                          0.8206278027
                        ]
                      },
                      {
                        "learn": [
                          0.320638906,
                          0.8892215569
                        ],
                        "iteration": 223,
                        "passed_time": 1.963506508,
                        "remaining_time": 6.802147545,
                        "test": [
                          0.4300606024,
                          0.8206278027
                        ]
                      },
                      {
                        "learn": [
                          0.3205582107,
                          0.8892215569
                        ],
                        "iteration": 224,
                        "passed_time": 1.977330055,
                        "remaining_time": 6.810803523,
                        "test": [
                          0.4300145913,
                          0.8206278027
                        ]
                      },
                      {
                        "learn": [
                          0.3204213557,
                          0.8892215569
                        ],
                        "iteration": 225,
                        "passed_time": 1.997759084,
                        "remaining_time": 6.841882881,
                        "test": [
                          0.4300149727,
                          0.8206278027
                        ]
                      },
                      {
                        "learn": [
                          0.3203905109,
                          0.8892215569
                        ],
                        "iteration": 226,
                        "passed_time": 2.000999948,
                        "remaining_time": 6.813977796,
                        "test": [
                          0.4300145674,
                          0.8206278027
                        ]
                      },
                      {
                        "learn": [
                          0.3203476901,
                          0.8892215569
                        ],
                        "iteration": 227,
                        "passed_time": 2.023951186,
                        "remaining_time": 6.853027701,
                        "test": [
                          0.4300056726,
                          0.8206278027
                        ]
                      },
                      {
                        "learn": [
                          0.3199751151,
                          0.8892215569
                        ],
                        "iteration": 228,
                        "passed_time": 2.033484377,
                        "remaining_time": 6.846360063,
                        "test": [
                          0.4302890033,
                          0.8206278027
                        ]
                      },
                      {
                        "learn": [
                          0.3197373688,
                          0.8892215569
                        ],
                        "iteration": 229,
                        "passed_time": 2.040846271,
                        "remaining_time": 6.832398387,
                        "test": [
                          0.4301752289,
                          0.8206278027
                        ]
                      },
                      {
                        "learn": [
                          0.3191943822,
                          0.8892215569
                        ],
                        "iteration": 230,
                        "passed_time": 2.05146304,
                        "remaining_time": 6.82932934,
                        "test": [
                          0.4301677957,
                          0.8206278027
                        ]
                      },
                      {
                        "learn": [
                          0.3191614935,
                          0.8892215569
                        ],
                        "iteration": 231,
                        "passed_time": 2.058150522,
                        "remaining_time": 6.813187936,
                        "test": [
                          0.4301676627,
                          0.8206278027
                        ]
                      },
                      {
                        "learn": [
                          0.3189867512,
                          0.8892215569
                        ],
                        "iteration": 232,
                        "passed_time": 2.070923657,
                        "remaining_time": 6.817160709,
                        "test": [
                          0.4301583803,
                          0.8206278027
                        ]
                      },
                      {
                        "learn": [
                          0.3186679038,
                          0.8892215569
                        ],
                        "iteration": 233,
                        "passed_time": 2.080642878,
                        "remaining_time": 6.810993354,
                        "test": [
                          0.4301503719,
                          0.8206278027
                        ]
                      },
                      {
                        "learn": [
                          0.3185803633,
                          0.8877245509
                        ],
                        "iteration": 234,
                        "passed_time": 2.085469794,
                        "remaining_time": 6.788869756,
                        "test": [
                          0.4300950311,
                          0.8206278027
                        ]
                      },
                      {
                        "learn": [
                          0.3182698464,
                          0.8877245509
                        ],
                        "iteration": 235,
                        "passed_time": 2.08970705,
                        "remaining_time": 6.76498384,
                        "test": [
                          0.4300710968,
                          0.8206278027
                        ]
                      },
                      {
                        "learn": [
                          0.318094196,
                          0.8877245509
                        ],
                        "iteration": 236,
                        "passed_time": 2.094254104,
                        "remaining_time": 6.742261103,
                        "test": [
                          0.4300786574,
                          0.8206278027
                        ]
                      },
                      {
                        "learn": [
                          0.3175869307,
                          0.8892215569
                        ],
                        "iteration": 237,
                        "passed_time": 2.098274198,
                        "remaining_time": 6.718003945,
                        "test": [
                          0.4302080993,
                          0.8206278027
                        ]
                      },
                      {
                        "learn": [
                          0.3172645671,
                          0.8892215569
                        ],
                        "iteration": 238,
                        "passed_time": 2.10355478,
                        "remaining_time": 6.697929655,
                        "test": [
                          0.4300068308,
                          0.8206278027
                        ]
                      },
                      {
                        "learn": [
                          0.3170336379,
                          0.8892215569
                        ],
                        "iteration": 239,
                        "passed_time": 2.107059902,
                        "remaining_time": 6.672356356,
                        "test": [
                          0.4301242155,
                          0.8161434978
                        ]
                      },
                      {
                        "learn": [
                          0.3166280934,
                          0.8892215569
                        ],
                        "iteration": 240,
                        "passed_time": 2.112259035,
                        "remaining_time": 6.652301276,
                        "test": [
                          0.4299817041,
                          0.8161434978
                        ]
                      },
                      {
                        "learn": [
                          0.3166017613,
                          0.8892215569
                        ],
                        "iteration": 241,
                        "passed_time": 2.113581831,
                        "remaining_time": 6.620227387,
                        "test": [
                          0.4299817593,
                          0.8161434978
                        ]
                      },
                      {
                        "learn": [
                          0.3161455494,
                          0.8892215569
                        ],
                        "iteration": 242,
                        "passed_time": 2.117231336,
                        "remaining_time": 6.59565482,
                        "test": [
                          0.429639433,
                          0.8161434978
                        ]
                      },
                      {
                        "learn": [
                          0.3157640776,
                          0.8892215569
                        ],
                        "iteration": 243,
                        "passed_time": 2.122179121,
                        "remaining_time": 6.575276292,
                        "test": [
                          0.429634722,
                          0.8161434978
                        ]
                      },
                      {
                        "learn": [
                          0.3156573077,
                          0.8892215569
                        ],
                        "iteration": 244,
                        "passed_time": 2.125114467,
                        "remaining_time": 6.548822133,
                        "test": [
                          0.4302218104,
                          0.8206278027
                        ]
                      },
                      {
                        "learn": [
                          0.3152318113,
                          0.8892215569
                        ],
                        "iteration": 245,
                        "passed_time": 2.129995841,
                        "remaining_time": 6.528523838,
                        "test": [
                          0.4303206647,
                          0.8206278027
                        ]
                      },
                      {
                        "learn": [
                          0.315019681,
                          0.8892215569
                        ],
                        "iteration": 246,
                        "passed_time": 2.133823315,
                        "remaining_time": 6.505137473,
                        "test": [
                          0.4301996408,
                          0.8161434978
                        ]
                      },
                      {
                        "learn": [
                          0.3148067072,
                          0.8877245509
                        ],
                        "iteration": 247,
                        "passed_time": 2.139258304,
                        "remaining_time": 6.486783245,
                        "test": [
                          0.4300950172,
                          0.8161434978
                        ]
                      },
                      {
                        "learn": [
                          0.3145952436,
                          0.8877245509
                        ],
                        "iteration": 248,
                        "passed_time": 2.148504771,
                        "remaining_time": 6.480028445,
                        "test": [
                          0.4305952678,
                          0.8161434978
                        ]
                      },
                      {
                        "learn": [
                          0.3143217926,
                          0.8877245509
                        ],
                        "iteration": 249,
                        "passed_time": 2.158513974,
                        "remaining_time": 6.475541921,
                        "test": [
                          0.4302999366,
                          0.8206278027
                        ]
                      },
                      {
                        "learn": [
                          0.3140832101,
                          0.8877245509
                        ],
                        "iteration": 250,
                        "passed_time": 2.16827699,
                        "remaining_time": 6.470276757,
                        "test": [
                          0.4308728082,
                          0.8206278027
                        ]
                      },
                      {
                        "learn": [
                          0.3138306515,
                          0.8877245509
                        ],
                        "iteration": 251,
                        "passed_time": 2.179095698,
                        "remaining_time": 6.468109453,
                        "test": [
                          0.4307935744,
                          0.8206278027
                        ]
                      },
                      {
                        "learn": [
                          0.3137290261,
                          0.8892215569
                        ],
                        "iteration": 252,
                        "passed_time": 2.191731429,
                        "remaining_time": 6.471238647,
                        "test": [
                          0.4307810264,
                          0.8206278027
                        ]
                      },
                      {
                        "learn": [
                          0.313258106,
                          0.8892215569
                        ],
                        "iteration": 253,
                        "passed_time": 2.201794898,
                        "remaining_time": 6.466688952,
                        "test": [
                          0.4305367752,
                          0.8206278027
                        ]
                      },
                      {
                        "learn": [
                          0.3132297693,
                          0.8892215569
                        ],
                        "iteration": 254,
                        "passed_time": 2.216263349,
                        "remaining_time": 6.47496547,
                        "test": [
                          0.430537304,
                          0.8206278027
                        ]
                      },
                      {
                        "learn": [
                          0.3129853907,
                          0.8892215569
                        ],
                        "iteration": 255,
                        "passed_time": 2.220049029,
                        "remaining_time": 6.45201749,
                        "test": [
                          0.4305833601,
                          0.8206278027
                        ]
                      },
                      {
                        "learn": [
                          0.3123589892,
                          0.8907185629
                        ],
                        "iteration": 256,
                        "passed_time": 2.225416025,
                        "remaining_time": 6.433790298,
                        "test": [
                          0.4306331947,
                          0.8206278027
                        ]
                      },
                      {
                        "learn": [
                          0.3120277988,
                          0.8907185629
                        ],
                        "iteration": 257,
                        "passed_time": 2.229851283,
                        "remaining_time": 6.412983147,
                        "test": [
                          0.4306119533,
                          0.8206278027
                        ]
                      },
                      {
                        "learn": [
                          0.3116773062,
                          0.8922155689
                        ],
                        "iteration": 258,
                        "passed_time": 2.234908083,
                        "remaining_time": 6.394080655,
                        "test": [
                          0.4307034238,
                          0.8206278027
                        ]
                      },
                      {
                        "learn": [
                          0.3112852827,
                          0.8922155689
                        ],
                        "iteration": 259,
                        "passed_time": 2.239010983,
                        "remaining_time": 6.372569722,
                        "test": [
                          0.431086966,
                          0.8206278027
                        ]
                      },
                      {
                        "learn": [
                          0.3108137539,
                          0.8922155689
                        ],
                        "iteration": 260,
                        "passed_time": 2.244719204,
                        "remaining_time": 6.355737516,
                        "test": [
                          0.4311256513,
                          0.8161434978
                        ]
                      },
                      {
                        "learn": [
                          0.3105211186,
                          0.8907185629
                        ],
                        "iteration": 261,
                        "passed_time": 2.248695722,
                        "remaining_time": 6.334112376,
                        "test": [
                          0.4310473,
                          0.8161434978
                        ]
                      },
                      {
                        "learn": [
                          0.3102803408,
                          0.8907185629
                        ],
                        "iteration": 262,
                        "passed_time": 2.253330519,
                        "remaining_time": 6.31446613,
                        "test": [
                          0.4311493867,
                          0.8206278027
                        ]
                      },
                      {
                        "learn": [
                          0.3101398025,
                          0.8892215569
                        ],
                        "iteration": 263,
                        "passed_time": 2.259741295,
                        "remaining_time": 6.299884822,
                        "test": [
                          0.4311368782,
                          0.8161434978
                        ]
                      },
                      {
                        "learn": [
                          0.3098426943,
                          0.8907185629
                        ],
                        "iteration": 264,
                        "passed_time": 2.265268083,
                        "remaining_time": 6.282913363,
                        "test": [
                          0.4304724007,
                          0.8161434978
                        ]
                      },
                      {
                        "learn": [
                          0.3098362814,
                          0.8907185629
                        ],
                        "iteration": 265,
                        "passed_time": 2.267202805,
                        "remaining_time": 6.256116011,
                        "test": [
                          0.4305111066,
                          0.8161434978
                        ]
                      },
                      {
                        "learn": [
                          0.3096594607,
                          0.8907185629
                        ],
                        "iteration": 266,
                        "passed_time": 2.27938676,
                        "remaining_time": 6.257642303,
                        "test": [
                          0.4305266957,
                          0.8161434978
                        ]
                      },
                      {
                        "learn": [
                          0.3092985594,
                          0.8892215569
                        ],
                        "iteration": 267,
                        "passed_time": 2.288168695,
                        "remaining_time": 6.249774196,
                        "test": [
                          0.4303755108,
                          0.8161434978
                        ]
                      },
                      {
                        "learn": [
                          0.3084508541,
                          0.8892215569
                        ],
                        "iteration": 268,
                        "passed_time": 2.302454307,
                        "remaining_time": 6.256855384,
                        "test": [
                          0.4303376511,
                          0.8161434978
                        ]
                      },
                      {
                        "learn": [
                          0.3083694026,
                          0.8907185629
                        ],
                        "iteration": 269,
                        "passed_time": 2.316224537,
                        "remaining_time": 6.26238486,
                        "test": [
                          0.4304080936,
                          0.8161434978
                        ]
                      },
                      {
                        "learn": [
                          0.3078152435,
                          0.8922155689
                        ],
                        "iteration": 270,
                        "passed_time": 2.336349078,
                        "remaining_time": 6.284865231,
                        "test": [
                          0.4306125503,
                          0.8161434978
                        ]
                      },
                      {
                        "learn": [
                          0.3076098485,
                          0.8922155689
                        ],
                        "iteration": 271,
                        "passed_time": 2.34452815,
                        "remaining_time": 6.275060637,
                        "test": [
                          0.4305748831,
                          0.8161434978
                        ]
                      },
                      {
                        "learn": [
                          0.3073106986,
                          0.8922155689
                        ],
                        "iteration": 272,
                        "passed_time": 2.367677144,
                        "remaining_time": 6.305132909,
                        "test": [
                          0.4305186369,
                          0.8161434978
                        ]
                      },
                      {
                        "learn": [
                          0.3068318471,
                          0.8922155689
                        ],
                        "iteration": 273,
                        "passed_time": 2.37844572,
                        "remaining_time": 6.302013113,
                        "test": [
                          0.4301494622,
                          0.8161434978
                        ]
                      },
                      {
                        "learn": [
                          0.3065792642,
                          0.8907185629
                        ],
                        "iteration": 274,
                        "passed_time": 2.389591035,
                        "remaining_time": 6.299830912,
                        "test": [
                          0.4301558097,
                          0.8161434978
                        ]
                      },
                      {
                        "learn": [
                          0.306310678,
                          0.8907185629
                        ],
                        "iteration": 275,
                        "passed_time": 2.404228926,
                        "remaining_time": 6.306745443,
                        "test": [
                          0.4299962614,
                          0.8161434978
                        ]
                      },
                      {
                        "learn": [
                          0.3059769219,
                          0.8922155689
                        ],
                        "iteration": 276,
                        "passed_time": 2.415008422,
                        "remaining_time": 6.303433534,
                        "test": [
                          0.4297582041,
                          0.8161434978
                        ]
                      },
                      {
                        "learn": [
                          0.305820259,
                          0.8922155689
                        ],
                        "iteration": 277,
                        "passed_time": 2.439343941,
                        "remaining_time": 6.335274551,
                        "test": [
                          0.4298584779,
                          0.8161434978
                        ]
                      },
                      {
                        "learn": [
                          0.3057436844,
                          0.8907185629
                        ],
                        "iteration": 278,
                        "passed_time": 2.462990316,
                        "remaining_time": 6.364931964,
                        "test": [
                          0.4298918101,
                          0.8161434978
                        ]
                      },
                      {
                        "learn": [
                          0.3056241886,
                          0.8907185629
                        ],
                        "iteration": 279,
                        "passed_time": 2.482591911,
                        "remaining_time": 6.38380777,
                        "test": [
                          0.4299745313,
                          0.8161434978
                        ]
                      },
                      {
                        "learn": [
                          0.3052024799,
                          0.8922155689
                        ],
                        "iteration": 280,
                        "passed_time": 2.492790569,
                        "remaining_time": 6.378350246,
                        "test": [
                          0.4301385607,
                          0.8161434978
                        ]
                      },
                      {
                        "learn": [
                          0.3039894132,
                          0.8937125749
                        ],
                        "iteration": 281,
                        "passed_time": 2.503288133,
                        "remaining_time": 6.373620139,
                        "test": [
                          0.4303870799,
                          0.8161434978
                        ]
                      },
                      {
                        "learn": [
                          0.3036863116,
                          0.8937125749
                        ],
                        "iteration": 282,
                        "passed_time": 2.513762898,
                        "remaining_time": 6.368791511,
                        "test": [
                          0.4302869113,
                          0.8161434978
                        ]
                      },
                      {
                        "learn": [
                          0.3036714046,
                          0.8937125749
                        ],
                        "iteration": 283,
                        "passed_time": 2.517257582,
                        "remaining_time": 6.346325453,
                        "test": [
                          0.4302866747,
                          0.8161434978
                        ]
                      },
                      {
                        "learn": [
                          0.3034954233,
                          0.8907185629
                        ],
                        "iteration": 284,
                        "passed_time": 2.522376741,
                        "remaining_time": 6.328067965,
                        "test": [
                          0.4301977045,
                          0.8161434978
                        ]
                      },
                      {
                        "learn": [
                          0.303075358,
                          0.8907185629
                        ],
                        "iteration": 285,
                        "passed_time": 2.531352048,
                        "remaining_time": 6.319529239,
                        "test": [
                          0.430138538,
                          0.8161434978
                        ]
                      },
                      {
                        "learn": [
                          0.3028663009,
                          0.8907185629
                        ],
                        "iteration": 286,
                        "passed_time": 2.544136053,
                        "remaining_time": 6.320449497,
                        "test": [
                          0.4297234263,
                          0.8161434978
                        ]
                      },
                      {
                        "learn": [
                          0.302632304,
                          0.8907185629
                        ],
                        "iteration": 287,
                        "passed_time": 2.553846891,
                        "remaining_time": 6.313677035,
                        "test": [
                          0.4296881743,
                          0.8161434978
                        ]
                      },
                      {
                        "learn": [
                          0.3025897709,
                          0.8907185629
                        ],
                        "iteration": 288,
                        "passed_time": 2.563561277,
                        "remaining_time": 6.306892969,
                        "test": [
                          0.4296848829,
                          0.8161434978
                        ]
                      },
                      {
                        "learn": [
                          0.3025233562,
                          0.8922155689
                        ],
                        "iteration": 289,
                        "passed_time": 2.572256722,
                        "remaining_time": 6.297594044,
                        "test": [
                          0.4296534648,
                          0.8161434978
                        ]
                      },
                      {
                        "learn": [
                          0.3024924479,
                          0.8922155689
                        ],
                        "iteration": 290,
                        "passed_time": 2.576356996,
                        "remaining_time": 6.277103471,
                        "test": [
                          0.4296827466,
                          0.8161434978
                        ]
                      },
                      {
                        "learn": [
                          0.3016044015,
                          0.8952095808
                        ],
                        "iteration": 291,
                        "passed_time": 2.585684441,
                        "remaining_time": 6.269399261,
                        "test": [
                          0.4301239647,
                          0.8161434978
                        ]
                      },
                      {
                        "learn": [
                          0.3015332713,
                          0.8952095808
                        ],
                        "iteration": 292,
                        "passed_time": 2.599903011,
                        "remaining_time": 6.273486105,
                        "test": [
                          0.4301592971,
                          0.8161434978
                        ]
                      },
                      {
                        "learn": [
                          0.3014747891,
                          0.8952095808
                        ],
                        "iteration": 293,
                        "passed_time": 2.609265732,
                        "remaining_time": 6.265787778,
                        "test": [
                          0.4301604988,
                          0.8161434978
                        ]
                      },
                      {
                        "learn": [
                          0.301252728,
                          0.8952095808
                        ],
                        "iteration": 294,
                        "passed_time": 2.619711851,
                        "remaining_time": 6.260667304,
                        "test": [
                          0.4301472686,
                          0.8161434978
                        ]
                      },
                      {
                        "learn": [
                          0.3010853043,
                          0.8967065868
                        ],
                        "iteration": 295,
                        "passed_time": 2.630668979,
                        "remaining_time": 6.256726221,
                        "test": [
                          0.4301014947,
                          0.8161434978
                        ]
                      },
                      {
                        "learn": [
                          0.301062746,
                          0.8967065868
                        ],
                        "iteration": 296,
                        "passed_time": 2.640338442,
                        "remaining_time": 6.249689983,
                        "test": [
                          0.4301078995,
                          0.8161434978
                        ]
                      },
                      {
                        "learn": [
                          0.300194106,
                          0.8952095808
                        ],
                        "iteration": 297,
                        "passed_time": 2.649726028,
                        "remaining_time": 6.241972053,
                        "test": [
                          0.430051714,
                          0.8161434978
                        ]
                      },
                      {
                        "learn": [
                          0.3001488029,
                          0.8952095808
                        ],
                        "iteration": 298,
                        "passed_time": 2.663699014,
                        "remaining_time": 6.244993342,
                        "test": [
                          0.4300480891,
                          0.8161434978
                        ]
                      },
                      {
                        "learn": [
                          0.2997682291,
                          0.8967065868
                        ],
                        "iteration": 299,
                        "passed_time": 2.673843148,
                        "remaining_time": 6.238967346,
                        "test": [
                          0.4297860798,
                          0.8161434978
                        ]
                      },
                      {
                        "learn": [
                          0.29909983,
                          0.8967065868
                        ],
                        "iteration": 300,
                        "passed_time": 2.682932377,
                        "remaining_time": 6.230464224,
                        "test": [
                          0.4297890405,
                          0.8161434978
                        ]
                      },
                      {
                        "learn": [
                          0.2988529083,
                          0.8967065868
                        ],
                        "iteration": 301,
                        "passed_time": 2.696946111,
                        "remaining_time": 6.233339024,
                        "test": [
                          0.4297984584,
                          0.8161434978
                        ]
                      },
                      {
                        "learn": [
                          0.2986882869,
                          0.8982035928
                        ],
                        "iteration": 302,
                        "passed_time": 2.707079517,
                        "remaining_time": 6.227176314,
                        "test": [
                          0.4295821728,
                          0.8161434978
                        ]
                      },
                      {
                        "learn": [
                          0.2979415208,
                          0.8982035928
                        ],
                        "iteration": 303,
                        "passed_time": 2.717369282,
                        "remaining_time": 6.221345461,
                        "test": [
                          0.4295561147,
                          0.8161434978
                        ]
                      },
                      {
                        "learn": [
                          0.2976137989,
                          0.8982035928
                        ],
                        "iteration": 304,
                        "passed_time": 2.729118183,
                        "remaining_time": 6.218810285,
                        "test": [
                          0.4295525363,
                          0.8161434978
                        ]
                      },
                      {
                        "learn": [
                          0.2971413783,
                          0.8982035928
                        ],
                        "iteration": 305,
                        "passed_time": 2.739869575,
                        "remaining_time": 6.213952566,
                        "test": [
                          0.4298308573,
                          0.8161434978
                        ]
                      },
                      {
                        "learn": [
                          0.2965202765,
                          0.8982035928
                        ],
                        "iteration": 306,
                        "passed_time": 2.754549447,
                        "remaining_time": 6.217924322,
                        "test": [
                          0.4304349176,
                          0.8161434978
                        ]
                      },
                      {
                        "learn": [
                          0.2962277661,
                          0.8982035928
                        ],
                        "iteration": 307,
                        "passed_time": 2.764621705,
                        "remaining_time": 6.211422791,
                        "test": [
                          0.4318739782,
                          0.8161434978
                        ]
                      },
                      {
                        "learn": [
                          0.2953757561,
                          0.8982035928
                        ],
                        "iteration": 308,
                        "passed_time": 2.770972701,
                        "remaining_time": 6.196576492,
                        "test": [
                          0.4322292636,
                          0.8161434978
                        ]
                      },
                      {
                        "learn": [
                          0.2953307239,
                          0.8982035928
                        ],
                        "iteration": 309,
                        "passed_time": 2.775064197,
                        "remaining_time": 6.176755793,
                        "test": [
                          0.4322544737,
                          0.8161434978
                        ]
                      },
                      {
                        "learn": [
                          0.2952555147,
                          0.8982035928
                        ],
                        "iteration": 310,
                        "passed_time": 2.780446195,
                        "remaining_time": 6.159895269,
                        "test": [
                          0.4322584747,
                          0.8161434978
                        ]
                      },
                      {
                        "learn": [
                          0.2946555816,
                          0.8982035928
                        ],
                        "iteration": 311,
                        "passed_time": 2.784086193,
                        "remaining_time": 6.139266991,
                        "test": [
                          0.4318989477,
                          0.8161434978
                        ]
                      },
                      {
                        "learn": [
                          0.2943978982,
                          0.8982035928
                        ],
                        "iteration": 312,
                        "passed_time": 2.789927768,
                        "remaining_time": 6.123579478,
                        "test": [
                          0.4318405088,
                          0.8161434978
                        ]
                      },
                      {
                        "learn": [
                          0.2940953605,
                          0.8982035928
                        ],
                        "iteration": 313,
                        "passed_time": 2.793553781,
                        "remaining_time": 6.103114311,
                        "test": [
                          0.4315107067,
                          0.8206278027
                        ]
                      },
                      {
                        "learn": [
                          0.2935479423,
                          0.8982035928
                        ],
                        "iteration": 314,
                        "passed_time": 2.799420688,
                        "remaining_time": 6.087629115,
                        "test": [
                          0.4311792807,
                          0.8206278027
                        ]
                      },
                      {
                        "learn": [
                          0.2932405997,
                          0.8982035928
                        ],
                        "iteration": 315,
                        "passed_time": 2.803785291,
                        "remaining_time": 6.068952972,
                        "test": [
                          0.4309449207,
                          0.8206278027
                        ]
                      },
                      {
                        "learn": [
                          0.292622047,
                          0.8997005988
                        ],
                        "iteration": 316,
                        "passed_time": 2.815537882,
                        "remaining_time": 6.066285089,
                        "test": [
                          0.4304966424,
                          0.8161434978
                        ]
                      },
                      {
                        "learn": [
                          0.2925678589,
                          0.8997005988
                        ],
                        "iteration": 317,
                        "passed_time": 2.826263675,
                        "remaining_time": 6.061357945,
                        "test": [
                          0.430525149,
                          0.8161434978
                        ]
                      },
                      {
                        "learn": [
                          0.2923984316,
                          0.8997005988
                        ],
                        "iteration": 318,
                        "passed_time": 2.837110957,
                        "remaining_time": 6.056653799,
                        "test": [
                          0.4312418742,
                          0.8206278027
                        ]
                      },
                      {
                        "learn": [
                          0.2920262648,
                          0.8997005988
                        ],
                        "iteration": 319,
                        "passed_time": 2.847545661,
                        "remaining_time": 6.05103453,
                        "test": [
                          0.4312095272,
                          0.8206278027
                        ]
                      },
                      {
                        "learn": [
                          0.2916784542,
                          0.8982035928
                        ],
                        "iteration": 320,
                        "passed_time": 2.865056336,
                        "remaining_time": 6.060352811,
                        "test": [
                          0.4312209365,
                          0.8206278027
                        ]
                      },
                      {
                        "learn": [
                          0.2916360094,
                          0.8982035928
                        ],
                        "iteration": 321,
                        "passed_time": 2.87130253,
                        "remaining_time": 6.045786073,
                        "test": [
                          0.4312566716,
                          0.8206278027
                        ]
                      },
                      {
                        "learn": [
                          0.2908453703,
                          0.9011976048
                        ],
                        "iteration": 322,
                        "passed_time": 2.882902066,
                        "remaining_time": 6.042491327,
                        "test": [
                          0.4313359501,
                          0.8206278027
                        ]
                      },
                      {
                        "learn": [
                          0.2907936691,
                          0.9011976048
                        ],
                        "iteration": 323,
                        "passed_time": 2.891747677,
                        "remaining_time": 6.033399475,
                        "test": [
                          0.4313346169,
                          0.8206278027
                        ]
                      },
                      {
                        "learn": [
                          0.2902138132,
                          0.9011976048
                        ],
                        "iteration": 324,
                        "passed_time": 2.905072903,
                        "remaining_time": 6.033612952,
                        "test": [
                          0.4319327862,
                          0.8161434978
                        ]
                      },
                      {
                        "learn": [
                          0.2896928947,
                          0.9011976048
                        ],
                        "iteration": 325,
                        "passed_time": 2.911249178,
                        "remaining_time": 6.018963024,
                        "test": [
                          0.4319441094,
                          0.8161434978
                        ]
                      },
                      {
                        "learn": [
                          0.2888304641,
                          0.9011976048
                        ],
                        "iteration": 326,
                        "passed_time": 2.915181663,
                        "remaining_time": 5.999746971,
                        "test": [
                          0.4316016222,
                          0.8161434978
                        ]
                      },
                      {
                        "learn": [
                          0.2887539305,
                          0.9011976048
                        ],
                        "iteration": 327,
                        "passed_time": 2.919794086,
                        "remaining_time": 5.982017151,
                        "test": [
                          0.4315481324,
                          0.8161434978
                        ]
                      },
                      {
                        "learn": [
                          0.2885679245,
                          0.9011976048
                        ],
                        "iteration": 328,
                        "passed_time": 2.924106006,
                        "remaining_time": 5.963754194,
                        "test": [
                          0.4327372226,
                          0.8161434978
                        ]
                      },
                      {
                        "learn": [
                          0.287934274,
                          0.9011976048
                        ],
                        "iteration": 329,
                        "passed_time": 2.928420004,
                        "remaining_time": 5.945580009,
                        "test": [
                          0.4328412526,
                          0.8161434978
                        ]
                      },
                      {
                        "learn": [
                          0.2874154834,
                          0.9011976048
                        ],
                        "iteration": 330,
                        "passed_time": 2.93411978,
                        "remaining_time": 5.930290432,
                        "test": [
                          0.4323752047,
                          0.8161434978
                        ]
                      },
                      {
                        "learn": [
                          0.286830039,
                          0.9011976048
                        ],
                        "iteration": 331,
                        "passed_time": 2.9484891,
                        "remaining_time": 5.932502165,
                        "test": [
                          0.4326487017,
                          0.8161434978
                        ]
                      },
                      {
                        "learn": [
                          0.2866410925,
                          0.9011976048
                        ],
                        "iteration": 332,
                        "passed_time": 2.960397356,
                        "remaining_time": 5.929684794,
                        "test": [
                          0.432217999,
                          0.8161434978
                        ]
                      },
                      {
                        "learn": [
                          0.2860232344,
                          0.8997005988
                        ],
                        "iteration": 333,
                        "passed_time": 2.975460201,
                        "remaining_time": 5.933103275,
                        "test": [
                          0.4320636697,
                          0.8161434978
                        ]
                      },
                      {
                        "learn": [
                          0.2859240698,
                          0.8997005988
                        ],
                        "iteration": 334,
                        "passed_time": 2.98030758,
                        "remaining_time": 5.916132958,
                        "test": [
                          0.4318107574,
                          0.8161434978
                        ]
                      },
                      {
                        "learn": [
                          0.2858835138,
                          0.8997005988
                        ],
                        "iteration": 335,
                        "passed_time": 2.986219786,
                        "remaining_time": 5.9013391,
                        "test": [
                          0.4318280901,
                          0.8161434978
                        ]
                      },
                      {
                        "learn": [
                          0.2852232485,
                          0.9011976048
                        ],
                        "iteration": 336,
                        "passed_time": 3.001270774,
                        "remaining_time": 5.904577221,
                        "test": [
                          0.4324887083,
                          0.8161434978
                        ]
                      },
                      {
                        "learn": [
                          0.2843734275,
                          0.9026946108
                        ],
                        "iteration": 337,
                        "passed_time": 3.054941209,
                        "remaining_time": 5.983346392,
                        "test": [
                          0.432886141,
                          0.8161434978
                        ]
                      },
                      {
                        "learn": [
                          0.2842929206,
                          0.9026946108
                        ],
                        "iteration": 338,
                        "passed_time": 3.081866434,
                        "remaining_time": 6.009184993,
                        "test": [
                          0.4329809015,
                          0.8161434978
                        ]
                      },
                      {
                        "learn": [
                          0.283327596,
                          0.9011976048
                        ],
                        "iteration": 339,
                        "passed_time": 3.094657512,
                        "remaining_time": 6.007276347,
                        "test": [
                          0.4330496152,
                          0.8161434978
                        ]
                      },
                      {
                        "learn": [
                          0.2829781112,
                          0.9026946108
                        ],
                        "iteration": 340,
                        "passed_time": 3.107317317,
                        "remaining_time": 6.005050182,
                        "test": [
                          0.433450543,
                          0.8161434978
                        ]
                      },
                      {
                        "learn": [
                          0.282922062,
                          0.9026946108
                        ],
                        "iteration": 341,
                        "passed_time": 3.116070737,
                        "remaining_time": 5.995247207,
                        "test": [
                          0.4334580141,
                          0.8161434978
                        ]
                      },
                      {
                        "learn": [
                          0.2819303694,
                          0.9056886228
                        ],
                        "iteration": 342,
                        "passed_time": 3.131013549,
                        "remaining_time": 5.997305836,
                        "test": [
                          0.4337502374,
                          0.8161434978
                        ]
                      },
                      {
                        "learn": [
                          0.2812948773,
                          0.9041916168
                        ],
                        "iteration": 343,
                        "passed_time": 3.138630764,
                        "remaining_time": 5.985295875,
                        "test": [
                          0.4338608235,
                          0.8161434978
                        ]
                      },
                      {
                        "learn": [
                          0.2805342852,
                          0.9056886228
                        ],
                        "iteration": 344,
                        "passed_time": 3.147226924,
                        "remaining_time": 5.975169958,
                        "test": [
                          0.4340547091,
                          0.8161434978
                        ]
                      },
                      {
                        "learn": [
                          0.2804067308,
                          0.9041916168
                        ],
                        "iteration": 345,
                        "passed_time": 3.17559944,
                        "remaining_time": 6.002433623,
                        "test": [
                          0.4340132346,
                          0.8161434978
                        ]
                      },
                      {
                        "learn": [
                          0.2795335576,
                          0.9041916168
                        ],
                        "iteration": 346,
                        "passed_time": 3.188763093,
                        "remaining_time": 6.000755906,
                        "test": [
                          0.433898599,
                          0.8161434978
                        ]
                      },
                      {
                        "learn": [
                          0.2790202084,
                          0.9041916168
                        ],
                        "iteration": 347,
                        "passed_time": 3.198610553,
                        "remaining_time": 5.992799083,
                        "test": [
                          0.4340624739,
                          0.8161434978
                        ]
                      },
                      {
                        "learn": [
                          0.2787090453,
                          0.9056886228
                        ],
                        "iteration": 348,
                        "passed_time": 3.213419357,
                        "remaining_time": 5.994085963,
                        "test": [
                          0.4338392915,
                          0.8161434978
                        ]
                      },
                      {
                        "learn": [
                          0.2786622516,
                          0.9056886228
                        ],
                        "iteration": 349,
                        "passed_time": 3.23699793,
                        "remaining_time": 6.011567584,
                        "test": [
                          0.4338784577,
                          0.8161434978
                        ]
                      },
                      {
                        "learn": [
                          0.2783817398,
                          0.9056886228
                        ],
                        "iteration": 350,
                        "passed_time": 3.241025298,
                        "remaining_time": 5.992665009,
                        "test": [
                          0.433778141,
                          0.8161434978
                        ]
                      },
                      {
                        "learn": [
                          0.2776203155,
                          0.9056886228
                        ],
                        "iteration": 351,
                        "passed_time": 3.244803756,
                        "remaining_time": 5.973388732,
                        "test": [
                          0.43392007,
                          0.8161434978
                        ]
                      },
                      {
                        "learn": [
                          0.2774402458,
                          0.9056886228
                        ],
                        "iteration": 352,
                        "passed_time": 3.248652154,
                        "remaining_time": 5.954328452,
                        "test": [
                          0.4338789128,
                          0.8161434978
                        ]
                      },
                      {
                        "learn": [
                          0.2771317736,
                          0.9071856287
                        ],
                        "iteration": 353,
                        "passed_time": 3.252464625,
                        "remaining_time": 5.935288554,
                        "test": [
                          0.4337073845,
                          0.8161434978
                        ]
                      },
                      {
                        "learn": [
                          0.2770350662,
                          0.9071856287
                        ],
                        "iteration": 354,
                        "passed_time": 3.256175984,
                        "remaining_time": 5.916150732,
                        "test": [
                          0.4335990098,
                          0.8161434978
                        ]
                      },
                      {
                        "learn": [
                          0.2764095191,
                          0.9071856287
                        ],
                        "iteration": 355,
                        "passed_time": 3.260018378,
                        "remaining_time": 5.897336616,
                        "test": [
                          0.4338720409,
                          0.8161434978
                        ]
                      },
                      {
                        "learn": [
                          0.2762139085,
                          0.9071856287
                        ],
                        "iteration": 356,
                        "passed_time": 3.263255561,
                        "remaining_time": 5.877516319,
                        "test": [
                          0.4338312515,
                          0.8161434978
                        ]
                      },
                      {
                        "learn": [
                          0.2761035947,
                          0.9071856287
                        ],
                        "iteration": 357,
                        "passed_time": 3.267140894,
                        "remaining_time": 5.858950988,
                        "test": [
                          0.4336662573,
                          0.8161434978
                        ]
                      },
                      {
                        "learn": [
                          0.2751432081,
                          0.9071856287
                        ],
                        "iteration": 358,
                        "passed_time": 3.27087626,
                        "remaining_time": 5.840199672,
                        "test": [
                          0.4345112599,
                          0.8161434978
                        ]
                      },
                      {
                        "learn": [
                          0.2746409513,
                          0.9071856287
                        ],
                        "iteration": 359,
                        "passed_time": 3.275130974,
                        "remaining_time": 5.822455066,
                        "test": [
                          0.4349587408,
                          0.8161434978
                        ]
                      },
                      {
                        "learn": [
                          0.2736139891,
                          0.9071856287
                        ],
                        "iteration": 360,
                        "passed_time": 3.279054316,
                        "remaining_time": 5.804198636,
                        "test": [
                          0.4352091277,
                          0.8161434978
                        ]
                      },
                      {
                        "learn": [
                          0.2732050794,
                          0.9071856287
                        ],
                        "iteration": 361,
                        "passed_time": 3.282720515,
                        "remaining_time": 5.7855682,
                        "test": [
                          0.4353315279,
                          0.8161434978
                        ]
                      },
                      {
                        "learn": [
                          0.2724235704,
                          0.9071856287
                        ],
                        "iteration": 362,
                        "passed_time": 3.286705694,
                        "remaining_time": 5.767579965,
                        "test": [
                          0.4351411505,
                          0.8161434978
                        ]
                      },
                      {
                        "learn": [
                          0.2723979454,
                          0.9071856287
                        ],
                        "iteration": 363,
                        "passed_time": 3.290085498,
                        "remaining_time": 5.748610924,
                        "test": [
                          0.4351166135,
                          0.8161434978
                        ]
                      },
                      {
                        "learn": [
                          0.2719471715,
                          0.9086826347
                        ],
                        "iteration": 364,
                        "passed_time": 3.294324429,
                        "remaining_time": 5.731221952,
                        "test": [
                          0.4351588301,
                          0.8161434978
                        ]
                      },
                      {
                        "learn": [
                          0.2715742076,
                          0.9071856287
                        ],
                        "iteration": 365,
                        "passed_time": 3.298485402,
                        "remaining_time": 5.713769796,
                        "test": [
                          0.435127658,
                          0.8161434978
                        ]
                      },
                      {
                        "learn": [
                          0.2714911503,
                          0.9071856287
                        ],
                        "iteration": 366,
                        "passed_time": 3.302277382,
                        "remaining_time": 5.695753631,
                        "test": [
                          0.4351686545,
                          0.8161434978
                        ]
                      },
                      {
                        "learn": [
                          0.2711449486,
                          0.9086826347
                        ],
                        "iteration": 367,
                        "passed_time": 3.306136425,
                        "remaining_time": 5.677929947,
                        "test": [
                          0.4351802385,
                          0.8161434978
                        ]
                      },
                      {
                        "learn": [
                          0.2710050846,
                          0.9086826347
                        ],
                        "iteration": 368,
                        "passed_time": 3.30941877,
                        "remaining_time": 5.659195783,
                        "test": [
                          0.435402409,
                          0.8161434978
                        ]
                      },
                      {
                        "learn": [
                          0.27062681,
                          0.9086826347
                        ],
                        "iteration": 369,
                        "passed_time": 3.313593286,
                        "remaining_time": 5.642064244,
                        "test": [
                          0.4347895954,
                          0.8161434978
                        ]
                      },
                      {
                        "learn": [
                          0.2698162331,
                          0.9086826347
                        ],
                        "iteration": 370,
                        "passed_time": 3.317538282,
                        "remaining_time": 5.624613421,
                        "test": [
                          0.4351962005,
                          0.8161434978
                        ]
                      },
                      {
                        "learn": [
                          0.2693699396,
                          0.9086826347
                        ],
                        "iteration": 371,
                        "passed_time": 3.321332566,
                        "remaining_time": 5.606980784,
                        "test": [
                          0.4355363055,
                          0.8161434978
                        ]
                      },
                      {
                        "learn": [
                          0.2691341533,
                          0.9086826347
                        ],
                        "iteration": 372,
                        "passed_time": 3.329386127,
                        "remaining_time": 5.596582042,
                        "test": [
                          0.435767875,
                          0.8161434978
                        ]
                      },
                      {
                        "learn": [
                          0.2685237302,
                          0.9071856287
                        ],
                        "iteration": 373,
                        "passed_time": 3.33459173,
                        "remaining_time": 5.581428939,
                        "test": [
                          0.4357506071,
                          0.8161434978
                        ]
                      },
                      {
                        "learn": [
                          0.2683245247,
                          0.9071856287
                        ],
                        "iteration": 374,
                        "passed_time": 3.339520934,
                        "remaining_time": 5.565868224,
                        "test": [
                          0.4365057891,
                          0.8161434978
                        ]
                      },
                      {
                        "learn": [
                          0.2681302043,
                          0.9071856287
                        ],
                        "iteration": 375,
                        "passed_time": 3.344680782,
                        "remaining_time": 5.55074683,
                        "test": [
                          0.4363979346,
                          0.8161434978
                        ]
                      },
                      {
                        "learn": [
                          0.2677073312,
                          0.9071856287
                        ],
                        "iteration": 376,
                        "passed_time": 3.348849662,
                        "remaining_time": 5.534040688,
                        "test": [
                          0.4370621333,
                          0.8161434978
                        ]
                      },
                      {
                        "learn": [
                          0.2676774331,
                          0.9071856287
                        ],
                        "iteration": 377,
                        "passed_time": 3.352665475,
                        "remaining_time": 5.516819909,
                        "test": [
                          0.4369980455,
                          0.8161434978
                        ]
                      },
                      {
                        "learn": [
                          0.2671900198,
                          0.9071856287
                        ],
                        "iteration": 378,
                        "passed_time": 3.356606817,
                        "remaining_time": 5.49987555,
                        "test": [
                          0.4372565058,
                          0.8161434978
                        ]
                      },
                      {
                        "learn": [
                          0.266835039,
                          0.9071856287
                        ],
                        "iteration": 379,
                        "passed_time": 3.36407228,
                        "remaining_time": 5.488749509,
                        "test": [
                          0.436977846,
                          0.8161434978
                        ]
                      },
                      {
                        "learn": [
                          0.2666823178,
                          0.9071856287
                        ],
                        "iteration": 380,
                        "passed_time": 3.368427719,
                        "remaining_time": 5.472589916,
                        "test": [
                          0.4370117733,
                          0.8161434978
                        ]
                      },
                      {
                        "learn": [
                          0.2666436473,
                          0.9071856287
                        ],
                        "iteration": 381,
                        "passed_time": 3.372464607,
                        "remaining_time": 5.455976772,
                        "test": [
                          0.4370217015,
                          0.8161434978
                        ]
                      },
                      {
                        "learn": [
                          0.2662642342,
                          0.9071856287
                        ],
                        "iteration": 382,
                        "passed_time": 3.376207823,
                        "remaining_time": 5.438956206,
                        "test": [
                          0.4366281362,
                          0.8161434978
                        ]
                      },
                      {
                        "learn": [
                          0.2661271847,
                          0.9071856287
                        ],
                        "iteration": 383,
                        "passed_time": 3.380176446,
                        "remaining_time": 5.422366382,
                        "test": [
                          0.4364733225,
                          0.8161434978
                        ]
                      },
                      {
                        "learn": [
                          0.2658764099,
                          0.9071856287
                        ],
                        "iteration": 384,
                        "passed_time": 3.383677748,
                        "remaining_time": 5.405095624,
                        "test": [
                          0.4365044088,
                          0.8161434978
                        ]
                      },
                      {
                        "learn": [
                          0.2656074834,
                          0.9086826347
                        ],
                        "iteration": 385,
                        "passed_time": 3.387565689,
                        "remaining_time": 5.388511226,
                        "test": [
                          0.4366742611,
                          0.8161434978
                        ]
                      },
                      {
                        "learn": [
                          0.26554106,
                          0.9086826347
                        ],
                        "iteration": 386,
                        "passed_time": 3.391280192,
                        "remaining_time": 5.37171772,
                        "test": [
                          0.4364877404,
                          0.8161434978
                        ]
                      },
                      {
                        "learn": [
                          0.2648780679,
                          0.9086826347
                        ],
                        "iteration": 387,
                        "passed_time": 3.395202213,
                        "remaining_time": 5.355318955,
                        "test": [
                          0.43690855,
                          0.8161434978
                        ]
                      },
                      {
                        "learn": [
                          0.2646747228,
                          0.9086826347
                        ],
                        "iteration": 388,
                        "passed_time": 3.398975543,
                        "remaining_time": 5.338750788,
                        "test": [
                          0.4366007729,
                          0.8161434978
                        ]
                      },
                      {
                        "learn": [
                          0.2635722519,
                          0.9101796407
                        ],
                        "iteration": 389,
                        "passed_time": 3.402988326,
                        "remaining_time": 5.322622766,
                        "test": [
                          0.4362925843,
                          0.8161434978
                        ]
                      },
                      {
                        "learn": [
                          0.2634631093,
                          0.9101796407
                        ],
                        "iteration": 390,
                        "passed_time": 3.406211044,
                        "remaining_time": 5.305326153,
                        "test": [
                          0.4365976621,
                          0.8161434978
                        ]
                      },
                      {
                        "learn": [
                          0.2634131452,
                          0.9101796407
                        ],
                        "iteration": 391,
                        "passed_time": 3.409550235,
                        "remaining_time": 5.288281997,
                        "test": [
                          0.4365290552,
                          0.8161434978
                        ]
                      },
                      {
                        "learn": [
                          0.2633616246,
                          0.9101796407
                        ],
                        "iteration": 392,
                        "passed_time": 3.412765509,
                        "remaining_time": 5.271116193,
                        "test": [
                          0.4364824541,
                          0.8161434978
                        ]
                      },
                      {
                        "learn": [
                          0.2628106297,
                          0.9086826347
                        ],
                        "iteration": 393,
                        "passed_time": 3.416666137,
                        "remaining_time": 5.255075327,
                        "test": [
                          0.4371816377,
                          0.8161434978
                        ]
                      },
                      {
                        "learn": [
                          0.2625773805,
                          0.9101796407
                        ],
                        "iteration": 394,
                        "passed_time": 3.420335855,
                        "remaining_time": 5.238742259,
                        "test": [
                          0.4370251338,
                          0.8161434978
                        ]
                      },
                      {
                        "learn": [
                          0.2616799121,
                          0.9101796407
                        ],
                        "iteration": 395,
                        "passed_time": 3.423995355,
                        "remaining_time": 5.222457562,
                        "test": [
                          0.4371132613,
                          0.8161434978
                        ]
                      },
                      {
                        "learn": [
                          0.2608627448,
                          0.9101796407
                        ],
                        "iteration": 396,
                        "passed_time": 3.427552295,
                        "remaining_time": 5.206080689,
                        "test": [
                          0.4370701046,
                          0.8161434978
                        ]
                      },
                      {
                        "learn": [
                          0.2605276015,
                          0.9101796407
                        ],
                        "iteration": 397,
                        "passed_time": 3.433163058,
                        "remaining_time": 5.192874777,
                        "test": [
                          0.4364794238,
                          0.8161434978
                        ]
                      },
                      {
                        "learn": [
                          0.259672343,
                          0.9086826347
                        ],
                        "iteration": 398,
                        "passed_time": 3.438863701,
                        "remaining_time": 5.179842316,
                        "test": [
                          0.4364283483,
                          0.8161434978
                        ]
                      },
                      {
                        "learn": [
                          0.259378162,
                          0.9086826347
                        ],
                        "iteration": 399,
                        "passed_time": 3.442909533,
                        "remaining_time": 5.1643643,
                        "test": [
                          0.4361543792,
                          0.8161434978
                        ]
                      },
                      {
                        "learn": [
                          0.2590371389,
                          0.9101796407
                        ],
                        "iteration": 400,
                        "passed_time": 3.446631645,
                        "remaining_time": 5.148459739,
                        "test": [
                          0.4365288949,
                          0.8161434978
                        ]
                      },
                      {
                        "learn": [
                          0.2582600716,
                          0.9101796407
                        ],
                        "iteration": 401,
                        "passed_time": 3.450450957,
                        "remaining_time": 5.132760378,
                        "test": [
                          0.4365136948,
                          0.8116591928
                        ]
                      },
                      {
                        "learn": [
                          0.257977494,
                          0.9101796407
                        ],
                        "iteration": 402,
                        "passed_time": 3.454040774,
                        "remaining_time": 5.116780005,
                        "test": [
                          0.4368073026,
                          0.8116591928
                        ]
                      },
                      {
                        "learn": [
                          0.2571744701,
                          0.9116766467
                        ],
                        "iteration": 403,
                        "passed_time": 3.457992326,
                        "remaining_time": 5.10139462,
                        "test": [
                          0.4368860789,
                          0.8116591928
                        ]
                      },
                      {
                        "learn": [
                          0.2569021327,
                          0.9101796407
                        ],
                        "iteration": 404,
                        "passed_time": 3.461839984,
                        "remaining_time": 5.085913063,
                        "test": [
                          0.4369629585,
                          0.8116591928
                        ]
                      },
                      {
                        "learn": [
                          0.2565848554,
                          0.9101796407
                        ],
                        "iteration": 405,
                        "passed_time": 3.465983465,
                        "remaining_time": 5.070921622,
                        "test": [
                          0.4373379193,
                          0.8116591928
                        ]
                      },
                      {
                        "learn": [
                          0.2563838929,
                          0.9101796407
                        ],
                        "iteration": 406,
                        "passed_time": 3.470239657,
                        "remaining_time": 5.056147706,
                        "test": [
                          0.4372269656,
                          0.8116591928
                        ]
                      },
                      {
                        "learn": [
                          0.2558064398,
                          0.9101796407
                        ],
                        "iteration": 407,
                        "passed_time": 3.473831349,
                        "remaining_time": 5.040461173,
                        "test": [
                          0.4379994685,
                          0.8116591928
                        ]
                      },
                      {
                        "learn": [
                          0.2554716645,
                          0.9131736527
                        ],
                        "iteration": 408,
                        "passed_time": 3.477651186,
                        "remaining_time": 5.02516345,
                        "test": [
                          0.4383039982,
                          0.8116591928
                        ]
                      },
                      {
                        "learn": [
                          0.255381691,
                          0.9131736527
                        ],
                        "iteration": 409,
                        "passed_time": 3.481124162,
                        "remaining_time": 5.009422575,
                        "test": [
                          0.4381017374,
                          0.8116591928
                        ]
                      },
                      {
                        "learn": [
                          0.2552433442,
                          0.9131736527
                        ],
                        "iteration": 410,
                        "passed_time": 3.484736042,
                        "remaining_time": 4.99394046,
                        "test": [
                          0.4381754461,
                          0.8116591928
                        ]
                      },
                      {
                        "learn": [
                          0.2551245438,
                          0.9131736527
                        ],
                        "iteration": 411,
                        "passed_time": 3.488361838,
                        "remaining_time": 4.978535827,
                        "test": [
                          0.4380099462,
                          0.8116591928
                        ]
                      },
                      {
                        "learn": [
                          0.2548827322,
                          0.9161676647
                        ],
                        "iteration": 412,
                        "passed_time": 3.492367426,
                        "remaining_time": 4.963728037,
                        "test": [
                          0.4383142697,
                          0.8116591928
                        ]
                      },
                      {
                        "learn": [
                          0.2542510285,
                          0.9146706587
                        ],
                        "iteration": 413,
                        "passed_time": 3.49602799,
                        "remaining_time": 4.948484063,
                        "test": [
                          0.4384729673,
                          0.8116591928
                        ]
                      },
                      {
                        "learn": [
                          0.2538328534,
                          0.9146706587
                        ],
                        "iteration": 414,
                        "passed_time": 3.49976624,
                        "remaining_time": 4.933405423,
                        "test": [
                          0.4391158669,
                          0.8116591928
                        ]
                      },
                      {
                        "learn": [
                          0.2537049483,
                          0.9131736527
                        ],
                        "iteration": 415,
                        "passed_time": 3.503323165,
                        "remaining_time": 4.918126751,
                        "test": [
                          0.4390269436,
                          0.8116591928
                        ]
                      },
                      {
                        "learn": [
                          0.2534762796,
                          0.9146706587
                        ],
                        "iteration": 416,
                        "passed_time": 3.507516887,
                        "remaining_time": 4.903794592,
                        "test": [
                          0.4385684665,
                          0.8116591928
                        ]
                      },
                      {
                        "learn": [
                          0.2534025894,
                          0.9146706587
                        ],
                        "iteration": 417,
                        "passed_time": 3.510867938,
                        "remaining_time": 4.888337656,
                        "test": [
                          0.4385594531,
                          0.8161434978
                        ]
                      },
                      {
                        "learn": [
                          0.2533740165,
                          0.9146706587
                        ],
                        "iteration": 418,
                        "passed_time": 3.514553911,
                        "remaining_time": 4.873402918,
                        "test": [
                          0.4385575443,
                          0.8161434978
                        ]
                      },
                      {
                        "learn": [
                          0.252640827,
                          0.9146706587
                        ],
                        "iteration": 419,
                        "passed_time": 3.51847479,
                        "remaining_time": 4.858846139,
                        "test": [
                          0.4392376294,
                          0.8116591928
                        ]
                      },
                      {
                        "learn": [
                          0.2521456682,
                          0.9146706587
                        ],
                        "iteration": 420,
                        "passed_time": 3.522518841,
                        "remaining_time": 4.844509285,
                        "test": [
                          0.439335304,
                          0.8116591928
                        ]
                      },
                      {
                        "learn": [
                          0.2521123074,
                          0.9146706587
                        ],
                        "iteration": 421,
                        "passed_time": 3.526280254,
                        "remaining_time": 4.829834093,
                        "test": [
                          0.4393497516,
                          0.8116591928
                        ]
                      },
                      {
                        "learn": [
                          0.2514133524,
                          0.9176646707
                        ],
                        "iteration": 422,
                        "passed_time": 3.530074657,
                        "remaining_time": 4.815255502,
                        "test": [
                          0.4392276082,
                          0.8161434978
                        ]
                      },
                      {
                        "learn": [
                          0.2513370924,
                          0.9176646707
                        ],
                        "iteration": 423,
                        "passed_time": 3.533510372,
                        "remaining_time": 4.800240506,
                        "test": [
                          0.4392642691,
                          0.8161434978
                        ]
                      },
                      {
                        "learn": [
                          0.251152059,
                          0.9161676647
                        ],
                        "iteration": 424,
                        "passed_time": 3.537024861,
                        "remaining_time": 4.785386577,
                        "test": [
                          0.439317149,
                          0.8161434978
                        ]
                      },
                      {
                        "learn": [
                          0.2509594934,
                          0.9161676647
                        ],
                        "iteration": 425,
                        "passed_time": 3.541103531,
                        "remaining_time": 4.771346072,
                        "test": [
                          0.4389792947,
                          0.8161434978
                        ]
                      },
                      {
                        "learn": [
                          0.2504093046,
                          0.9176646707
                        ],
                        "iteration": 426,
                        "passed_time": 3.545102834,
                        "remaining_time": 4.757245723,
                        "test": [
                          0.4393979543,
                          0.8161434978
                        ]
                      },
                      {
                        "learn": [
                          0.2502430538,
                          0.9176646707
                        ],
                        "iteration": 427,
                        "passed_time": 3.548338926,
                        "remaining_time": 4.742172583,
                        "test": [
                          0.4397428372,
                          0.8161434978
                        ]
                      },
                      {
                        "learn": [
                          0.2501370677,
                          0.9161676647
                        ],
                        "iteration": 428,
                        "passed_time": 3.552163467,
                        "remaining_time": 4.727937854,
                        "test": [
                          0.4396030705,
                          0.8161434978
                        ]
                      },
                      {
                        "learn": [
                          0.2497585669,
                          0.9176646707
                        ],
                        "iteration": 429,
                        "passed_time": 3.556283611,
                        "remaining_time": 4.714143392,
                        "test": [
                          0.4396552279,
                          0.8161434978
                        ]
                      },
                      {
                        "learn": [
                          0.2495205539,
                          0.9176646707
                        ],
                        "iteration": 430,
                        "passed_time": 3.559912162,
                        "remaining_time": 4.699744826,
                        "test": [
                          0.4394478924,
                          0.8161434978
                        ]
                      },
                      {
                        "learn": [
                          0.2492045412,
                          0.9191616766
                        ],
                        "iteration": 431,
                        "passed_time": 3.564049647,
                        "remaining_time": 4.686065277,
                        "test": [
                          0.4392986972,
                          0.8161434978
                        ]
                      },
                      {
                        "learn": [
                          0.2488797969,
                          0.9191616766
                        ],
                        "iteration": 432,
                        "passed_time": 3.567828691,
                        "remaining_time": 4.671960434,
                        "test": [
                          0.4397606807,
                          0.8161434978
                        ]
                      },
                      {
                        "learn": [
                          0.2483586609,
                          0.9191616766
                        ],
                        "iteration": 433,
                        "passed_time": 3.571687685,
                        "remaining_time": 4.658007442,
                        "test": [
                          0.4400261191,
                          0.8161434978
                        ]
                      },
                      {
                        "learn": [
                          0.248176672,
                          0.9191616766
                        ],
                        "iteration": 434,
                        "passed_time": 3.575589465,
                        "remaining_time": 4.644156431,
                        "test": [
                          0.4399235853,
                          0.8161434978
                        ]
                      },
                      {
                        "learn": [
                          0.2479839198,
                          0.9191616766
                        ],
                        "iteration": 435,
                        "passed_time": 3.57924437,
                        "remaining_time": 4.630031708,
                        "test": [
                          0.4398579126,
                          0.8161434978
                        ]
                      },
                      {
                        "learn": [
                          0.2479358727,
                          0.9191616766
                        ],
                        "iteration": 436,
                        "passed_time": 3.583071112,
                        "remaining_time": 4.616176284,
                        "test": [
                          0.4397815788,
                          0.8161434978
                        ]
                      },
                      {
                        "learn": [
                          0.2479065782,
                          0.9191616766
                        ],
                        "iteration": 437,
                        "passed_time": 3.586742475,
                        "remaining_time": 4.602167285,
                        "test": [
                          0.4397776574,
                          0.8161434978
                        ]
                      },
                      {
                        "learn": [
                          0.2475171875,
                          0.9191616766
                        ],
                        "iteration": 438,
                        "passed_time": 3.590708641,
                        "remaining_time": 4.588582113,
                        "test": [
                          0.4401106962,
                          0.8161434978
                        ]
                      },
                      {
                        "learn": [
                          0.2469302445,
                          0.9191616766
                        ],
                        "iteration": 439,
                        "passed_time": 3.594734747,
                        "remaining_time": 4.575116951,
                        "test": [
                          0.4399538337,
                          0.8161434978
                        ]
                      },
                      {
                        "learn": [
                          0.2459956738,
                          0.9191616766
                        ],
                        "iteration": 440,
                        "passed_time": 3.598644996,
                        "remaining_time": 4.561547739,
                        "test": [
                          0.4412066027,
                          0.8161434978
                        ]
                      },
                      {
                        "learn": [
                          0.245596565,
                          0.9191616766
                        ],
                        "iteration": 441,
                        "passed_time": 3.602445053,
                        "remaining_time": 4.547883121,
                        "test": [
                          0.4410872695,
                          0.8161434978
                        ]
                      },
                      {
                        "learn": [
                          0.2455308598,
                          0.9191616766
                        ],
                        "iteration": 442,
                        "passed_time": 3.606253982,
                        "remaining_time": 4.534274194,
                        "test": [
                          0.4411220482,
                          0.8161434978
                        ]
                      },
                      {
                        "learn": [
                          0.245084005,
                          0.9191616766
                        ],
                        "iteration": 443,
                        "passed_time": 3.61011718,
                        "remaining_time": 4.52077737,
                        "test": [
                          0.442005616,
                          0.8161434978
                        ]
                      },
                      {
                        "learn": [
                          0.244669787,
                          0.9206586826
                        ],
                        "iteration": 444,
                        "passed_time": 3.614362856,
                        "remaining_time": 4.507800865,
                        "test": [
                          0.4420781702,
                          0.8161434978
                        ]
                      },
                      {
                        "learn": [
                          0.2443173094,
                          0.9191616766
                        ],
                        "iteration": 445,
                        "passed_time": 3.618095621,
                        "remaining_time": 4.494226399,
                        "test": [
                          0.4426558238,
                          0.8161434978
                        ]
                      },
                      {
                        "learn": [
                          0.2437715915,
                          0.9191616766
                        ],
                        "iteration": 446,
                        "passed_time": 3.62199765,
                        "remaining_time": 4.48090537,
                        "test": [
                          0.443050461,
                          0.8161434978
                        ]
                      },
                      {
                        "learn": [
                          0.2435476067,
                          0.9191616766
                        ],
                        "iteration": 447,
                        "passed_time": 3.626166395,
                        "remaining_time": 4.467955022,
                        "test": [
                          0.4428991094,
                          0.8161434978
                        ]
                      },
                      {
                        "learn": [
                          0.2434445265,
                          0.9206586826
                        ],
                        "iteration": 448,
                        "passed_time": 3.630030938,
                        "remaining_time": 4.454670482,
                        "test": [
                          0.4427464191,
                          0.8161434978
                        ]
                      },
                      {
                        "learn": [
                          0.2427630464,
                          0.9206586826
                        ],
                        "iteration": 449,
                        "passed_time": 3.634000528,
                        "remaining_time": 4.441556201,
                        "test": [
                          0.4429039816,
                          0.8161434978
                        ]
                      },
                      {
                        "learn": [
                          0.242468967,
                          0.9206586826
                        ],
                        "iteration": 450,
                        "passed_time": 3.637519008,
                        "remaining_time": 4.427933338,
                        "test": [
                          0.4425882047,
                          0.8161434978
                        ]
                      },
                      {
                        "learn": [
                          0.2421166997,
                          0.9206586826
                        ],
                        "iteration": 451,
                        "passed_time": 3.641345262,
                        "remaining_time": 4.414728326,
                        "test": [
                          0.4430563974,
                          0.8161434978
                        ]
                      },
                      {
                        "learn": [
                          0.2411985551,
                          0.9206586826
                        ],
                        "iteration": 452,
                        "passed_time": 3.644970343,
                        "remaining_time": 4.401321805,
                        "test": [
                          0.4423735244,
                          0.8161434978
                        ]
                      },
                      {
                        "learn": [
                          0.2405727901,
                          0.9206586826
                        ],
                        "iteration": 453,
                        "passed_time": 3.648481677,
                        "remaining_time": 4.387821577,
                        "test": [
                          0.442704538,
                          0.8161434978
                        ]
                      },
                      {
                        "learn": [
                          0.2398519329,
                          0.9206586826
                        ],
                        "iteration": 454,
                        "passed_time": 3.652380126,
                        "remaining_time": 4.374828942,
                        "test": [
                          0.4429677446,
                          0.8161434978
                        ]
                      },
                      {
                        "learn": [
                          0.2395792846,
                          0.9206586826
                        ],
                        "iteration": 455,
                        "passed_time": 3.655958278,
                        "remaining_time": 4.361494086,
                        "test": [
                          0.4428348105,
                          0.8161434978
                        ]
                      },
                      {
                        "learn": [
                          0.2395214886,
                          0.9206586826
                        ],
                        "iteration": 456,
                        "passed_time": 3.660883445,
                        "remaining_time": 4.34980243,
                        "test": [
                          0.4428070143,
                          0.8161434978
                        ]
                      },
                      {
                        "learn": [
                          0.2391137919,
                          0.9206586826
                        ],
                        "iteration": 457,
                        "passed_time": 3.664824738,
                        "remaining_time": 4.336976,
                        "test": [
                          0.4430580922,
                          0.8161434978
                        ]
                      },
                      {
                        "learn": [
                          0.2387980085,
                          0.9206586826
                        ],
                        "iteration": 458,
                        "passed_time": 3.669270525,
                        "remaining_time": 4.324782907,
                        "test": [
                          0.4432085192,
                          0.8161434978
                        ]
                      },
                      {
                        "learn": [
                          0.2383950005,
                          0.9206586826
                        ],
                        "iteration": 459,
                        "passed_time": 3.673135374,
                        "remaining_time": 4.311941527,
                        "test": [
                          0.444050777,
                          0.8161434978
                        ]
                      },
                      {
                        "learn": [
                          0.2383026039,
                          0.9206586826
                        ],
                        "iteration": 460,
                        "passed_time": 3.676214455,
                        "remaining_time": 4.298220372,
                        "test": [
                          0.4441728692,
                          0.8161434978
                        ]
                      },
                      {
                        "learn": [
                          0.2379317825,
                          0.9221556886
                        ],
                        "iteration": 461,
                        "passed_time": 3.67993679,
                        "remaining_time": 4.285294357,
                        "test": [
                          0.4443152057,
                          0.8161434978
                        ]
                      },
                      {
                        "learn": [
                          0.2377888716,
                          0.9221556886
                        ],
                        "iteration": 462,
                        "passed_time": 3.683738223,
                        "remaining_time": 4.272499839,
                        "test": [
                          0.4442882204,
                          0.8161434978
                        ]
                      },
                      {
                        "learn": [
                          0.2375463992,
                          0.9221556886
                        ],
                        "iteration": 463,
                        "passed_time": 3.687419095,
                        "remaining_time": 4.259604816,
                        "test": [
                          0.4446982813,
                          0.8206278027
                        ]
                      },
                      {
                        "learn": [
                          0.2369840214,
                          0.9221556886
                        ],
                        "iteration": 464,
                        "passed_time": 3.691436768,
                        "remaining_time": 4.247136926,
                        "test": [
                          0.4449706933,
                          0.8206278027
                        ]
                      },
                      {
                        "learn": [
                          0.2368640714,
                          0.9221556886
                        ],
                        "iteration": 465,
                        "passed_time": 3.69541899,
                        "remaining_time": 4.234664679,
                        "test": [
                          0.4449075635,
                          0.8206278027
                        ]
                      },
                      {
                        "learn": [
                          0.2364510941,
                          0.9221556886
                        ],
                        "iteration": 466,
                        "passed_time": 3.699361682,
                        "remaining_time": 4.222183675,
                        "test": [
                          0.4446888739,
                          0.8206278027
                        ]
                      },
                      {
                        "learn": [
                          0.2364140897,
                          0.9221556886
                        ],
                        "iteration": 467,
                        "passed_time": 3.702219498,
                        "remaining_time": 4.208505925,
                        "test": [
                          0.4445679436,
                          0.8206278027
                        ]
                      },
                      {
                        "learn": [
                          0.2362992674,
                          0.9221556886
                        ],
                        "iteration": 468,
                        "passed_time": 3.706407743,
                        "remaining_time": 4.196380622,
                        "test": [
                          0.4445067108,
                          0.8206278027
                        ]
                      },
                      {
                        "learn": [
                          0.2359695444,
                          0.9221556886
                        ],
                        "iteration": 469,
                        "passed_time": 3.712347951,
                        "remaining_time": 4.186264711,
                        "test": [
                          0.4441272414,
                          0.8206278027
                        ]
                      },
                      {
                        "learn": [
                          0.2359570225,
                          0.9221556886
                        ],
                        "iteration": 470,
                        "passed_time": 3.716765839,
                        "remaining_time": 4.174456749,
                        "test": [
                          0.4441307108,
                          0.8206278027
                        ]
                      },
                      {
                        "learn": [
                          0.2354190614,
                          0.9221556886
                        ],
                        "iteration": 471,
                        "passed_time": 3.720560244,
                        "remaining_time": 4.161982646,
                        "test": [
                          0.4442176862,
                          0.8206278027
                        ]
                      },
                      {
                        "learn": [
                          0.2350289304,
                          0.9236526946
                        ],
                        "iteration": 472,
                        "passed_time": 3.724863,
                        "remaining_time": 4.15011163,
                        "test": [
                          0.4443399812,
                          0.8206278027
                        ]
                      },
                      {
                        "learn": [
                          0.2344276529,
                          0.9221556886
                        ],
                        "iteration": 473,
                        "passed_time": 3.728784058,
                        "remaining_time": 4.137848976,
                        "test": [
                          0.4449621136,
                          0.8206278027
                        ]
                      },
                      {
                        "learn": [
                          0.2339860246,
                          0.9221556886
                        ],
                        "iteration": 474,
                        "passed_time": 3.732437684,
                        "remaining_time": 4.125325861,
                        "test": [
                          0.4447600752,
                          0.8206278027
                        ]
                      },
                      {
                        "learn": [
                          0.2338952791,
                          0.9221556886
                        ],
                        "iteration": 475,
                        "passed_time": 3.736347151,
                        "remaining_time": 4.113121654,
                        "test": [
                          0.4446206603,
                          0.8206278027
                        ]
                      },
                      {
                        "learn": [
                          0.2338733235,
                          0.9221556886
                        ],
                        "iteration": 476,
                        "passed_time": 3.739989657,
                        "remaining_time": 4.100659519,
                        "test": [
                          0.4446484882,
                          0.8206278027
                        ]
                      },
                      {
                        "learn": [
                          0.2338375444,
                          0.9221556886
                        ],
                        "iteration": 477,
                        "passed_time": 3.743875743,
                        "remaining_time": 4.088500289,
                        "test": [
                          0.4446994816,
                          0.8206278027
                        ]
                      },
                      {
                        "learn": [
                          0.2337923569,
                          0.9221556886
                        ],
                        "iteration": 478,
                        "passed_time": 3.748048725,
                        "remaining_time": 4.076687653,
                        "test": [
                          0.4445989488,
                          0.8206278027
                        ]
                      },
                      {
                        "learn": [
                          0.2336409371,
                          0.9221556886
                        ],
                        "iteration": 479,
                        "passed_time": 3.7521597,
                        "remaining_time": 4.064839675,
                        "test": [
                          0.4445356648,
                          0.8206278027
                        ]
                      },
                      {
                        "learn": [
                          0.2335171584,
                          0.9221556886
                        ],
                        "iteration": 480,
                        "passed_time": 3.756284822,
                        "remaining_time": 4.053039132,
                        "test": [
                          0.4443221817,
                          0.8206278027
                        ]
                      },
                      {
                        "learn": [
                          0.2327892073,
                          0.9221556886
                        ],
                        "iteration": 481,
                        "passed_time": 3.759971245,
                        "remaining_time": 4.040798973,
                        "test": [
                          0.4442937711,
                          0.8206278027
                        ]
                      },
                      {
                        "learn": [
                          0.2326622002,
                          0.9236526946
                        ],
                        "iteration": 482,
                        "passed_time": 3.763764984,
                        "remaining_time": 4.028709103,
                        "test": [
                          0.4441929646,
                          0.8206278027
                        ]
                      },
                      {
                        "learn": [
                          0.2326380069,
                          0.9236526946
                        ],
                        "iteration": 483,
                        "passed_time": 3.767413029,
                        "remaining_time": 4.016498188,
                        "test": [
                          0.4442263943,
                          0.8206278027
                        ]
                      },
                      {
                        "learn": [
                          0.2321821655,
                          0.9251497006
                        ],
                        "iteration": 484,
                        "passed_time": 3.771268285,
                        "remaining_time": 4.004542612,
                        "test": [
                          0.4445637509,
                          0.8206278027
                        ]
                      },
                      {
                        "learn": [
                          0.2318718655,
                          0.9251497006
                        ],
                        "iteration": 485,
                        "passed_time": 3.77575404,
                        "remaining_time": 3.993287194,
                        "test": [
                          0.4449424082,
                          0.8206278027
                        ]
                      },
                      {
                        "learn": [
                          0.2316490067,
                          0.9251497006
                        ],
                        "iteration": 486,
                        "passed_time": 3.779659552,
                        "remaining_time": 3.981448358,
                        "test": [
                          0.445257408,
                          0.8206278027
                        ]
                      },
                      {
                        "learn": [
                          0.2312735522,
                          0.9251497006
                        ],
                        "iteration": 487,
                        "passed_time": 3.783718254,
                        "remaining_time": 3.969802758,
                        "test": [
                          0.4450946704,
                          0.8206278027
                        ]
                      },
                      {
                        "learn": [
                          0.2311457928,
                          0.9251497006
                        ],
                        "iteration": 488,
                        "passed_time": 3.786932241,
                        "remaining_time": 3.957305471,
                        "test": [
                          0.4451026859,
                          0.8206278027
                        ]
                      },
                      {
                        "learn": [
                          0.2308087972,
                          0.9251497006
                        ],
                        "iteration": 489,
                        "passed_time": 3.790972192,
                        "remaining_time": 3.945705751,
                        "test": [
                          0.4452742537,
                          0.8206278027
                        ]
                      },
                      {
                        "learn": [
                          0.2307122002,
                          0.9236526946
                        ],
                        "iteration": 490,
                        "passed_time": 3.795092379,
                        "remaining_time": 3.934220002,
                        "test": [
                          0.4453273236,
                          0.8206278027
                        ]
                      },
                      {
                        "learn": [
                          0.2302471649,
                          0.9251497006
                        ],
                        "iteration": 491,
                        "passed_time": 3.798832206,
                        "remaining_time": 3.922371464,
                        "test": [
                          0.4455663782,
                          0.8206278027
                        ]
                      },
                      {
                        "learn": [
                          0.2300287819,
                          0.9266467066
                        ],
                        "iteration": 492,
                        "passed_time": 3.802656785,
                        "remaining_time": 3.910642982,
                        "test": [
                          0.4455219539,
                          0.8206278027
                        ]
                      },
                      {
                        "learn": [
                          0.2299581339,
                          0.9281437126
                        ],
                        "iteration": 493,
                        "passed_time": 3.805622642,
                        "remaining_time": 3.898066916,
                        "test": [
                          0.445507394,
                          0.8206278027
                        ]
                      },
                      {
                        "learn": [
                          0.2299379794,
                          0.9281437126
                        ],
                        "iteration": 494,
                        "passed_time": 3.809239548,
                        "remaining_time": 3.886193882,
                        "test": [
                          0.4455344064,
                          0.8206278027
                        ]
                      },
                      {
                        "learn": [
                          0.2297676328,
                          0.9281437126
                        ],
                        "iteration": 495,
                        "passed_time": 3.81308384,
                        "remaining_time": 3.874585192,
                        "test": [
                          0.4454705442,
                          0.8206278027
                        ]
                      },
                      {
                        "learn": [
                          0.2289290792,
                          0.9281437126
                        ],
                        "iteration": 496,
                        "passed_time": 3.817045261,
                        "remaining_time": 3.86312629,
                        "test": [
                          0.4451842839,
                          0.8206278027
                        ]
                      },
                      {
                        "learn": [
                          0.2289077661,
                          0.9281437126
                        ],
                        "iteration": 497,
                        "passed_time": 3.822975311,
                        "remaining_time": 3.85368194,
                        "test": [
                          0.4451903834,
                          0.8206278027
                        ]
                      },
                      {
                        "learn": [
                          0.2285024775,
                          0.9281437126
                        ],
                        "iteration": 498,
                        "passed_time": 3.829227819,
                        "remaining_time": 3.844575425,
                        "test": [
                          0.4452801822,
                          0.8206278027
                        ]
                      },
                      {
                        "learn": [
                          0.2282258759,
                          0.9281437126
                        ],
                        "iteration": 499,
                        "passed_time": 3.832968805,
                        "remaining_time": 3.832968805,
                        "test": [
                          0.4456401681,
                          0.8206278027
                        ]
                      },
                      {
                        "learn": [
                          0.2277670949,
                          0.9281437126
                        ],
                        "iteration": 500,
                        "passed_time": 3.836891041,
                        "remaining_time": 3.821574111,
                        "test": [
                          0.4459115334,
                          0.8161434978
                        ]
                      },
                      {
                        "learn": [
                          0.2270771317,
                          0.9281437126
                        ],
                        "iteration": 501,
                        "passed_time": 3.840594529,
                        "remaining_time": 3.809992182,
                        "test": [
                          0.4455449436,
                          0.8161434978
                        ]
                      },
                      {
                        "learn": [
                          0.2269199086,
                          0.9281437126
                        ],
                        "iteration": 502,
                        "passed_time": 3.844102267,
                        "remaining_time": 3.798248164,
                        "test": [
                          0.4454775544,
                          0.8206278027
                        ]
                      },
                      {
                        "learn": [
                          0.2264261704,
                          0.9296407186
                        ],
                        "iteration": 503,
                        "passed_time": 3.847887152,
                        "remaining_time": 3.786809578,
                        "test": [
                          0.4458643645,
                          0.8206278027
                        ]
                      },
                      {
                        "learn": [
                          0.2262881482,
                          0.9296407186
                        ],
                        "iteration": 504,
                        "passed_time": 3.851974369,
                        "remaining_time": 3.775697649,
                        "test": [
                          0.4458687327,
                          0.8206278027
                        ]
                      },
                      {
                        "learn": [
                          0.2261207297,
                          0.9296407186
                        ],
                        "iteration": 505,
                        "passed_time": 3.856062463,
                        "remaining_time": 3.764614341,
                        "test": [
                          0.445814795,
                          0.8206278027
                        ]
                      },
                      {
                        "learn": [
                          0.2256660262,
                          0.9296407186
                        ],
                        "iteration": 506,
                        "passed_time": 3.860170865,
                        "remaining_time": 3.753578376,
                        "test": [
                          0.4458989536,
                          0.8161434978
                        ]
                      },
                      {
                        "learn": [
                          0.2250995518,
                          0.9311377246
                        ],
                        "iteration": 507,
                        "passed_time": 3.863962165,
                        "remaining_time": 3.742262569,
                        "test": [
                          0.4462669637,
                          0.8161434978
                        ]
                      },
                      {
                        "learn": [
                          0.2247014139,
                          0.9311377246
                        ],
                        "iteration": 508,
                        "passed_time": 3.867378053,
                        "remaining_time": 3.730614192,
                        "test": [
                          0.4467023695,
                          0.8161434978
                        ]
                      },
                      {
                        "learn": [
                          0.2246672705,
                          0.9311377246
                        ],
                        "iteration": 509,
                        "passed_time": 3.871334387,
                        "remaining_time": 3.719517352,
                        "test": [
                          0.4466532074,
                          0.8161434978
                        ]
                      },
                      {
                        "learn": [
                          0.2245764468,
                          0.9311377246
                        ],
                        "iteration": 510,
                        "passed_time": 3.874895723,
                        "remaining_time": 3.708070466,
                        "test": [
                          0.4474845834,
                          0.8161434978
                        ]
                      },
                      {
                        "learn": [
                          0.224020778,
                          0.9326347305
                        ],
                        "iteration": 511,
                        "passed_time": 3.878301455,
                        "remaining_time": 3.696506074,
                        "test": [
                          0.4480636606,
                          0.8116591928
                        ]
                      },
                      {
                        "learn": [
                          0.2232460988,
                          0.9326347305
                        ],
                        "iteration": 512,
                        "passed_time": 3.882250417,
                        "remaining_time": 3.685489187,
                        "test": [
                          0.4478249406,
                          0.8116591928
                        ]
                      },
                      {
                        "learn": [
                          0.2227226684,
                          0.9326347305
                        ],
                        "iteration": 513,
                        "passed_time": 3.885925297,
                        "remaining_time": 3.67424065,
                        "test": [
                          0.4484523961,
                          0.8116591928
                        ]
                      },
                      {
                        "learn": [
                          0.2226082926,
                          0.9326347305
                        ],
                        "iteration": 514,
                        "passed_time": 3.889567824,
                        "remaining_time": 3.662991057,
                        "test": [
                          0.4485435171,
                          0.8116591928
                        ]
                      },
                      {
                        "learn": [
                          0.2219426187,
                          0.9326347305
                        ],
                        "iteration": 515,
                        "passed_time": 3.893399462,
                        "remaining_time": 3.651948333,
                        "test": [
                          0.4487474189,
                          0.8116591928
                        ]
                      },
                      {
                        "learn": [
                          0.2215475509,
                          0.9326347305
                        ],
                        "iteration": 516,
                        "passed_time": 3.897178495,
                        "remaining_time": 3.640884358,
                        "test": [
                          0.4489132917,
                          0.8116591928
                        ]
                      },
                      {
                        "learn": [
                          0.2215289492,
                          0.9326347305
                        ],
                        "iteration": 517,
                        "passed_time": 3.900738202,
                        "remaining_time": 3.629644428,
                        "test": [
                          0.4489201247,
                          0.8116591928
                        ]
                      },
                      {
                        "learn": [
                          0.2213377636,
                          0.9326347305
                        ],
                        "iteration": 518,
                        "passed_time": 3.904388857,
                        "remaining_time": 3.618518382,
                        "test": [
                          0.449344152,
                          0.8116591928
                        ]
                      },
                      {
                        "learn": [
                          0.221076433,
                          0.9326347305
                        ],
                        "iteration": 519,
                        "passed_time": 3.907774704,
                        "remaining_time": 3.60717665,
                        "test": [
                          0.4496818824,
                          0.8116591928
                        ]
                      },
                      {
                        "learn": [
                          0.2205685791,
                          0.9326347305
                        ],
                        "iteration": 520,
                        "passed_time": 3.911558702,
                        "remaining_time": 3.596231513,
                        "test": [
                          0.4502594949,
                          0.8116591928
                        ]
                      },
                      {
                        "learn": [
                          0.2204869306,
                          0.9326347305
                        ],
                        "iteration": 521,
                        "passed_time": 3.915632342,
                        "remaining_time": 3.585579041,
                        "test": [
                          0.4503056562,
                          0.8116591928
                        ]
                      },
                      {
                        "learn": [
                          0.220019367,
                          0.9326347305
                        ],
                        "iteration": 522,
                        "passed_time": 3.919847314,
                        "remaining_time": 3.575080629,
                        "test": [
                          0.45037044,
                          0.8161434978
                        ]
                      },
                      {
                        "learn": [
                          0.2196234195,
                          0.9326347305
                        ],
                        "iteration": 523,
                        "passed_time": 3.923728533,
                        "remaining_time": 3.564303018,
                        "test": [
                          0.4501308645,
                          0.8161434978
                        ]
                      },
                      {
                        "learn": [
                          0.2194418658,
                          0.9326347305
                        ],
                        "iteration": 524,
                        "passed_time": 3.927790659,
                        "remaining_time": 3.553715358,
                        "test": [
                          0.4501791508,
                          0.8161434978
                        ]
                      },
                      {
                        "learn": [
                          0.2189508636,
                          0.9326347305
                        ],
                        "iteration": 525,
                        "passed_time": 3.931640607,
                        "remaining_time": 3.542961308,
                        "test": [
                          0.4500708066,
                          0.8116591928
                        ]
                      },
                      {
                        "learn": [
                          0.2185187422,
                          0.9326347305
                        ],
                        "iteration": 526,
                        "passed_time": 3.935608897,
                        "remaining_time": 3.532339674,
                        "test": [
                          0.4505395277,
                          0.8116591928
                        ]
                      },
                      {
                        "learn": [
                          0.2180320261,
                          0.9326347305
                        ],
                        "iteration": 527,
                        "passed_time": 3.939605051,
                        "remaining_time": 3.521768152,
                        "test": [
                          0.4505646842,
                          0.8116591928
                        ]
                      },
                      {
                        "learn": [
                          0.2175475179,
                          0.9326347305
                        ],
                        "iteration": 528,
                        "passed_time": 3.943490189,
                        "remaining_time": 3.511122645,
                        "test": [
                          0.4507293221,
                          0.8116591928
                        ]
                      },
                      {
                        "learn": [
                          0.2168233018,
                          0.9326347305
                        ],
                        "iteration": 529,
                        "passed_time": 3.947347438,
                        "remaining_time": 3.500477916,
                        "test": [
                          0.4510111784,
                          0.8116591928
                        ]
                      },
                      {
                        "learn": [
                          0.2167598968,
                          0.9326347305
                        ],
                        "iteration": 530,
                        "passed_time": 3.950976307,
                        "remaining_time": 3.489657039,
                        "test": [
                          0.4510473168,
                          0.8116591928
                        ]
                      },
                      {
                        "learn": [
                          0.2167246374,
                          0.9326347305
                        ],
                        "iteration": 531,
                        "passed_time": 3.954645188,
                        "remaining_time": 3.478898398,
                        "test": [
                          0.4509535651,
                          0.8116591928
                        ]
                      },
                      {
                        "learn": [
                          0.2162023104,
                          0.9326347305
                        ],
                        "iteration": 532,
                        "passed_time": 3.961296639,
                        "remaining_time": 3.470779607,
                        "test": [
                          0.4510439252,
                          0.8161434978
                        ]
                      },
                      {
                        "learn": [
                          0.2158528736,
                          0.9341317365
                        ],
                        "iteration": 533,
                        "passed_time": 3.965718334,
                        "remaining_time": 3.460720493,
                        "test": [
                          0.4513964592,
                          0.8161434978
                        ]
                      },
                      {
                        "learn": [
                          0.2158041908,
                          0.9341317365
                        ],
                        "iteration": 534,
                        "passed_time": 3.969436132,
                        "remaining_time": 3.450070657,
                        "test": [
                          0.4514186789,
                          0.8161434978
                        ]
                      },
                      {
                        "learn": [
                          0.2155216674,
                          0.9356287425
                        ],
                        "iteration": 535,
                        "passed_time": 3.97351781,
                        "remaining_time": 3.439761686,
                        "test": [
                          0.4516825054,
                          0.8161434978
                        ]
                      },
                      {
                        "learn": [
                          0.2150331563,
                          0.9371257485
                        ],
                        "iteration": 536,
                        "passed_time": 3.977390989,
                        "remaining_time": 3.429296141,
                        "test": [
                          0.4517707135,
                          0.8161434978
                        ]
                      },
                      {
                        "learn": [
                          0.2148616324,
                          0.9371257485
                        ],
                        "iteration": 537,
                        "passed_time": 3.9810113,
                        "remaining_time": 3.418637956,
                        "test": [
                          0.4518524912,
                          0.8161434978
                        ]
                      },
                      {
                        "learn": [
                          0.2144821575,
                          0.9371257485
                        ],
                        "iteration": 538,
                        "passed_time": 3.984883659,
                        "remaining_time": 3.40822146,
                        "test": [
                          0.4518894001,
                          0.8161434978
                        ]
                      },
                      {
                        "learn": [
                          0.2143524901,
                          0.9371257485
                        ],
                        "iteration": 539,
                        "passed_time": 3.988464292,
                        "remaining_time": 3.397580693,
                        "test": [
                          0.4521438533,
                          0.8161434978
                        ]
                      },
                      {
                        "learn": [
                          0.2141765369,
                          0.9371257485
                        ],
                        "iteration": 540,
                        "passed_time": 3.992342717,
                        "remaining_time": 3.387218682,
                        "test": [
                          0.4519614545,
                          0.8161434978
                        ]
                      },
                      {
                        "learn": [
                          0.2140278215,
                          0.9371257485
                        ],
                        "iteration": 541,
                        "passed_time": 3.996445103,
                        "remaining_time": 3.377069847,
                        "test": [
                          0.4523866736,
                          0.8161434978
                        ]
                      },
                      {
                        "learn": [
                          0.2139677479,
                          0.9371257485
                        ],
                        "iteration": 542,
                        "passed_time": 4.000505219,
                        "remaining_time": 3.366907707,
                        "test": [
                          0.4522542958,
                          0.8161434978
                        ]
                      },
                      {
                        "learn": [
                          0.2139452726,
                          0.9371257485
                        ],
                        "iteration": 543,
                        "passed_time": 4.003781118,
                        "remaining_time": 3.356110643,
                        "test": [
                          0.452271146,
                          0.8161434978
                        ]
                      },
                      {
                        "learn": [
                          0.2135463671,
                          0.9371257485
                        ],
                        "iteration": 544,
                        "passed_time": 4.0077184,
                        "remaining_time": 3.345893343,
                        "test": [
                          0.452987204,
                          0.8161434978
                        ]
                      },
                      {
                        "learn": [
                          0.2133814466,
                          0.9371257485
                        ],
                        "iteration": 545,
                        "passed_time": 4.011515866,
                        "remaining_time": 3.335582789,
                        "test": [
                          0.4531526783,
                          0.8161434978
                        ]
                      },
                      {
                        "learn": [
                          0.2130384024,
                          0.9371257485
                        ],
                        "iteration": 546,
                        "passed_time": 4.015118363,
                        "remaining_time": 3.325134586,
                        "test": [
                          0.4528590228,
                          0.8161434978
                        ]
                      },
                      {
                        "learn": [
                          0.2130188408,
                          0.9371257485
                        ],
                        "iteration": 547,
                        "passed_time": 4.018857536,
                        "remaining_time": 3.314824099,
                        "test": [
                          0.4528583421,
                          0.8161434978
                        ]
                      },
                      {
                        "learn": [
                          0.2129032543,
                          0.9371257485
                        ],
                        "iteration": 548,
                        "passed_time": 4.02263492,
                        "remaining_time": 3.304568941,
                        "test": [
                          0.4529457024,
                          0.8161434978
                        ]
                      },
                      {
                        "learn": [
                          0.2128786478,
                          0.9371257485
                        ],
                        "iteration": 549,
                        "passed_time": 4.026310053,
                        "remaining_time": 3.294253679,
                        "test": [
                          0.4529585882,
                          0.8161434978
                        ]
                      },
                      {
                        "learn": [
                          0.2127758682,
                          0.9371257485
                        ],
                        "iteration": 550,
                        "passed_time": 4.029923757,
                        "remaining_time": 3.283912462,
                        "test": [
                          0.4528673375,
                          0.8161434978
                        ]
                      },
                      {
                        "learn": [
                          0.2126552197,
                          0.9371257485
                        ],
                        "iteration": 551,
                        "passed_time": 4.033188973,
                        "remaining_time": 3.27331279,
                        "test": [
                          0.4531096806,
                          0.8161434978
                        ]
                      },
                      {
                        "learn": [
                          0.2123698816,
                          0.9371257485
                        ],
                        "iteration": 552,
                        "passed_time": 4.036942097,
                        "remaining_time": 3.263134027,
                        "test": [
                          0.4534018695,
                          0.8161434978
                        ]
                      },
                      {
                        "learn": [
                          0.2123539839,
                          0.9371257485
                        ],
                        "iteration": 553,
                        "passed_time": 4.040934717,
                        "remaining_time": 3.253171271,
                        "test": [
                          0.4534059994,
                          0.8161434978
                        ]
                      },
                      {
                        "learn": [
                          0.2117885665,
                          0.9371257485
                        ],
                        "iteration": 554,
                        "passed_time": 4.044886786,
                        "remaining_time": 3.243197513,
                        "test": [
                          0.4544586257,
                          0.8161434978
                        ]
                      },
                      {
                        "learn": [
                          0.2113296008,
                          0.9371257485
                        ],
                        "iteration": 555,
                        "passed_time": 4.048600173,
                        "remaining_time": 3.233054814,
                        "test": [
                          0.4546565979,
                          0.8161434978
                        ]
                      },
                      {
                        "learn": [
                          0.2112927145,
                          0.9371257485
                        ],
                        "iteration": 556,
                        "passed_time": 4.052572343,
                        "remaining_time": 3.22314102,
                        "test": [
                          0.4545404495,
                          0.8161434978
                        ]
                      },
                      {
                        "learn": [
                          0.2110267763,
                          0.9371257485
                        ],
                        "iteration": 557,
                        "passed_time": 4.056098044,
                        "remaining_time": 3.212894866,
                        "test": [
                          0.4548324626,
                          0.8161434978
                        ]
                      },
                      {
                        "learn": [
                          0.2110043557,
                          0.9371257485
                        ],
                        "iteration": 558,
                        "passed_time": 4.059897578,
                        "remaining_time": 3.202888787,
                        "test": [
                          0.4548563565,
                          0.8161434978
                        ]
                      },
                      {
                        "learn": [
                          0.2103298212,
                          0.9371257485
                        ],
                        "iteration": 559,
                        "passed_time": 4.063416807,
                        "remaining_time": 3.192684634,
                        "test": [
                          0.4549291478,
                          0.8116591928
                        ]
                      },
                      {
                        "learn": [
                          0.2100130879,
                          0.9371257485
                        ],
                        "iteration": 560,
                        "passed_time": 4.067116291,
                        "remaining_time": 3.182645368,
                        "test": [
                          0.4551448224,
                          0.8116591928
                        ]
                      },
                      {
                        "learn": [
                          0.2099271287,
                          0.9371257485
                        ],
                        "iteration": 561,
                        "passed_time": 4.070799379,
                        "remaining_time": 3.172615886,
                        "test": [
                          0.4551670441,
                          0.8116591928
                        ]
                      },
                      {
                        "learn": [
                          0.2097078169,
                          0.9371257485
                        ],
                        "iteration": 562,
                        "passed_time": 4.074613631,
                        "remaining_time": 3.162710758,
                        "test": [
                          0.4551672014,
                          0.8116591928
                        ]
                      },
                      {
                        "learn": [
                          0.2093313416,
                          0.9371257485
                        ],
                        "iteration": 563,
                        "passed_time": 4.078571655,
                        "remaining_time": 3.152938372,
                        "test": [
                          0.4549329118,
                          0.8116591928
                        ]
                      },
                      {
                        "learn": [
                          0.2090820896,
                          0.9371257485
                        ],
                        "iteration": 564,
                        "passed_time": 4.082589758,
                        "remaining_time": 3.143232822,
                        "test": [
                          0.4551805983,
                          0.8116591928
                        ]
                      },
                      {
                        "learn": [
                          0.2087772063,
                          0.9371257485
                        ],
                        "iteration": 565,
                        "passed_time": 4.086871152,
                        "remaining_time": 3.133749258,
                        "test": [
                          0.4553777165,
                          0.8116591928
                        ]
                      },
                      {
                        "learn": [
                          0.2082289409,
                          0.9371257485
                        ],
                        "iteration": 566,
                        "passed_time": 4.090756305,
                        "remaining_time": 3.123981446,
                        "test": [
                          0.455199312,
                          0.8116591928
                        ]
                      },
                      {
                        "learn": [
                          0.2081586292,
                          0.9371257485
                        ],
                        "iteration": 567,
                        "passed_time": 4.094540677,
                        "remaining_time": 3.114157698,
                        "test": [
                          0.4551849077,
                          0.8116591928
                        ]
                      },
                      {
                        "learn": [
                          0.2079769595,
                          0.9371257485
                        ],
                        "iteration": 568,
                        "passed_time": 4.130869294,
                        "remaining_time": 3.129006443,
                        "test": [
                          0.4550368374,
                          0.8116591928
                        ]
                      },
                      {
                        "learn": [
                          0.2079611812,
                          0.9371257485
                        ],
                        "iteration": 569,
                        "passed_time": 4.139671422,
                        "remaining_time": 3.12291002,
                        "test": [
                          0.4550380788,
                          0.8116591928
                        ]
                      },
                      {
                        "learn": [
                          0.2079468743,
                          0.9371257485
                        ],
                        "iteration": 570,
                        "passed_time": 4.147422542,
                        "remaining_time": 3.116014484,
                        "test": [
                          0.4550620114,
                          0.8116591928
                        ]
                      },
                      {
                        "learn": [
                          0.2078455406,
                          0.9371257485
                        ],
                        "iteration": 571,
                        "passed_time": 4.158037486,
                        "remaining_time": 3.111258818,
                        "test": [
                          0.4548271593,
                          0.8116591928
                        ]
                      },
                      {
                        "learn": [
                          0.2075015337,
                          0.9371257485
                        ],
                        "iteration": 572,
                        "passed_time": 4.168896607,
                        "remaining_time": 3.106664662,
                        "test": [
                          0.4549233672,
                          0.8116591928
                        ]
                      },
                      {
                        "learn": [
                          0.2067600342,
                          0.9416167665
                        ],
                        "iteration": 573,
                        "passed_time": 4.17801112,
                        "remaining_time": 3.100753898,
                        "test": [
                          0.4558492098,
                          0.8116591928
                        ]
                      },
                      {
                        "learn": [
                          0.2062860622,
                          0.9416167665
                        ],
                        "iteration": 574,
                        "passed_time": 4.181852111,
                        "remaining_time": 3.090934169,
                        "test": [
                          0.4561823413,
                          0.8116591928
                        ]
                      },
                      {
                        "learn": [
                          0.2062706735,
                          0.9416167665
                        ],
                        "iteration": 575,
                        "passed_time": 4.185976002,
                        "remaining_time": 3.081343446,
                        "test": [
                          0.456186288,
                          0.8116591928
                        ]
                      },
                      {
                        "learn": [
                          0.2058778593,
                          0.9431137725
                        ],
                        "iteration": 576,
                        "passed_time": 4.190048917,
                        "remaining_time": 3.071734301,
                        "test": [
                          0.4565100287,
                          0.8116591928
                        ]
                      },
                      {
                        "learn": [
                          0.2058615295,
                          0.9431137725
                        ],
                        "iteration": 577,
                        "passed_time": 4.193863048,
                        "remaining_time": 3.061955374,
                        "test": [
                          0.4565265915,
                          0.8116591928
                        ]
                      },
                      {
                        "learn": [
                          0.2056511344,
                          0.9416167665
                        ],
                        "iteration": 578,
                        "passed_time": 4.197604129,
                        "remaining_time": 3.052143935,
                        "test": [
                          0.4568375119,
                          0.8116591928
                        ]
                      },
                      {
                        "learn": [
                          0.2052669854,
                          0.9431137725
                        ],
                        "iteration": 579,
                        "passed_time": 4.201563711,
                        "remaining_time": 3.042511653,
                        "test": [
                          0.4571524194,
                          0.8116591928
                        ]
                      },
                      {
                        "learn": [
                          0.2048275695,
                          0.9431137725
                        ],
                        "iteration": 580,
                        "passed_time": 4.205172054,
                        "remaining_time": 3.032645595,
                        "test": [
                          0.4577715709,
                          0.8116591928
                        ]
                      },
                      {
                        "learn": [
                          0.204365432,
                          0.9431137725
                        ],
                        "iteration": 581,
                        "passed_time": 4.209146703,
                        "remaining_time": 3.023064127,
                        "test": [
                          0.4580842291,
                          0.8161434978
                        ]
                      },
                      {
                        "learn": [
                          0.2039738923,
                          0.9431137725
                        ],
                        "iteration": 582,
                        "passed_time": 4.213088968,
                        "remaining_time": 3.01347873,
                        "test": [
                          0.4589055347,
                          0.8116591928
                        ]
                      },
                      {
                        "learn": [
                          0.2033715101,
                          0.9431137725
                        ],
                        "iteration": 583,
                        "passed_time": 4.21702135,
                        "remaining_time": 3.003905619,
                        "test": [
                          0.4588968056,
                          0.8116591928
                        ]
                      },
                      {
                        "learn": [
                          0.2032225012,
                          0.9446107784
                        ],
                        "iteration": 584,
                        "passed_time": 4.220891634,
                        "remaining_time": 2.99430774,
                        "test": [
                          0.4587570412,
                          0.8116591928
                        ]
                      },
                      {
                        "learn": [
                          0.203086375,
                          0.9446107784
                        ],
                        "iteration": 585,
                        "passed_time": 4.224614253,
                        "remaining_time": 2.984625086,
                        "test": [
                          0.4588886219,
                          0.8116591928
                        ]
                      },
                      {
                        "learn": [
                          0.2027526009,
                          0.9446107784
                        ],
                        "iteration": 586,
                        "passed_time": 4.228634581,
                        "remaining_time": 2.975172201,
                        "test": [
                          0.458981008,
                          0.8116591928
                        ]
                      },
                      {
                        "learn": [
                          0.2024206123,
                          0.9446107784
                        ],
                        "iteration": 587,
                        "passed_time": 4.23278363,
                        "remaining_time": 2.965827985,
                        "test": [
                          0.4589668988,
                          0.8116591928
                        ]
                      },
                      {
                        "learn": [
                          0.202289949,
                          0.9431137725
                        ],
                        "iteration": 588,
                        "passed_time": 4.236728951,
                        "remaining_time": 2.956359251,
                        "test": [
                          0.4589675256,
                          0.8116591928
                        ]
                      },
                      {
                        "learn": [
                          0.2015298436,
                          0.9431137725
                        ],
                        "iteration": 589,
                        "passed_time": 4.240540867,
                        "remaining_time": 2.946816534,
                        "test": [
                          0.4591839147,
                          0.8116591928
                        ]
                      },
                      {
                        "learn": [
                          0.2014403746,
                          0.9431137725
                        ],
                        "iteration": 590,
                        "passed_time": 4.244405005,
                        "remaining_time": 2.937329352,
                        "test": [
                          0.4590463993,
                          0.8116591928
                        ]
                      },
                      {
                        "learn": [
                          0.2010458384,
                          0.9446107784
                        ],
                        "iteration": 591,
                        "passed_time": 4.248225665,
                        "remaining_time": 2.927831201,
                        "test": [
                          0.4593685574,
                          0.8116591928
                        ]
                      },
                      {
                        "learn": [
                          0.2009343892,
                          0.9446107784
                        ],
                        "iteration": 592,
                        "passed_time": 4.251957903,
                        "remaining_time": 2.918291512,
                        "test": [
                          0.4591797678,
                          0.8116591928
                        ]
                      },
                      {
                        "learn": [
                          0.2007419755,
                          0.9431137725
                        ],
                        "iteration": 593,
                        "passed_time": 4.256933026,
                        "remaining_time": 2.90962089,
                        "test": [
                          0.4594473412,
                          0.8116591928
                        ]
                      },
                      {
                        "learn": [
                          0.2006202296,
                          0.9431137725
                        ],
                        "iteration": 594,
                        "passed_time": 4.260743206,
                        "remaining_time": 2.900169745,
                        "test": [
                          0.4592224404,
                          0.8116591928
                        ]
                      },
                      {
                        "learn": [
                          0.200378443,
                          0.9431137725
                        ],
                        "iteration": 595,
                        "passed_time": 4.264553591,
                        "remaining_time": 2.890737669,
                        "test": [
                          0.4593204432,
                          0.8116591928
                        ]
                      },
                      {
                        "learn": [
                          0.2002765619,
                          0.9431137725
                        ],
                        "iteration": 596,
                        "passed_time": 4.268321866,
                        "remaining_time": 2.881296,
                        "test": [
                          0.4594471122,
                          0.8116591928
                        ]
                      },
                      {
                        "learn": [
                          0.2002231261,
                          0.9446107784
                        ],
                        "iteration": 597,
                        "passed_time": 4.272261228,
                        "remaining_time": 2.871988317,
                        "test": [
                          0.4594478738,
                          0.8116591928
                        ]
                      },
                      {
                        "learn": [
                          0.2001421616,
                          0.9446107784
                        ],
                        "iteration": 598,
                        "passed_time": 4.276195944,
                        "remaining_time": 2.862695448,
                        "test": [
                          0.4593191797,
                          0.8116591928
                        ]
                      },
                      {
                        "learn": [
                          0.199872065,
                          0.9461077844
                        ],
                        "iteration": 599,
                        "passed_time": 4.280163437,
                        "remaining_time": 2.853442292,
                        "test": [
                          0.4595015648,
                          0.8116591928
                        ]
                      },
                      {
                        "learn": [
                          0.1996856129,
                          0.9461077844
                        ],
                        "iteration": 600,
                        "passed_time": 4.284525216,
                        "remaining_time": 2.844468488,
                        "test": [
                          0.4595837854,
                          0.8116591928
                        ]
                      },
                      {
                        "learn": [
                          0.1993155763,
                          0.9461077844
                        ],
                        "iteration": 601,
                        "passed_time": 4.288407786,
                        "remaining_time": 2.835193187,
                        "test": [
                          0.4598885886,
                          0.8116591928
                        ]
                      },
                      {
                        "learn": [
                          0.1991502573,
                          0.9476047904
                        ],
                        "iteration": 602,
                        "passed_time": 4.292036427,
                        "remaining_time": 2.825768593,
                        "test": [
                          0.4601393923,
                          0.8116591928
                        ]
                      },
                      {
                        "learn": [
                          0.1990395396,
                          0.9461077844
                        ],
                        "iteration": 603,
                        "passed_time": 4.295814615,
                        "remaining_time": 2.816461238,
                        "test": [
                          0.4601208231,
                          0.8116591928
                        ]
                      },
                      {
                        "learn": [
                          0.19896843,
                          0.9461077844
                        ],
                        "iteration": 604,
                        "passed_time": 4.300432998,
                        "remaining_time": 2.807720718,
                        "test": [
                          0.4600603366,
                          0.8116591928
                        ]
                      },
                      {
                        "learn": [
                          0.1988650269,
                          0.9461077844
                        ],
                        "iteration": 605,
                        "passed_time": 4.304105552,
                        "remaining_time": 2.798378858,
                        "test": [
                          0.4600915561,
                          0.8116591928
                        ]
                      },
                      {
                        "learn": [
                          0.198850984,
                          0.9461077844
                        ],
                        "iteration": 606,
                        "passed_time": 4.308095683,
                        "remaining_time": 2.789261291,
                        "test": [
                          0.460091318,
                          0.8116591928
                        ]
                      },
                      {
                        "learn": [
                          0.1987907929,
                          0.9461077844
                        ],
                        "iteration": 607,
                        "passed_time": 4.311660558,
                        "remaining_time": 2.779886413,
                        "test": [
                          0.4600928101,
                          0.8116591928
                        ]
                      },
                      {
                        "learn": [
                          0.1985099873,
                          0.9461077844
                        ],
                        "iteration": 608,
                        "passed_time": 4.315086748,
                        "remaining_time": 2.770441574,
                        "test": [
                          0.459970701,
                          0.8116591928
                        ]
                      },
                      {
                        "learn": [
                          0.1983854767,
                          0.9461077844
                        ],
                        "iteration": 609,
                        "passed_time": 4.318777834,
                        "remaining_time": 2.761185828,
                        "test": [
                          0.4596590604,
                          0.8116591928
                        ]
                      },
                      {
                        "learn": [
                          0.1978881517,
                          0.9461077844
                        ],
                        "iteration": 610,
                        "passed_time": 4.322497192,
                        "remaining_time": 2.751966297,
                        "test": [
                          0.4592926337,
                          0.8116591928
                        ]
                      },
                      {
                        "learn": [
                          0.1975853096,
                          0.9461077844
                        ],
                        "iteration": 611,
                        "passed_time": 4.328631512,
                        "remaining_time": 2.744295795,
                        "test": [
                          0.4592464639,
                          0.8116591928
                        ]
                      },
                      {
                        "learn": [
                          0.1973472441,
                          0.9461077844
                        ],
                        "iteration": 612,
                        "passed_time": 4.336569036,
                        "remaining_time": 2.737768706,
                        "test": [
                          0.4592428144,
                          0.8116591928
                        ]
                      },
                      {
                        "learn": [
                          0.1972391193,
                          0.9476047904
                        ],
                        "iteration": 613,
                        "passed_time": 4.344049855,
                        "remaining_time": 2.730949909,
                        "test": [
                          0.4592516407,
                          0.8116591928
                        ]
                      },
                      {
                        "learn": [
                          0.1971156503,
                          0.9491017964
                        ],
                        "iteration": 614,
                        "passed_time": 4.349646925,
                        "remaining_time": 2.722949701,
                        "test": [
                          0.4593016334,
                          0.8116591928
                        ]
                      },
                      {
                        "learn": [
                          0.196976046,
                          0.9491017964
                        ],
                        "iteration": 615,
                        "passed_time": 4.353383046,
                        "remaining_time": 2.713797224,
                        "test": [
                          0.4592108748,
                          0.8116591928
                        ]
                      },
                      {
                        "learn": [
                          0.1968449677,
                          0.9491017964
                        ],
                        "iteration": 616,
                        "passed_time": 4.357117235,
                        "remaining_time": 2.704661104,
                        "test": [
                          0.4591711008,
                          0.8116591928
                        ]
                      },
                      {
                        "learn": [
                          0.1967460375,
                          0.9491017964
                        ],
                        "iteration": 617,
                        "passed_time": 4.361154315,
                        "remaining_time": 2.69572969,
                        "test": [
                          0.4591838275,
                          0.8116591928
                        ]
                      },
                      {
                        "learn": [
                          0.1964710706,
                          0.9491017964
                        ],
                        "iteration": 618,
                        "passed_time": 4.364778044,
                        "remaining_time": 2.686559668,
                        "test": [
                          0.4591560832,
                          0.8116591928
                        ]
                      },
                      {
                        "learn": [
                          0.1961656725,
                          0.9491017964
                        ],
                        "iteration": 619,
                        "passed_time": 4.36851836,
                        "remaining_time": 2.677478995,
                        "test": [
                          0.4595421934,
                          0.8116591928
                        ]
                      },
                      {
                        "learn": [
                          0.1959352482,
                          0.9491017964
                        ],
                        "iteration": 620,
                        "passed_time": 4.37185806,
                        "remaining_time": 2.668171022,
                        "test": [
                          0.4596745084,
                          0.8116591928
                        ]
                      },
                      {
                        "learn": [
                          0.195875239,
                          0.9491017964
                        ],
                        "iteration": 621,
                        "passed_time": 4.376148596,
                        "remaining_time": 2.659460079,
                        "test": [
                          0.4601620946,
                          0.8116591928
                        ]
                      },
                      {
                        "learn": [
                          0.1953579763,
                          0.9491017964
                        ],
                        "iteration": 622,
                        "passed_time": 4.380105717,
                        "remaining_time": 2.650561565,
                        "test": [
                          0.4599171651,
                          0.8116591928
                        ]
                      },
                      {
                        "learn": [
                          0.1950548493,
                          0.9491017964
                        ],
                        "iteration": 623,
                        "passed_time": 4.383836082,
                        "remaining_time": 2.641542254,
                        "test": [
                          0.46022462,
                          0.8071748879
                        ]
                      },
                      {
                        "learn": [
                          0.1948471404,
                          0.9491017964
                        ],
                        "iteration": 624,
                        "passed_time": 4.386990412,
                        "remaining_time": 2.632194247,
                        "test": [
                          0.4605332592,
                          0.8071748879
                        ]
                      },
                      {
                        "learn": [
                          0.19464442,
                          0.9491017964
                        ],
                        "iteration": 625,
                        "passed_time": 4.39055533,
                        "remaining_time": 2.623111331,
                        "test": [
                          0.4604184909,
                          0.8071748879
                        ]
                      },
                      {
                        "learn": [
                          0.1946338337,
                          0.9491017964
                        ],
                        "iteration": 626,
                        "passed_time": 4.394486871,
                        "remaining_time": 2.61426412,
                        "test": [
                          0.460427472,
                          0.8071748879
                        ]
                      },
                      {
                        "learn": [
                          0.1943368886,
                          0.9491017964
                        ],
                        "iteration": 627,
                        "passed_time": 4.398191902,
                        "remaining_time": 2.605298388,
                        "test": [
                          0.4604269358,
                          0.8071748879
                        ]
                      },
                      {
                        "learn": [
                          0.1943283262,
                          0.9491017964
                        ],
                        "iteration": 628,
                        "passed_time": 4.402043038,
                        "remaining_time": 2.59643556,
                        "test": [
                          0.4604416908,
                          0.8071748879
                        ]
                      },
                      {
                        "learn": [
                          0.1940394025,
                          0.9491017964
                        ],
                        "iteration": 629,
                        "passed_time": 4.406020808,
                        "remaining_time": 2.587663014,
                        "test": [
                          0.4603170158,
                          0.8071748879
                        ]
                      },
                      {
                        "learn": [
                          0.1938597285,
                          0.9491017964
                        ],
                        "iteration": 630,
                        "passed_time": 4.410157259,
                        "remaining_time": 2.57899846,
                        "test": [
                          0.4601672796,
                          0.8071748879
                        ]
                      },
                      {
                        "learn": [
                          0.1937900625,
                          0.9491017964
                        ],
                        "iteration": 631,
                        "passed_time": 4.414247913,
                        "remaining_time": 2.57032157,
                        "test": [
                          0.4606118312,
                          0.8071748879
                        ]
                      },
                      {
                        "learn": [
                          0.1936299492,
                          0.9491017964
                        ],
                        "iteration": 632,
                        "passed_time": 4.418315083,
                        "remaining_time": 2.561645554,
                        "test": [
                          0.461235791,
                          0.8071748879
                        ]
                      },
                      {
                        "learn": [
                          0.1932702796,
                          0.9491017964
                        ],
                        "iteration": 633,
                        "passed_time": 4.422214743,
                        "remaining_time": 2.552887375,
                        "test": [
                          0.4613935294,
                          0.8071748879
                        ]
                      },
                      {
                        "learn": [
                          0.192684302,
                          0.9491017964
                        ],
                        "iteration": 634,
                        "passed_time": 4.426044834,
                        "remaining_time": 2.544104511,
                        "test": [
                          0.4618337736,
                          0.8071748879
                        ]
                      },
                      {
                        "learn": [
                          0.1925272224,
                          0.9491017964
                        ],
                        "iteration": 635,
                        "passed_time": 4.4297954,
                        "remaining_time": 2.535291707,
                        "test": [
                          0.4619654726,
                          0.8071748879
                        ]
                      },
                      {
                        "learn": [
                          0.1922945957,
                          0.9491017964
                        ],
                        "iteration": 636,
                        "passed_time": 4.43355856,
                        "remaining_time": 2.526501974,
                        "test": [
                          0.4616382079,
                          0.8071748879
                        ]
                      },
                      {
                        "learn": [
                          0.192086467,
                          0.9491017964
                        ],
                        "iteration": 637,
                        "passed_time": 4.437178189,
                        "remaining_time": 2.517646559,
                        "test": [
                          0.4617391086,
                          0.8071748879
                        ]
                      },
                      {
                        "learn": [
                          0.1917070941,
                          0.9491017964
                        ],
                        "iteration": 638,
                        "passed_time": 4.440835278,
                        "remaining_time": 2.508828694,
                        "test": [
                          0.4623708676,
                          0.8071748879
                        ]
                      },
                      {
                        "learn": [
                          0.1915528915,
                          0.9491017964
                        ],
                        "iteration": 639,
                        "passed_time": 4.444897665,
                        "remaining_time": 2.500254936,
                        "test": [
                          0.4628621444,
                          0.8071748879
                        ]
                      },
                      {
                        "learn": [
                          0.1915418912,
                          0.9491017964
                        ],
                        "iteration": 640,
                        "passed_time": 4.448840449,
                        "remaining_time": 2.49162827,
                        "test": [
                          0.462876806,
                          0.8071748879
                        ]
                      },
                      {
                        "learn": [
                          0.1913348447,
                          0.9491017964
                        ],
                        "iteration": 641,
                        "passed_time": 4.4526239,
                        "remaining_time": 2.482927346,
                        "test": [
                          0.4628518143,
                          0.8071748879
                        ]
                      },
                      {
                        "learn": [
                          0.1912773995,
                          0.9491017964
                        ],
                        "iteration": 642,
                        "passed_time": 4.455909522,
                        "remaining_time": 2.473965318,
                        "test": [
                          0.4628285388,
                          0.8071748879
                        ]
                      },
                      {
                        "learn": [
                          0.1911600548,
                          0.9491017964
                        ],
                        "iteration": 643,
                        "passed_time": 4.460399043,
                        "remaining_time": 2.465686427,
                        "test": [
                          0.462864705,
                          0.8071748879
                        ]
                      },
                      {
                        "learn": [
                          0.1909514497,
                          0.9491017964
                        ],
                        "iteration": 644,
                        "passed_time": 4.464727143,
                        "remaining_time": 2.457330443,
                        "test": [
                          0.4629389046,
                          0.8071748879
                        ]
                      },
                      {
                        "learn": [
                          0.1906975986,
                          0.9491017964
                        ],
                        "iteration": 645,
                        "passed_time": 4.468627517,
                        "remaining_time": 2.44875254,
                        "test": [
                          0.4631709995,
                          0.8071748879
                        ]
                      },
                      {
                        "learn": [
                          0.1901097719,
                          0.9491017964
                        ],
                        "iteration": 646,
                        "passed_time": 4.472561188,
                        "remaining_time": 2.440207263,
                        "test": [
                          0.4633932493,
                          0.8071748879
                        ]
                      },
                      {
                        "learn": [
                          0.1897724571,
                          0.9491017964
                        ],
                        "iteration": 647,
                        "passed_time": 4.476533301,
                        "remaining_time": 2.431697102,
                        "test": [
                          0.4633702319,
                          0.8071748879
                        ]
                      },
                      {
                        "learn": [
                          0.1892008568,
                          0.9505988024
                        ],
                        "iteration": 648,
                        "passed_time": 4.480727816,
                        "remaining_time": 2.423321207,
                        "test": [
                          0.4636317722,
                          0.8071748879
                        ]
                      },
                      {
                        "learn": [
                          0.1890124766,
                          0.9505988024
                        ],
                        "iteration": 649,
                        "passed_time": 4.484580585,
                        "remaining_time": 2.414774161,
                        "test": [
                          0.4636094391,
                          0.8071748879
                        ]
                      },
                      {
                        "learn": [
                          0.1887101934,
                          0.9505988024
                        ],
                        "iteration": 650,
                        "passed_time": 4.488582084,
                        "remaining_time": 2.406321271,
                        "test": [
                          0.4642047771,
                          0.8071748879
                        ]
                      },
                      {
                        "learn": [
                          0.1886905528,
                          0.9505988024
                        ],
                        "iteration": 651,
                        "passed_time": 4.492322731,
                        "remaining_time": 2.397742807,
                        "test": [
                          0.4642030383,
                          0.8071748879
                        ]
                      },
                      {
                        "learn": [
                          0.1886768998,
                          0.9505988024
                        ],
                        "iteration": 652,
                        "passed_time": 4.496039699,
                        "remaining_time": 2.389166578,
                        "test": [
                          0.4642200699,
                          0.8071748879
                        ]
                      },
                      {
                        "learn": [
                          0.1886389456,
                          0.9505988024
                        ],
                        "iteration": 653,
                        "passed_time": 4.499900544,
                        "remaining_time": 2.380681328,
                        "test": [
                          0.4642240616,
                          0.8071748879
                        ]
                      },
                      {
                        "learn": [
                          0.1884817328,
                          0.9505988024
                        ],
                        "iteration": 654,
                        "passed_time": 4.503709849,
                        "remaining_time": 2.37218305,
                        "test": [
                          0.4651650052,
                          0.8071748879
                        ]
                      },
                      {
                        "learn": [
                          0.1881358918,
                          0.9520958084
                        ],
                        "iteration": 655,
                        "passed_time": 4.507625026,
                        "remaining_time": 2.363754587,
                        "test": [
                          0.465123097,
                          0.8071748879
                        ]
                      },
                      {
                        "learn": [
                          0.187713877,
                          0.9520958084
                        ],
                        "iteration": 656,
                        "passed_time": 4.512000872,
                        "remaining_time": 2.355580364,
                        "test": [
                          0.4653059916,
                          0.8071748879
                        ]
                      },
                      {
                        "learn": [
                          0.1876236054,
                          0.9535928144
                        ],
                        "iteration": 657,
                        "passed_time": 4.5157576,
                        "remaining_time": 2.347095895,
                        "test": [
                          0.4653008776,
                          0.8071748879
                        ]
                      },
                      {
                        "learn": [
                          0.1872692802,
                          0.9550898204
                        ],
                        "iteration": 658,
                        "passed_time": 4.519629812,
                        "remaining_time": 2.338685533,
                        "test": [
                          0.4656238553,
                          0.8071748879
                        ]
                      },
                      {
                        "learn": [
                          0.1872336149,
                          0.9550898204
                        ],
                        "iteration": 659,
                        "passed_time": 4.523744258,
                        "remaining_time": 2.330413709,
                        "test": [
                          0.4656285658,
                          0.8071748879
                        ]
                      },
                      {
                        "learn": [
                          0.1871727756,
                          0.9550898204
                        ],
                        "iteration": 660,
                        "passed_time": 4.528094468,
                        "remaining_time": 2.322275378,
                        "test": [
                          0.4660750168,
                          0.8071748879
                        ]
                      },
                      {
                        "learn": [
                          0.1871640707,
                          0.9550898204
                        ],
                        "iteration": 661,
                        "passed_time": 4.532441296,
                        "remaining_time": 2.314146764,
                        "test": [
                          0.4660749013,
                          0.8071748879
                        ]
                      },
                      {
                        "learn": [
                          0.1871370369,
                          0.9550898204
                        ],
                        "iteration": 662,
                        "passed_time": 4.536461779,
                        "remaining_time": 2.30586368,
                        "test": [
                          0.4661221056,
                          0.8071748879
                        ]
                      },
                      {
                        "learn": [
                          0.1870286202,
                          0.9550898204
                        ],
                        "iteration": 663,
                        "passed_time": 4.54044283,
                        "remaining_time": 2.29757348,
                        "test": [
                          0.4657110935,
                          0.8071748879
                        ]
                      },
                      {
                        "learn": [
                          0.1868829935,
                          0.9550898204
                        ],
                        "iteration": 664,
                        "passed_time": 4.544110017,
                        "remaining_time": 2.289138129,
                        "test": [
                          0.4660063631,
                          0.8071748879
                        ]
                      },
                      {
                        "learn": [
                          0.1867792174,
                          0.9565868263
                        ],
                        "iteration": 665,
                        "passed_time": 4.548538547,
                        "remaining_time": 2.281098911,
                        "test": [
                          0.4659542847,
                          0.8071748879
                        ]
                      },
                      {
                        "learn": [
                          0.1867496297,
                          0.9565868263
                        ],
                        "iteration": 666,
                        "passed_time": 4.552766203,
                        "remaining_time": 2.272970233,
                        "test": [
                          0.466079814,
                          0.8071748879
                        ]
                      },
                      {
                        "learn": [
                          0.1866647306,
                          0.9565868263
                        ],
                        "iteration": 667,
                        "passed_time": 4.556317004,
                        "remaining_time": 2.264516835,
                        "test": [
                          0.4660593724,
                          0.8071748879
                        ]
                      },
                      {
                        "learn": [
                          0.1862723851,
                          0.9565868263
                        ],
                        "iteration": 668,
                        "passed_time": 4.560868977,
                        "remaining_time": 2.25657344,
                        "test": [
                          0.4661526231,
                          0.8071748879
                        ]
                      },
                      {
                        "learn": [
                          0.1862435933,
                          0.9565868263
                        ],
                        "iteration": 669,
                        "passed_time": 4.567571275,
                        "remaining_time": 2.249699285,
                        "test": [
                          0.4660380743,
                          0.8071748879
                        ]
                      },
                      {
                        "learn": [
                          0.1860995772,
                          0.9565868263
                        ],
                        "iteration": 670,
                        "passed_time": 4.5728391,
                        "remaining_time": 2.242122301,
                        "test": [
                          0.4663927625,
                          0.8071748879
                        ]
                      },
                      {
                        "learn": [
                          0.1859484735,
                          0.9565868263
                        ],
                        "iteration": 671,
                        "passed_time": 4.576907864,
                        "remaining_time": 2.233966933,
                        "test": [
                          0.4664340861,
                          0.8071748879
                        ]
                      },
                      {
                        "learn": [
                          0.1856742485,
                          0.9565868263
                        ],
                        "iteration": 672,
                        "passed_time": 4.580560882,
                        "remaining_time": 2.225621706,
                        "test": [
                          0.466422295,
                          0.8071748879
                        ]
                      },
                      {
                        "learn": [
                          0.1856485386,
                          0.9565868263
                        ],
                        "iteration": 673,
                        "passed_time": 4.584301391,
                        "remaining_time": 2.21733272,
                        "test": [
                          0.4663967586,
                          0.8071748879
                        ]
                      },
                      {
                        "learn": [
                          0.1853761223,
                          0.9565868263
                        ],
                        "iteration": 674,
                        "passed_time": 4.588651678,
                        "remaining_time": 2.209350808,
                        "test": [
                          0.4665212394,
                          0.8071748879
                        ]
                      },
                      {
                        "learn": [
                          0.1850539012,
                          0.9565868263
                        ],
                        "iteration": 675,
                        "passed_time": 4.59268435,
                        "remaining_time": 2.20122741,
                        "test": [
                          0.4667802689,
                          0.8071748879
                        ]
                      },
                      {
                        "learn": [
                          0.18488435,
                          0.9565868263
                        ],
                        "iteration": 676,
                        "passed_time": 4.596628288,
                        "remaining_time": 2.193073762,
                        "test": [
                          0.4672121152,
                          0.8071748879
                        ]
                      },
                      {
                        "learn": [
                          0.1848776489,
                          0.9565868263
                        ],
                        "iteration": 677,
                        "passed_time": 4.600606818,
                        "remaining_time": 2.184948961,
                        "test": [
                          0.4672103513,
                          0.8071748879
                        ]
                      },
                      {
                        "learn": [
                          0.1845029498,
                          0.9565868263
                        ],
                        "iteration": 678,
                        "passed_time": 4.604562655,
                        "remaining_time": 2.176825644,
                        "test": [
                          0.4676668005,
                          0.8071748879
                        ]
                      },
                      {
                        "learn": [
                          0.1842622613,
                          0.9565868263
                        ],
                        "iteration": 679,
                        "passed_time": 4.608647501,
                        "remaining_time": 2.168775295,
                        "test": [
                          0.4675828646,
                          0.8071748879
                        ]
                      },
                      {
                        "learn": [
                          0.1842367405,
                          0.9565868263
                        ],
                        "iteration": 680,
                        "passed_time": 4.612143988,
                        "remaining_time": 2.160460987,
                        "test": [
                          0.4675792835,
                          0.8071748879
                        ]
                      },
                      {
                        "learn": [
                          0.1839805287,
                          0.9565868263
                        ],
                        "iteration": 681,
                        "passed_time": 4.616307973,
                        "remaining_time": 2.152472046,
                        "test": [
                          0.4675205787,
                          0.8071748879
                        ]
                      },
                      {
                        "learn": [
                          0.183681352,
                          0.9565868263
                        ],
                        "iteration": 682,
                        "passed_time": 4.620140252,
                        "remaining_time": 2.144340351,
                        "test": [
                          0.4678263638,
                          0.8071748879
                        ]
                      },
                      {
                        "learn": [
                          0.1836046938,
                          0.9565868263
                        ],
                        "iteration": 683,
                        "passed_time": 4.624175646,
                        "remaining_time": 2.136315065,
                        "test": [
                          0.4677415281,
                          0.8071748879
                        ]
                      },
                      {
                        "learn": [
                          0.1834057208,
                          0.9580838323
                        ],
                        "iteration": 684,
                        "passed_time": 4.628237854,
                        "remaining_time": 2.128313758,
                        "test": [
                          0.4676247739,
                          0.8071748879
                        ]
                      },
                      {
                        "learn": [
                          0.18333114,
                          0.9595808383
                        ],
                        "iteration": 685,
                        "passed_time": 4.632185765,
                        "remaining_time": 2.120271619,
                        "test": [
                          0.4677922395,
                          0.8071748879
                        ]
                      },
                      {
                        "learn": [
                          0.183063957,
                          0.9580838323
                        ],
                        "iteration": 686,
                        "passed_time": 4.637539566,
                        "remaining_time": 2.112881927,
                        "test": [
                          0.467111337,
                          0.8071748879
                        ]
                      },
                      {
                        "learn": [
                          0.1829381483,
                          0.9580838323
                        ],
                        "iteration": 687,
                        "passed_time": 4.641411523,
                        "remaining_time": 2.104826156,
                        "test": [
                          0.4674706886,
                          0.8071748879
                        ]
                      },
                      {
                        "learn": [
                          0.1827773684,
                          0.9580838323
                        ],
                        "iteration": 688,
                        "passed_time": 4.645346903,
                        "remaining_time": 2.096811157,
                        "test": [
                          0.4674565382,
                          0.8071748879
                        ]
                      },
                      {
                        "learn": [
                          0.1826528068,
                          0.9580838323
                        ],
                        "iteration": 689,
                        "passed_time": 4.649164475,
                        "remaining_time": 2.088755054,
                        "test": [
                          0.4671396856,
                          0.8071748879
                        ]
                      },
                      {
                        "learn": [
                          0.1826101551,
                          0.9580838323
                        ],
                        "iteration": 690,
                        "passed_time": 4.652720578,
                        "remaining_time": 2.080594296,
                        "test": [
                          0.4672371747,
                          0.8071748879
                        ]
                      },
                      {
                        "learn": [
                          0.182486577,
                          0.9580838323
                        ],
                        "iteration": 691,
                        "passed_time": 4.656854793,
                        "remaining_time": 2.072704156,
                        "test": [
                          0.467322174,
                          0.8071748879
                        ]
                      },
                      {
                        "learn": [
                          0.1823609045,
                          0.9580838323
                        ],
                        "iteration": 692,
                        "passed_time": 4.660911107,
                        "remaining_time": 2.064790346,
                        "test": [
                          0.4673430352,
                          0.8071748879
                        ]
                      },
                      {
                        "learn": [
                          0.1821013095,
                          0.9580838323
                        ],
                        "iteration": 693,
                        "passed_time": 4.664958138,
                        "remaining_time": 2.056883559,
                        "test": [
                          0.4675403493,
                          0.8071748879
                        ]
                      },
                      {
                        "learn": [
                          0.1818609917,
                          0.9595808383
                        ],
                        "iteration": 694,
                        "passed_time": 4.6690814,
                        "remaining_time": 2.049021334,
                        "test": [
                          0.4676661326,
                          0.8071748879
                        ]
                      },
                      {
                        "learn": [
                          0.1816873167,
                          0.9595808383
                        ],
                        "iteration": 695,
                        "passed_time": 4.67277048,
                        "remaining_time": 2.04098021,
                        "test": [
                          0.46771143,
                          0.8071748879
                        ]
                      },
                      {
                        "learn": [
                          0.1815969971,
                          0.9595808383
                        ],
                        "iteration": 696,
                        "passed_time": 4.676914139,
                        "remaining_time": 2.033149188,
                        "test": [
                          0.4675448849,
                          0.8071748879
                        ]
                      },
                      {
                        "learn": [
                          0.1814809471,
                          0.9595808383
                        ],
                        "iteration": 697,
                        "passed_time": 4.680967173,
                        "remaining_time": 2.025289522,
                        "test": [
                          0.4675344914,
                          0.8071748879
                        ]
                      },
                      {
                        "learn": [
                          0.1813787678,
                          0.9595808383
                        ],
                        "iteration": 698,
                        "passed_time": 4.684858074,
                        "remaining_time": 2.01737093,
                        "test": [
                          0.4675211905,
                          0.8071748879
                        ]
                      },
                      {
                        "learn": [
                          0.1811204506,
                          0.9595808383
                        ],
                        "iteration": 699,
                        "passed_time": 4.688614621,
                        "remaining_time": 2.009406266,
                        "test": [
                          0.467814776,
                          0.8071748879
                        ]
                      },
                      {
                        "learn": [
                          0.1810928833,
                          0.9595808383
                        ],
                        "iteration": 700,
                        "passed_time": 4.692557857,
                        "remaining_time": 2.001533237,
                        "test": [
                          0.4677647282,
                          0.8071748879
                        ]
                      },
                      {
                        "learn": [
                          0.1809327158,
                          0.9595808383
                        ],
                        "iteration": 701,
                        "passed_time": 4.696504691,
                        "remaining_time": 1.993672932,
                        "test": [
                          0.4677465434,
                          0.8071748879
                        ]
                      },
                      {
                        "learn": [
                          0.1807655751,
                          0.9595808383
                        ],
                        "iteration": 702,
                        "passed_time": 4.700609341,
                        "remaining_time": 1.985890433,
                        "test": [
                          0.4675369697,
                          0.8071748879
                        ]
                      },
                      {
                        "learn": [
                          0.1807563384,
                          0.9595808383
                        ],
                        "iteration": 703,
                        "passed_time": 4.704392747,
                        "remaining_time": 1.977983314,
                        "test": [
                          0.4675356261,
                          0.8071748879
                        ]
                      },
                      {
                        "learn": [
                          0.1807289784,
                          0.9595808383
                        ],
                        "iteration": 704,
                        "passed_time": 4.708082571,
                        "remaining_time": 1.970048736,
                        "test": [
                          0.4675792382,
                          0.8071748879
                        ]
                      },
                      {
                        "learn": [
                          0.1806054317,
                          0.9595808383
                        ],
                        "iteration": 705,
                        "passed_time": 4.711642069,
                        "remaining_time": 1.96207191,
                        "test": [
                          0.4675418343,
                          0.8071748879
                        ]
                      },
                      {
                        "learn": [
                          0.1804357384,
                          0.9595808383
                        ],
                        "iteration": 706,
                        "passed_time": 4.715288514,
                        "remaining_time": 1.954143613,
                        "test": [
                          0.4674633628,
                          0.8071748879
                        ]
                      },
                      {
                        "learn": [
                          0.1802620529,
                          0.9595808383
                        ],
                        "iteration": 707,
                        "passed_time": 4.719124722,
                        "remaining_time": 1.946305676,
                        "test": [
                          0.4673927887,
                          0.8071748879
                        ]
                      },
                      {
                        "learn": [
                          0.180243735,
                          0.9595808383
                        ],
                        "iteration": 708,
                        "passed_time": 4.722967783,
                        "remaining_time": 1.93848184,
                        "test": [
                          0.4673752904,
                          0.8071748879
                        ]
                      },
                      {
                        "learn": [
                          0.180017894,
                          0.9595808383
                        ],
                        "iteration": 709,
                        "passed_time": 4.727118654,
                        "remaining_time": 1.930794943,
                        "test": [
                          0.467442723,
                          0.8071748879
                        ]
                      },
                      {
                        "learn": [
                          0.1796039676,
                          0.9595808383
                        ],
                        "iteration": 710,
                        "passed_time": 4.730946974,
                        "remaining_time": 1.922986885,
                        "test": [
                          0.4671072701,
                          0.8071748879
                        ]
                      },
                      {
                        "learn": [
                          0.1795147638,
                          0.9595808383
                        ],
                        "iteration": 711,
                        "passed_time": 4.734680385,
                        "remaining_time": 1.915151616,
                        "test": [
                          0.4671389494,
                          0.8071748879
                        ]
                      },
                      {
                        "learn": [
                          0.1793363533,
                          0.9595808383
                        ],
                        "iteration": 712,
                        "passed_time": 4.738261486,
                        "remaining_time": 1.907266545,
                        "test": [
                          0.4671765578,
                          0.8071748879
                        ]
                      },
                      {
                        "learn": [
                          0.1792764082,
                          0.9595808383
                        ],
                        "iteration": 713,
                        "passed_time": 4.741880176,
                        "remaining_time": 1.899408586,
                        "test": [
                          0.4671339683,
                          0.8071748879
                        ]
                      },
                      {
                        "learn": [
                          0.1789409205,
                          0.9595808383
                        ],
                        "iteration": 714,
                        "passed_time": 4.745646615,
                        "remaining_time": 1.891621378,
                        "test": [
                          0.4672525659,
                          0.8071748879
                        ]
                      },
                      {
                        "learn": [
                          0.1786778611,
                          0.9595808383
                        ],
                        "iteration": 715,
                        "passed_time": 4.74973431,
                        "remaining_time": 1.883972827,
                        "test": [
                          0.4674302468,
                          0.8071748879
                        ]
                      },
                      {
                        "learn": [
                          0.1784670329,
                          0.9595808383
                        ],
                        "iteration": 716,
                        "passed_time": 4.753423668,
                        "remaining_time": 1.876176985,
                        "test": [
                          0.4674689924,
                          0.8071748879
                        ]
                      },
                      {
                        "learn": [
                          0.1783197569,
                          0.9595808383
                        ],
                        "iteration": 717,
                        "passed_time": 4.757051984,
                        "remaining_time": 1.868368606,
                        "test": [
                          0.4672407955,
                          0.8116591928
                        ]
                      },
                      {
                        "learn": [
                          0.1782490753,
                          0.9595808383
                        ],
                        "iteration": 718,
                        "passed_time": 4.761256074,
                        "remaining_time": 1.86079688,
                        "test": [
                          0.4671942264,
                          0.8116591928
                        ]
                      },
                      {
                        "learn": [
                          0.1780285781,
                          0.9595808383
                        ],
                        "iteration": 719,
                        "passed_time": 4.765134488,
                        "remaining_time": 1.853107856,
                        "test": [
                          0.4677372374,
                          0.8116591928
                        ]
                      },
                      {
                        "learn": [
                          0.1778710307,
                          0.9595808383
                        ],
                        "iteration": 720,
                        "passed_time": 4.76922367,
                        "remaining_time": 1.845510962,
                        "test": [
                          0.4680499527,
                          0.8116591928
                        ]
                      },
                      {
                        "learn": [
                          0.1777272997,
                          0.9595808383
                        ],
                        "iteration": 721,
                        "passed_time": 4.772916523,
                        "remaining_time": 1.837771182,
                        "test": [
                          0.4680492249,
                          0.8116591928
                        ]
                      },
                      {
                        "learn": [
                          0.1777104603,
                          0.9595808383
                        ],
                        "iteration": 722,
                        "passed_time": 4.776723783,
                        "remaining_time": 1.830086429,
                        "test": [
                          0.4680448192,
                          0.8116591928
                        ]
                      },
                      {
                        "learn": [
                          0.1775841596,
                          0.9610778443
                        ],
                        "iteration": 723,
                        "passed_time": 4.780563257,
                        "remaining_time": 1.822424667,
                        "test": [
                          0.4682483212,
                          0.8116591928
                        ]
                      },
                      {
                        "learn": [
                          0.1772096945,
                          0.9610778443
                        ],
                        "iteration": 724,
                        "passed_time": 4.784567093,
                        "remaining_time": 1.814835794,
                        "test": [
                          0.4676953057,
                          0.8116591928
                        ]
                      },
                      {
                        "learn": [
                          0.1770832299,
                          0.9610778443
                        ],
                        "iteration": 725,
                        "passed_time": 4.788246069,
                        "remaining_time": 1.807134191,
                        "test": [
                          0.4676392936,
                          0.8116591928
                        ]
                      },
                      {
                        "learn": [
                          0.177040057,
                          0.9610778443
                        ],
                        "iteration": 726,
                        "passed_time": 4.791757603,
                        "remaining_time": 1.799380778,
                        "test": [
                          0.4676959042,
                          0.8116591928
                        ]
                      },
                      {
                        "learn": [
                          0.1769229328,
                          0.9610778443
                        ],
                        "iteration": 727,
                        "passed_time": 4.795763049,
                        "remaining_time": 1.791823557,
                        "test": [
                          0.4676723187,
                          0.8116591928
                        ]
                      },
                      {
                        "learn": [
                          0.1768113387,
                          0.9610778443
                        ],
                        "iteration": 728,
                        "passed_time": 4.7998048,
                        "remaining_time": 1.784289576,
                        "test": [
                          0.4678650183,
                          0.8116591928
                        ]
                      },
                      {
                        "learn": [
                          0.1767124285,
                          0.9610778443
                        ],
                        "iteration": 729,
                        "passed_time": 4.803682512,
                        "remaining_time": 1.776704491,
                        "test": [
                          0.4680191882,
                          0.8116591928
                        ]
                      },
                      {
                        "learn": [
                          0.1766517557,
                          0.9610778443
                        ],
                        "iteration": 730,
                        "passed_time": 4.807547623,
                        "remaining_time": 1.769124912,
                        "test": [
                          0.4678528313,
                          0.8116591928
                        ]
                      },
                      {
                        "learn": [
                          0.1766446271,
                          0.9610778443
                        ],
                        "iteration": 731,
                        "passed_time": 4.811228335,
                        "remaining_time": 1.76148797,
                        "test": [
                          0.4678645256,
                          0.8116591928
                        ]
                      },
                      {
                        "learn": [
                          0.1764607048,
                          0.9610778443
                        ],
                        "iteration": 732,
                        "passed_time": 4.814969661,
                        "remaining_time": 1.753883901,
                        "test": [
                          0.4675512429,
                          0.8116591928
                        ]
                      },
                      {
                        "learn": [
                          0.1761777375,
                          0.9610778443
                        ],
                        "iteration": 733,
                        "passed_time": 4.819049503,
                        "remaining_time": 1.746413035,
                        "test": [
                          0.4678851168,
                          0.8071748879
                        ]
                      },
                      {
                        "learn": [
                          0.1761591782,
                          0.9610778443
                        ],
                        "iteration": 734,
                        "passed_time": 4.822952901,
                        "remaining_time": 1.738887781,
                        "test": [
                          0.4678141532,
                          0.8071748879
                        ]
                      },
                      {
                        "learn": [
                          0.1760711053,
                          0.9610778443
                        ],
                        "iteration": 735,
                        "passed_time": 4.82671797,
                        "remaining_time": 1.73132275,
                        "test": [
                          0.467684141,
                          0.8071748879
                        ]
                      },
                      {
                        "learn": [
                          0.1759696674,
                          0.9610778443
                        ],
                        "iteration": 736,
                        "passed_time": 4.83050337,
                        "remaining_time": 1.723775287,
                        "test": [
                          0.4676994285,
                          0.8071748879
                        ]
                      },
                      {
                        "learn": [
                          0.1757376177,
                          0.9610778443
                        ],
                        "iteration": 737,
                        "passed_time": 4.834447312,
                        "remaining_time": 1.716294303,
                        "test": [
                          0.4681162104,
                          0.8071748879
                        ]
                      },
                      {
                        "learn": [
                          0.1756108885,
                          0.9610778443
                        ],
                        "iteration": 738,
                        "passed_time": 4.839991573,
                        "remaining_time": 1.709388093,
                        "test": [
                          0.4681481692,
                          0.8071748879
                        ]
                      },
                      {
                        "learn": [
                          0.1754318886,
                          0.9610778443
                        ],
                        "iteration": 739,
                        "passed_time": 4.844085875,
                        "remaining_time": 1.701976118,
                        "test": [
                          0.4681607525,
                          0.8071748879
                        ]
                      },
                      {
                        "learn": [
                          0.1754010847,
                          0.9610778443
                        ],
                        "iteration": 740,
                        "passed_time": 4.848076354,
                        "remaining_time": 1.694536809,
                        "test": [
                          0.4681464092,
                          0.8071748879
                        ]
                      },
                      {
                        "learn": [
                          0.1751326594,
                          0.9610778443
                        ],
                        "iteration": 741,
                        "passed_time": 4.852052714,
                        "remaining_time": 1.687101887,
                        "test": [
                          0.4687800267,
                          0.8071748879
                        ]
                      },
                      {
                        "learn": [
                          0.1751107975,
                          0.9610778443
                        ],
                        "iteration": 742,
                        "passed_time": 4.856089285,
                        "remaining_time": 1.679697101,
                        "test": [
                          0.4689253484,
                          0.8071748879
                        ]
                      },
                      {
                        "learn": [
                          0.1750345491,
                          0.9610778443
                        ],
                        "iteration": 743,
                        "passed_time": 4.860720573,
                        "remaining_time": 1.672506004,
                        "test": [
                          0.4687306344,
                          0.8071748879
                        ]
                      },
                      {
                        "learn": [
                          0.174893407,
                          0.9610778443
                        ],
                        "iteration": 744,
                        "passed_time": 4.86415775,
                        "remaining_time": 1.664913055,
                        "test": [
                          0.4687975867,
                          0.8071748879
                        ]
                      },
                      {
                        "learn": [
                          0.1748324521,
                          0.9610778443
                        ],
                        "iteration": 745,
                        "passed_time": 4.868105106,
                        "remaining_time": 1.657504956,
                        "test": [
                          0.4686563074,
                          0.8071748879
                        ]
                      },
                      {
                        "learn": [
                          0.1744985183,
                          0.9610778443
                        ],
                        "iteration": 746,
                        "passed_time": 4.87226857,
                        "remaining_time": 1.650179315,
                        "test": [
                          0.4692535135,
                          0.8071748879
                        ]
                      },
                      {
                        "learn": [
                          0.1743197399,
                          0.9610778443
                        ],
                        "iteration": 747,
                        "passed_time": 4.877073706,
                        "remaining_time": 1.643078308,
                        "test": [
                          0.4691458791,
                          0.8071748879
                        ]
                      },
                      {
                        "learn": [
                          0.174020127,
                          0.9610778443
                        ],
                        "iteration": 748,
                        "passed_time": 4.882250613,
                        "remaining_time": 1.636108016,
                        "test": [
                          0.4692599287,
                          0.8071748879
                        ]
                      },
                      {
                        "learn": [
                          0.1736535676,
                          0.9610778443
                        ],
                        "iteration": 749,
                        "passed_time": 4.885718226,
                        "remaining_time": 1.628572742,
                        "test": [
                          0.4699687636,
                          0.8071748879
                        ]
                      },
                      {
                        "learn": [
                          0.1735254786,
                          0.9610778443
                        ],
                        "iteration": 750,
                        "passed_time": 4.889809025,
                        "remaining_time": 1.621254923,
                        "test": [
                          0.4699808056,
                          0.8071748879
                        ]
                      },
                      {
                        "learn": [
                          0.1733620278,
                          0.9610778443
                        ],
                        "iteration": 751,
                        "passed_time": 4.89407857,
                        "remaining_time": 1.614004635,
                        "test": [
                          0.4697720049,
                          0.8071748879
                        ]
                      },
                      {
                        "learn": [
                          0.1730356779,
                          0.9610778443
                        ],
                        "iteration": 752,
                        "passed_time": 4.898028357,
                        "remaining_time": 1.606657376,
                        "test": [
                          0.4697766397,
                          0.8071748879
                        ]
                      },
                      {
                        "learn": [
                          0.1729907832,
                          0.9610778443
                        ],
                        "iteration": 753,
                        "passed_time": 4.901662771,
                        "remaining_time": 1.599216235,
                        "test": [
                          0.469748687,
                          0.8071748879
                        ]
                      },
                      {
                        "learn": [
                          0.1727813969,
                          0.9625748503
                        ],
                        "iteration": 754,
                        "passed_time": 4.905367804,
                        "remaining_time": 1.591808095,
                        "test": [
                          0.4696651638,
                          0.8071748879
                        ]
                      },
                      {
                        "learn": [
                          0.1724180073,
                          0.9610778443
                        ],
                        "iteration": 755,
                        "passed_time": 4.909119686,
                        "remaining_time": 1.584424872,
                        "test": [
                          0.4696586649,
                          0.8071748879
                        ]
                      },
                      {
                        "learn": [
                          0.172403635,
                          0.9610778443
                        ],
                        "iteration": 756,
                        "passed_time": 4.912844686,
                        "remaining_time": 1.577042614,
                        "test": [
                          0.4696633314,
                          0.8071748879
                        ]
                      },
                      {
                        "learn": [
                          0.1720543713,
                          0.9625748503
                        ],
                        "iteration": 757,
                        "passed_time": 4.916866169,
                        "remaining_time": 1.569764661,
                        "test": [
                          0.4700734854,
                          0.8071748879
                        ]
                      },
                      {
                        "learn": [
                          0.1719744983,
                          0.9625748503
                        ],
                        "iteration": 758,
                        "passed_time": 4.920617324,
                        "remaining_time": 1.562409453,
                        "test": [
                          0.469916193,
                          0.8071748879
                        ]
                      },
                      {
                        "learn": [
                          0.1718611633,
                          0.9625748503
                        ],
                        "iteration": 759,
                        "passed_time": 4.924510766,
                        "remaining_time": 1.555108663,
                        "test": [
                          0.4699732111,
                          0.8071748879
                        ]
                      },
                      {
                        "learn": [
                          0.17175954,
                          0.9625748503
                        ],
                        "iteration": 760,
                        "passed_time": 4.928479957,
                        "remaining_time": 1.547840617,
                        "test": [
                          0.4700045592,
                          0.8071748879
                        ]
                      },
                      {
                        "learn": [
                          0.1717479033,
                          0.9625748503
                        ],
                        "iteration": 761,
                        "passed_time": 4.932752806,
                        "remaining_time": 1.540676073,
                        "test": [
                          0.4699829615,
                          0.8071748879
                        ]
                      },
                      {
                        "learn": [
                          0.1716448879,
                          0.9625748503
                        ],
                        "iteration": 762,
                        "passed_time": 4.936149144,
                        "remaining_time": 1.533246851,
                        "test": [
                          0.4701362195,
                          0.8071748879
                        ]
                      },
                      {
                        "learn": [
                          0.1715325022,
                          0.9625748503
                        ],
                        "iteration": 763,
                        "passed_time": 4.939891727,
                        "remaining_time": 1.525935141,
                        "test": [
                          0.4701806945,
                          0.8071748879
                        ]
                      },
                      {
                        "learn": [
                          0.1711563237,
                          0.9625748503
                        ],
                        "iteration": 764,
                        "passed_time": 4.943931137,
                        "remaining_time": 1.518723944,
                        "test": [
                          0.470047655,
                          0.8071748879
                        ]
                      },
                      {
                        "learn": [
                          0.1710243042,
                          0.9625748503
                        ],
                        "iteration": 765,
                        "passed_time": 4.948031167,
                        "remaining_time": 1.511539547,
                        "test": [
                          0.4701692209,
                          0.8071748879
                        ]
                      },
                      {
                        "learn": [
                          0.1709157781,
                          0.9625748503
                        ],
                        "iteration": 766,
                        "passed_time": 4.952041387,
                        "remaining_time": 1.50433591,
                        "test": [
                          0.4702451068,
                          0.8071748879
                        ]
                      },
                      {
                        "learn": [
                          0.17071007,
                          0.9625748503
                        ],
                        "iteration": 767,
                        "passed_time": 4.955682897,
                        "remaining_time": 1.497029208,
                        "test": [
                          0.4699883379,
                          0.8071748879
                        ]
                      },
                      {
                        "learn": [
                          0.1705846118,
                          0.9625748503
                        ],
                        "iteration": 768,
                        "passed_time": 4.959677606,
                        "remaining_time": 1.489838136,
                        "test": [
                          0.4701068962,
                          0.8071748879
                        ]
                      },
                      {
                        "learn": [
                          0.1704431052,
                          0.9625748503
                        ],
                        "iteration": 769,
                        "passed_time": 4.964089327,
                        "remaining_time": 1.482779929,
                        "test": [
                          0.4699409315,
                          0.8071748879
                        ]
                      },
                      {
                        "learn": [
                          0.1703258722,
                          0.9625748503
                        ],
                        "iteration": 770,
                        "passed_time": 4.968264817,
                        "remaining_time": 1.475658422,
                        "test": [
                          0.4701918764,
                          0.8071748879
                        ]
                      },
                      {
                        "learn": [
                          0.1700357261,
                          0.9625748503
                        ],
                        "iteration": 771,
                        "passed_time": 4.97207017,
                        "remaining_time": 1.468435232,
                        "test": [
                          0.4703357849,
                          0.8071748879
                        ]
                      },
                      {
                        "learn": [
                          0.170012783,
                          0.9625748503
                        ],
                        "iteration": 772,
                        "passed_time": 4.976050021,
                        "remaining_time": 1.461272128,
                        "test": [
                          0.4703108597,
                          0.8071748879
                        ]
                      },
                      {
                        "learn": [
                          0.1699374279,
                          0.9625748503
                        ],
                        "iteration": 773,
                        "passed_time": 4.980021216,
                        "remaining_time": 1.454114722,
                        "test": [
                          0.4699920193,
                          0.8071748879
                        ]
                      },
                      {
                        "learn": [
                          0.1697648326,
                          0.9625748503
                        ],
                        "iteration": 774,
                        "passed_time": 4.983970672,
                        "remaining_time": 1.446959227,
                        "test": [
                          0.4702153458,
                          0.8071748879
                        ]
                      },
                      {
                        "learn": [
                          0.1697609808,
                          0.9625748503
                        ],
                        "iteration": 775,
                        "passed_time": 4.987991112,
                        "remaining_time": 1.439832486,
                        "test": [
                          0.4702311848,
                          0.8071748879
                        ]
                      },
                      {
                        "learn": [
                          0.1695235719,
                          0.9625748503
                        ],
                        "iteration": 776,
                        "passed_time": 4.99183608,
                        "remaining_time": 1.432663379,
                        "test": [
                          0.470580677,
                          0.8071748879
                        ]
                      },
                      {
                        "learn": [
                          0.1692831052,
                          0.9625748503
                        ],
                        "iteration": 777,
                        "passed_time": 4.99576386,
                        "remaining_time": 1.425526449,
                        "test": [
                          0.4703245485,
                          0.8071748879
                        ]
                      },
                      {
                        "learn": [
                          0.1692131429,
                          0.9625748503
                        ],
                        "iteration": 778,
                        "passed_time": 4.999409966,
                        "remaining_time": 1.418317847,
                        "test": [
                          0.4704302492,
                          0.8071748879
                        ]
                      },
                      {
                        "learn": [
                          0.1688368467,
                          0.9625748503
                        ],
                        "iteration": 779,
                        "passed_time": 5.003485756,
                        "remaining_time": 1.411239572,
                        "test": [
                          0.4709138456,
                          0.8071748879
                        ]
                      },
                      {
                        "learn": [
                          0.1686110574,
                          0.9625748503
                        ],
                        "iteration": 780,
                        "passed_time": 5.007143548,
                        "remaining_time": 1.404051776,
                        "test": [
                          0.471304576,
                          0.8071748879
                        ]
                      },
                      {
                        "learn": [
                          0.1685279348,
                          0.9625748503
                        ],
                        "iteration": 781,
                        "passed_time": 5.010791372,
                        "remaining_time": 1.396870229,
                        "test": [
                          0.4712644941,
                          0.8071748879
                        ]
                      },
                      {
                        "learn": [
                          0.1685104885,
                          0.9625748503
                        ],
                        "iteration": 782,
                        "passed_time": 5.014684847,
                        "remaining_time": 1.389765788,
                        "test": [
                          0.4712707071,
                          0.8071748879
                        ]
                      },
                      {
                        "learn": [
                          0.1682419944,
                          0.9625748503
                        ],
                        "iteration": 783,
                        "passed_time": 5.018519115,
                        "remaining_time": 1.382653226,
                        "test": [
                          0.471392648,
                          0.8071748879
                        ]
                      },
                      {
                        "learn": [
                          0.1679941304,
                          0.9625748503
                        ],
                        "iteration": 784,
                        "passed_time": 5.022426308,
                        "remaining_time": 1.375568989,
                        "test": [
                          0.4713957478,
                          0.8071748879
                        ]
                      },
                      {
                        "learn": [
                          0.1679682753,
                          0.9625748503
                        ],
                        "iteration": 785,
                        "passed_time": 5.026311446,
                        "remaining_time": 1.368486831,
                        "test": [
                          0.4712499928,
                          0.8071748879
                        ]
                      },
                      {
                        "learn": [
                          0.1678710199,
                          0.9625748503
                        ],
                        "iteration": 786,
                        "passed_time": 5.029786413,
                        "remaining_time": 1.361301786,
                        "test": [
                          0.4712269976,
                          0.8071748879
                        ]
                      },
                      {
                        "learn": [
                          0.167737681,
                          0.9625748503
                        ],
                        "iteration": 787,
                        "passed_time": 5.03396293,
                        "remaining_time": 1.3543149,
                        "test": [
                          0.4712810675,
                          0.8071748879
                        ]
                      },
                      {
                        "learn": [
                          0.1677086484,
                          0.9625748503
                        ],
                        "iteration": 788,
                        "passed_time": 5.037839962,
                        "remaining_time": 1.347255047,
                        "test": [
                          0.4712803922,
                          0.8071748879
                        ]
                      },
                      {
                        "learn": [
                          0.1676655199,
                          0.9625748503
                        ],
                        "iteration": 789,
                        "passed_time": 5.041889084,
                        "remaining_time": 1.340248997,
                        "test": [
                          0.47121323,
                          0.8071748879
                        ]
                      },
                      {
                        "learn": [
                          0.1672050554,
                          0.9625748503
                        ],
                        "iteration": 790,
                        "passed_time": 5.045660794,
                        "remaining_time": 1.333177125,
                        "test": [
                          0.4716444225,
                          0.8071748879
                        ]
                      },
                      {
                        "learn": [
                          0.1670872098,
                          0.9625748503
                        ],
                        "iteration": 791,
                        "passed_time": 5.049616881,
                        "remaining_time": 1.326162009,
                        "test": [
                          0.4716636352,
                          0.8071748879
                        ]
                      },
                      {
                        "learn": [
                          0.1669853633,
                          0.9625748503
                        ],
                        "iteration": 792,
                        "passed_time": 5.05334406,
                        "remaining_time": 1.319094856,
                        "test": [
                          0.471555424,
                          0.8071748879
                        ]
                      },
                      {
                        "learn": [
                          0.1667334593,
                          0.9625748503
                        ],
                        "iteration": 793,
                        "passed_time": 5.057145461,
                        "remaining_time": 1.312055372,
                        "test": [
                          0.471675783,
                          0.8071748879
                        ]
                      },
                      {
                        "learn": [
                          0.1667231938,
                          0.9625748503
                        ],
                        "iteration": 794,
                        "passed_time": 5.060849177,
                        "remaining_time": 1.304998844,
                        "test": [
                          0.4716896084,
                          0.8071748879
                        ]
                      },
                      {
                        "learn": [
                          0.1665365988,
                          0.9625748503
                        ],
                        "iteration": 795,
                        "passed_time": 5.064671625,
                        "remaining_time": 1.29798117,
                        "test": [
                          0.4721987924,
                          0.8071748879
                        ]
                      },
                      {
                        "learn": [
                          0.1663037745,
                          0.9625748503
                        ],
                        "iteration": 796,
                        "passed_time": 5.069106745,
                        "remaining_time": 1.291127565,
                        "test": [
                          0.4724450623,
                          0.8071748879
                        ]
                      },
                      {
                        "learn": [
                          0.1661346669,
                          0.9625748503
                        ],
                        "iteration": 797,
                        "passed_time": 5.073392339,
                        "remaining_time": 1.284242171,
                        "test": [
                          0.4725112917,
                          0.8071748879
                        ]
                      },
                      {
                        "learn": [
                          0.1658187353,
                          0.9625748503
                        ],
                        "iteration": 798,
                        "passed_time": 5.077398125,
                        "remaining_time": 1.277292895,
                        "test": [
                          0.472905255,
                          0.8071748879
                        ]
                      },
                      {
                        "learn": [
                          0.1653311607,
                          0.9625748503
                        ],
                        "iteration": 799,
                        "passed_time": 5.081200081,
                        "remaining_time": 1.27030002,
                        "test": [
                          0.4730582214,
                          0.8071748879
                        ]
                      },
                      {
                        "learn": [
                          0.1652040001,
                          0.9625748503
                        ],
                        "iteration": 800,
                        "passed_time": 5.084830773,
                        "remaining_time": 1.263272564,
                        "test": [
                          0.4732758363,
                          0.8071748879
                        ]
                      },
                      {
                        "learn": [
                          0.1650511522,
                          0.9625748503
                        ],
                        "iteration": 801,
                        "passed_time": 5.088652132,
                        "remaining_time": 1.256300651,
                        "test": [
                          0.4730780341,
                          0.8071748879
                        ]
                      },
                      {
                        "learn": [
                          0.1647494286,
                          0.9625748503
                        ],
                        "iteration": 802,
                        "passed_time": 5.092050929,
                        "remaining_time": 1.249232918,
                        "test": [
                          0.4731417091,
                          0.8071748879
                        ]
                      },
                      {
                        "learn": [
                          0.1645486573,
                          0.9625748503
                        ],
                        "iteration": 803,
                        "passed_time": 5.095909406,
                        "remaining_time": 1.242286373,
                        "test": [
                          0.4731734774,
                          0.8071748879
                        ]
                      },
                      {
                        "learn": [
                          0.1641978016,
                          0.9625748503
                        ],
                        "iteration": 804,
                        "passed_time": 5.099924399,
                        "remaining_time": 1.235385413,
                        "test": [
                          0.4732899494,
                          0.8071748879
                        ]
                      },
                      {
                        "learn": [
                          0.1641319752,
                          0.9625748503
                        ],
                        "iteration": 805,
                        "passed_time": 5.137624524,
                        "remaining_time": 1.236599451,
                        "test": [
                          0.4733130076,
                          0.8071748879
                        ]
                      },
                      {
                        "learn": [
                          0.1638427354,
                          0.9640718563
                        ],
                        "iteration": 806,
                        "passed_time": 5.158808287,
                        "remaining_time": 1.233767038,
                        "test": [
                          0.473388209,
                          0.8071748879
                        ]
                      },
                      {
                        "learn": [
                          0.163526757,
                          0.9640718563
                        ],
                        "iteration": 807,
                        "passed_time": 5.168892815,
                        "remaining_time": 1.228251758,
                        "test": [
                          0.4736864988,
                          0.8071748879
                        ]
                      },
                      {
                        "learn": [
                          0.1633911715,
                          0.9640718563
                        ],
                        "iteration": 808,
                        "passed_time": 5.182947195,
                        "remaining_time": 1.22366244,
                        "test": [
                          0.4737877625,
                          0.8071748879
                        ]
                      },
                      {
                        "learn": [
                          0.1631340489,
                          0.9640718563
                        ],
                        "iteration": 809,
                        "passed_time": 5.193201323,
                        "remaining_time": 1.218158335,
                        "test": [
                          0.4745334907,
                          0.8071748879
                        ]
                      },
                      {
                        "learn": [
                          0.1629265822,
                          0.9640718563
                        ],
                        "iteration": 810,
                        "passed_time": 5.203921133,
                        "remaining_time": 1.212751041,
                        "test": [
                          0.474612494,
                          0.8071748879
                        ]
                      },
                      {
                        "learn": [
                          0.162751363,
                          0.9640718563
                        ],
                        "iteration": 811,
                        "passed_time": 5.213321725,
                        "remaining_time": 1.207025227,
                        "test": [
                          0.4745579099,
                          0.8071748879
                        ]
                      },
                      {
                        "learn": [
                          0.1625827233,
                          0.9640718563
                        ],
                        "iteration": 812,
                        "passed_time": 5.217401364,
                        "remaining_time": 1.200066488,
                        "test": [
                          0.4745061015,
                          0.8071748879
                        ]
                      },
                      {
                        "learn": [
                          0.1624513215,
                          0.9640718563
                        ],
                        "iteration": 813,
                        "passed_time": 5.221255837,
                        "remaining_time": 1.193063373,
                        "test": [
                          0.4749039341,
                          0.8071748879
                        ]
                      },
                      {
                        "learn": [
                          0.162288936,
                          0.9640718563
                        ],
                        "iteration": 814,
                        "passed_time": 5.225444821,
                        "remaining_time": 1.186143916,
                        "test": [
                          0.4751697931,
                          0.8071748879
                        ]
                      },
                      {
                        "learn": [
                          0.1622784115,
                          0.9640718563
                        ],
                        "iteration": 815,
                        "passed_time": 5.229390917,
                        "remaining_time": 1.179176383,
                        "test": [
                          0.4751452404,
                          0.8071748879
                        ]
                      },
                      {
                        "learn": [
                          0.1620173774,
                          0.9640718563
                        ],
                        "iteration": 816,
                        "passed_time": 5.233676307,
                        "remaining_time": 1.172292245,
                        "test": [
                          0.4752343498,
                          0.8071748879
                        ]
                      },
                      {
                        "learn": [
                          0.1620067804,
                          0.9640718563
                        ],
                        "iteration": 817,
                        "passed_time": 5.237822967,
                        "remaining_time": 1.165383594,
                        "test": [
                          0.4752404598,
                          0.8071748879
                        ]
                      },
                      {
                        "learn": [
                          0.1618493116,
                          0.9640718563
                        ],
                        "iteration": 818,
                        "passed_time": 5.242250493,
                        "remaining_time": 1.15854376,
                        "test": [
                          0.4753214248,
                          0.8071748879
                        ]
                      },
                      {
                        "learn": [
                          0.1615429155,
                          0.9640718563
                        ],
                        "iteration": 819,
                        "passed_time": 5.246578555,
                        "remaining_time": 1.151687975,
                        "test": [
                          0.4753776065,
                          0.8071748879
                        ]
                      },
                      {
                        "learn": [
                          0.1614263329,
                          0.9640718563
                        ],
                        "iteration": 820,
                        "passed_time": 5.250135005,
                        "remaining_time": 1.144670117,
                        "test": [
                          0.4753330757,
                          0.8071748879
                        ]
                      },
                      {
                        "learn": [
                          0.161343195,
                          0.9640718563
                        ],
                        "iteration": 821,
                        "passed_time": 5.253395884,
                        "remaining_time": 1.137596676,
                        "test": [
                          0.4752528933,
                          0.8071748879
                        ]
                      },
                      {
                        "learn": [
                          0.1612931547,
                          0.9640718563
                        ],
                        "iteration": 822,
                        "passed_time": 5.256275462,
                        "remaining_time": 1.130450494,
                        "test": [
                          0.4754287033,
                          0.8071748879
                        ]
                      },
                      {
                        "learn": [
                          0.1610994445,
                          0.9640718563
                        ],
                        "iteration": 823,
                        "passed_time": 5.260090662,
                        "remaining_time": 1.12351451,
                        "test": [
                          0.4754301521,
                          0.8071748879
                        ]
                      },
                      {
                        "learn": [
                          0.1610143357,
                          0.9640718563
                        ],
                        "iteration": 824,
                        "passed_time": 5.263711649,
                        "remaining_time": 1.116544895,
                        "test": [
                          0.4754500695,
                          0.8071748879
                        ]
                      },
                      {
                        "learn": [
                          0.1609207924,
                          0.9640718563
                        ],
                        "iteration": 825,
                        "passed_time": 5.267808908,
                        "remaining_time": 1.109683717,
                        "test": [
                          0.4757493983,
                          0.8071748879
                        ]
                      },
                      {
                        "learn": [
                          0.1608177231,
                          0.9640718563
                        ],
                        "iteration": 826,
                        "passed_time": 5.271398076,
                        "remaining_time": 1.102722935,
                        "test": [
                          0.4758398146,
                          0.8071748879
                        ]
                      },
                      {
                        "learn": [
                          0.1606135676,
                          0.9640718563
                        ],
                        "iteration": 827,
                        "passed_time": 5.275074871,
                        "remaining_time": 1.0957885,
                        "test": [
                          0.4758437917,
                          0.8071748879
                        ]
                      },
                      {
                        "learn": [
                          0.1606072687,
                          0.9640718563
                        ],
                        "iteration": 828,
                        "passed_time": 5.279035307,
                        "remaining_time": 1.088920431,
                        "test": [
                          0.4758330235,
                          0.8071748879
                        ]
                      },
                      {
                        "learn": [
                          0.1602842677,
                          0.9640718563
                        ],
                        "iteration": 829,
                        "passed_time": 5.282756801,
                        "remaining_time": 1.082010429,
                        "test": [
                          0.4755577268,
                          0.8071748879
                        ]
                      },
                      {
                        "learn": [
                          0.1601696173,
                          0.9640718563
                        ],
                        "iteration": 830,
                        "passed_time": 5.286542513,
                        "remaining_time": 1.075121161,
                        "test": [
                          0.4756156057,
                          0.8071748879
                        ]
                      },
                      {
                        "learn": [
                          0.1601140299,
                          0.9640718563
                        ],
                        "iteration": 831,
                        "passed_time": 5.290640292,
                        "remaining_time": 1.068302367,
                        "test": [
                          0.4758867756,
                          0.8071748879
                        ]
                      },
                      {
                        "learn": [
                          0.1599021974,
                          0.9640718563
                        ],
                        "iteration": 832,
                        "passed_time": 5.294461912,
                        "remaining_time": 1.061434741,
                        "test": [
                          0.4759529125,
                          0.8071748879
                        ]
                      },
                      {
                        "learn": [
                          0.1598145856,
                          0.9640718563
                        ],
                        "iteration": 833,
                        "passed_time": 5.298761131,
                        "remaining_time": 1.054669482,
                        "test": [
                          0.4759843041,
                          0.8071748879
                        ]
                      },
                      {
                        "learn": [
                          0.1596288844,
                          0.9640718563
                        ],
                        "iteration": 834,
                        "passed_time": 5.302632609,
                        "remaining_time": 1.047825605,
                        "test": [
                          0.4758924126,
                          0.8071748879
                        ]
                      },
                      {
                        "learn": [
                          0.1596166298,
                          0.9640718563
                        ],
                        "iteration": 835,
                        "passed_time": 5.306949144,
                        "remaining_time": 1.041076148,
                        "test": [
                          0.4759408848,
                          0.8071748879
                        ]
                      },
                      {
                        "learn": [
                          0.1592971947,
                          0.9640718563
                        ],
                        "iteration": 836,
                        "passed_time": 5.313372092,
                        "remaining_time": 1.034742713,
                        "test": [
                          0.4758941951,
                          0.8071748879
                        ]
                      },
                      {
                        "learn": [
                          0.1592713178,
                          0.9640718563
                        ],
                        "iteration": 837,
                        "passed_time": 5.31769071,
                        "remaining_time": 1.028002261,
                        "test": [
                          0.4764030296,
                          0.8071748879
                        ]
                      },
                      {
                        "learn": [
                          0.1590653405,
                          0.9640718563
                        ],
                        "iteration": 838,
                        "passed_time": 5.321786029,
                        "remaining_time": 1.021224733,
                        "test": [
                          0.4765115236,
                          0.8071748879
                        ]
                      },
                      {
                        "learn": [
                          0.1590411418,
                          0.9640718563
                        ],
                        "iteration": 839,
                        "passed_time": 5.329447809,
                        "remaining_time": 1.015132916,
                        "test": [
                          0.4765004356,
                          0.8071748879
                        ]
                      },
                      {
                        "learn": [
                          0.1589580911,
                          0.9640718563
                        ],
                        "iteration": 840,
                        "passed_time": 5.339533775,
                        "remaining_time": 1.009495684,
                        "test": [
                          0.4762943607,
                          0.8071748879
                        ]
                      },
                      {
                        "learn": [
                          0.1588566517,
                          0.9640718563
                        ],
                        "iteration": 841,
                        "passed_time": 5.345126511,
                        "remaining_time": 1.003004737,
                        "test": [
                          0.4765151101,
                          0.8071748879
                        ]
                      },
                      {
                        "learn": [
                          0.1588389995,
                          0.9640718563
                        ],
                        "iteration": 842,
                        "passed_time": 5.349043112,
                        "remaining_time": 0.9962037587,
                        "test": [
                          0.4766557261,
                          0.8071748879
                        ]
                      },
                      {
                        "learn": [
                          0.1585802465,
                          0.9640718563
                        ],
                        "iteration": 843,
                        "passed_time": 5.353323488,
                        "remaining_time": 0.9894768531,
                        "test": [
                          0.4766614408,
                          0.8071748879
                        ]
                      },
                      {
                        "learn": [
                          0.1585093516,
                          0.9640718563
                        ],
                        "iteration": 844,
                        "passed_time": 5.357339514,
                        "remaining_time": 0.9827072482,
                        "test": [
                          0.4763893818,
                          0.8071748879
                        ]
                      },
                      {
                        "learn": [
                          0.1583454962,
                          0.9640718563
                        ],
                        "iteration": 845,
                        "passed_time": 5.3609485,
                        "remaining_time": 0.9758700579,
                        "test": [
                          0.4765270564,
                          0.8071748879
                        ]
                      },
                      {
                        "learn": [
                          0.1579738139,
                          0.9640718563
                        ],
                        "iteration": 846,
                        "passed_time": 5.364964232,
                        "remaining_time": 0.969113964,
                        "test": [
                          0.4768183716,
                          0.8071748879
                        ]
                      },
                      {
                        "learn": [
                          0.1579214548,
                          0.9640718563
                        ],
                        "iteration": 847,
                        "passed_time": 5.368629478,
                        "remaining_time": 0.9623015101,
                        "test": [
                          0.4768223615,
                          0.8071748879
                        ]
                      },
                      {
                        "learn": [
                          0.1576953827,
                          0.9640718563
                        ],
                        "iteration": 848,
                        "passed_time": 5.37260484,
                        "remaining_time": 0.9555516264,
                        "test": [
                          0.4769780715,
                          0.8071748879
                        ]
                      },
                      {
                        "learn": [
                          0.1574991026,
                          0.9640718563
                        ],
                        "iteration": 849,
                        "passed_time": 5.376393038,
                        "remaining_time": 0.948775242,
                        "test": [
                          0.4778577059,
                          0.8071748879
                        ]
                      },
                      {
                        "learn": [
                          0.1574497604,
                          0.9640718563
                        ],
                        "iteration": 850,
                        "passed_time": 5.379685978,
                        "remaining_time": 0.9419191665,
                        "test": [
                          0.4777826158,
                          0.8071748879
                        ]
                      },
                      {
                        "learn": [
                          0.157254134,
                          0.9640718563
                        ],
                        "iteration": 851,
                        "passed_time": 5.383652749,
                        "remaining_time": 0.9351885057,
                        "test": [
                          0.4779236715,
                          0.8071748879
                        ]
                      },
                      {
                        "learn": [
                          0.1569831715,
                          0.9640718563
                        ],
                        "iteration": 852,
                        "passed_time": 5.387549068,
                        "remaining_time": 0.928452184,
                        "test": [
                          0.4784914436,
                          0.8071748879
                        ]
                      },
                      {
                        "learn": [
                          0.1568135975,
                          0.9640718563
                        ],
                        "iteration": 853,
                        "passed_time": 5.391119657,
                        "remaining_time": 0.9216668265,
                        "test": [
                          0.478522843,
                          0.8071748879
                        ]
                      },
                      {
                        "learn": [
                          0.1567580292,
                          0.9640718563
                        ],
                        "iteration": 854,
                        "passed_time": 5.39473906,
                        "remaining_time": 0.9148972675,
                        "test": [
                          0.4786393542,
                          0.8071748879
                        ]
                      },
                      {
                        "learn": [
                          0.1567339147,
                          0.9640718563
                        ],
                        "iteration": 855,
                        "passed_time": 5.398898518,
                        "remaining_time": 0.9082259189,
                        "test": [
                          0.4785249535,
                          0.8071748879
                        ]
                      },
                      {
                        "learn": [
                          0.1565998024,
                          0.9640718563
                        ],
                        "iteration": 856,
                        "passed_time": 5.402457851,
                        "remaining_time": 0.9014602948,
                        "test": [
                          0.4783145558,
                          0.8071748879
                        ]
                      },
                      {
                        "learn": [
                          0.1565102682,
                          0.9640718563
                        ],
                        "iteration": 857,
                        "passed_time": 5.406193785,
                        "remaining_time": 0.8947313724,
                        "test": [
                          0.4783453848,
                          0.8071748879
                        ]
                      },
                      {
                        "learn": [
                          0.1564643935,
                          0.9640718563
                        ],
                        "iteration": 858,
                        "passed_time": 5.409827604,
                        "remaining_time": 0.8879926568,
                        "test": [
                          0.4785897972,
                          0.8071748879
                        ]
                      },
                      {
                        "learn": [
                          0.1563936991,
                          0.9640718563
                        ],
                        "iteration": 859,
                        "passed_time": 5.413848584,
                        "remaining_time": 0.881324188,
                        "test": [
                          0.4785710684,
                          0.8071748879
                        ]
                      },
                      {
                        "learn": [
                          0.1563849051,
                          0.9640718563
                        ],
                        "iteration": 860,
                        "passed_time": 5.417625673,
                        "remaining_time": 0.8746224954,
                        "test": [
                          0.47855894,
                          0.8071748879
                        ]
                      },
                      {
                        "learn": [
                          0.1562196001,
                          0.9640718563
                        ],
                        "iteration": 861,
                        "passed_time": 5.421603328,
                        "remaining_time": 0.8679596975,
                        "test": [
                          0.4781767309,
                          0.8071748879
                        ]
                      },
                      {
                        "learn": [
                          0.1562119444,
                          0.9640718563
                        ],
                        "iteration": 862,
                        "passed_time": 5.425086979,
                        "remaining_time": 0.8612247,
                        "test": [
                          0.4781444467,
                          0.8071748879
                        ]
                      },
                      {
                        "learn": [
                          0.15592083,
                          0.9640718563
                        ],
                        "iteration": 863,
                        "passed_time": 5.429253664,
                        "remaining_time": 0.8546047434,
                        "test": [
                          0.4780739793,
                          0.8071748879
                        ]
                      },
                      {
                        "learn": [
                          0.1559142192,
                          0.9640718563
                        ],
                        "iteration": 864,
                        "passed_time": 5.433121579,
                        "remaining_time": 0.8479438303,
                        "test": [
                          0.4780621791,
                          0.8071748879
                        ]
                      },
                      {
                        "learn": [
                          0.1558826339,
                          0.9640718563
                        ],
                        "iteration": 865,
                        "passed_time": 5.436245214,
                        "remaining_time": 0.8411742016,
                        "test": [
                          0.4781676199,
                          0.8071748879
                        ]
                      },
                      {
                        "learn": [
                          0.1555849761,
                          0.9640718563
                        ],
                        "iteration": 866,
                        "passed_time": 5.440373576,
                        "remaining_time": 0.8345671115,
                        "test": [
                          0.4781922096,
                          0.8071748879
                        ]
                      },
                      {
                        "learn": [
                          0.1554032129,
                          0.9640718563
                        ],
                        "iteration": 867,
                        "passed_time": 5.444226891,
                        "remaining_time": 0.8279239051,
                        "test": [
                          0.478171684,
                          0.8071748879
                        ]
                      },
                      {
                        "learn": [
                          0.1551064425,
                          0.9640718563
                        ],
                        "iteration": 868,
                        "passed_time": 5.448373669,
                        "remaining_time": 0.8213313586,
                        "test": [
                          0.4782927175,
                          0.8071748879
                        ]
                      },
                      {
                        "learn": [
                          0.1549052478,
                          0.9640718563
                        ],
                        "iteration": 869,
                        "passed_time": 5.451844026,
                        "remaining_time": 0.8146433601,
                        "test": [
                          0.478224001,
                          0.8071748879
                        ]
                      },
                      {
                        "learn": [
                          0.1548299958,
                          0.9640718563
                        ],
                        "iteration": 870,
                        "passed_time": 5.455871621,
                        "remaining_time": 0.8080452803,
                        "test": [
                          0.4782426183,
                          0.8071748879
                        ]
                      },
                      {
                        "learn": [
                          0.1546451985,
                          0.9640718563
                        ],
                        "iteration": 871,
                        "passed_time": 5.459280928,
                        "remaining_time": 0.801362338,
                        "test": [
                          0.4783360554,
                          0.8071748879
                        ]
                      },
                      {
                        "learn": [
                          0.1543751138,
                          0.9640718563
                        ],
                        "iteration": 872,
                        "passed_time": 5.463269537,
                        "remaining_time": 0.7947711698,
                        "test": [
                          0.4785020328,
                          0.8071748879
                        ]
                      },
                      {
                        "learn": [
                          0.1543690439,
                          0.9640718563
                        ],
                        "iteration": 873,
                        "passed_time": 5.467410303,
                        "remaining_time": 0.7882078926,
                        "test": [
                          0.4785037404,
                          0.8071748879
                        ]
                      },
                      {
                        "learn": [
                          0.1540638075,
                          0.9640718563
                        ],
                        "iteration": 874,
                        "passed_time": 5.471529156,
                        "remaining_time": 0.7816470222,
                        "test": [
                          0.4787293207,
                          0.8071748879
                        ]
                      },
                      {
                        "learn": [
                          0.1539657689,
                          0.9640718563
                        ],
                        "iteration": 875,
                        "passed_time": 5.475164625,
                        "remaining_time": 0.775023303,
                        "test": [
                          0.4786282397,
                          0.8071748879
                        ]
                      },
                      {
                        "learn": [
                          0.1537534769,
                          0.9640718563
                        ],
                        "iteration": 876,
                        "passed_time": 5.479745799,
                        "remaining_time": 0.7685390345,
                        "test": [
                          0.4787513925,
                          0.8071748879
                        ]
                      },
                      {
                        "learn": [
                          0.1536096512,
                          0.9640718563
                        ],
                        "iteration": 877,
                        "passed_time": 5.48345698,
                        "remaining_time": 0.7619382136,
                        "test": [
                          0.4784819517,
                          0.8071748879
                        ]
                      },
                      {
                        "learn": [
                          0.1533347541,
                          0.9640718563
                        ],
                        "iteration": 878,
                        "passed_time": 5.486980239,
                        "remaining_time": 0.7553180989,
                        "test": [
                          0.4785790787,
                          0.8071748879
                        ]
                      },
                      {
                        "learn": [
                          0.1532863709,
                          0.9640718563
                        ],
                        "iteration": 879,
                        "passed_time": 5.490646385,
                        "remaining_time": 0.748724507,
                        "test": [
                          0.4785468992,
                          0.8071748879
                        ]
                      },
                      {
                        "learn": [
                          0.1530453212,
                          0.9640718563
                        ],
                        "iteration": 880,
                        "passed_time": 5.494470074,
                        "remaining_time": 0.7421588409,
                        "test": [
                          0.4791840889,
                          0.8071748879
                        ]
                      },
                      {
                        "learn": [
                          0.1529210898,
                          0.9640718563
                        ],
                        "iteration": 881,
                        "passed_time": 5.498522044,
                        "remaining_time": 0.7356299334,
                        "test": [
                          0.4791000118,
                          0.8071748879
                        ]
                      },
                      {
                        "learn": [
                          0.1527126133,
                          0.9640718563
                        ],
                        "iteration": 882,
                        "passed_time": 5.503163186,
                        "remaining_time": 0.729184703,
                        "test": [
                          0.4792836579,
                          0.8071748879
                        ]
                      },
                      {
                        "learn": [
                          0.1526594687,
                          0.9640718563
                        ],
                        "iteration": 883,
                        "passed_time": 5.506980455,
                        "remaining_time": 0.7226354443,
                        "test": [
                          0.4793887361,
                          0.8071748879
                        ]
                      },
                      {
                        "learn": [
                          0.1523796261,
                          0.9640718563
                        ],
                        "iteration": 884,
                        "passed_time": 5.510848792,
                        "remaining_time": 0.7160989955,
                        "test": [
                          0.4794202318,
                          0.8071748879
                        ]
                      },
                      {
                        "learn": [
                          0.1521571037,
                          0.9640718563
                        ],
                        "iteration": 885,
                        "passed_time": 5.515226405,
                        "remaining_time": 0.7096340973,
                        "test": [
                          0.4797501604,
                          0.8071748879
                        ]
                      },
                      {
                        "learn": [
                          0.1520429982,
                          0.9640718563
                        ],
                        "iteration": 886,
                        "passed_time": 5.518763489,
                        "remaining_time": 0.7030668256,
                        "test": [
                          0.4799563029,
                          0.8071748879
                        ]
                      },
                      {
                        "learn": [
                          0.1520136976,
                          0.9640718563
                        ],
                        "iteration": 887,
                        "passed_time": 5.523434765,
                        "remaining_time": 0.6966494298,
                        "test": [
                          0.4799109143,
                          0.8071748879
                        ]
                      },
                      {
                        "learn": [
                          0.1517982981,
                          0.9640718563
                        ],
                        "iteration": 888,
                        "passed_time": 5.529262086,
                        "remaining_time": 0.6903803054,
                        "test": [
                          0.4797223127,
                          0.8071748879
                        ]
                      },
                      {
                        "learn": [
                          0.1517118785,
                          0.9640718563
                        ],
                        "iteration": 889,
                        "passed_time": 5.533223445,
                        "remaining_time": 0.6838815494,
                        "test": [
                          0.4797960072,
                          0.8071748879
                        ]
                      },
                      {
                        "learn": [
                          0.1516739237,
                          0.9640718563
                        ],
                        "iteration": 890,
                        "passed_time": 5.537249503,
                        "remaining_time": 0.6773964038,
                        "test": [
                          0.4798403667,
                          0.8071748879
                        ]
                      },
                      {
                        "learn": [
                          0.1514840807,
                          0.9640718563
                        ],
                        "iteration": 891,
                        "passed_time": 5.541053342,
                        "remaining_time": 0.6708898665,
                        "test": [
                          0.4798507576,
                          0.8071748879
                        ]
                      },
                      {
                        "learn": [
                          0.1512861348,
                          0.9640718563
                        ],
                        "iteration": 892,
                        "passed_time": 5.544913829,
                        "remaining_time": 0.6643961699,
                        "test": [
                          0.479953582,
                          0.8071748879
                        ]
                      },
                      {
                        "learn": [
                          0.1509824633,
                          0.9640718563
                        ],
                        "iteration": 893,
                        "passed_time": 5.549570276,
                        "remaining_time": 0.6580027396,
                        "test": [
                          0.4803233556,
                          0.8071748879
                        ]
                      },
                      {
                        "learn": [
                          0.1509717929,
                          0.9640718563
                        ],
                        "iteration": 894,
                        "passed_time": 5.553533572,
                        "remaining_time": 0.6515318716,
                        "test": [
                          0.4803386354,
                          0.8071748879
                        ]
                      },
                      {
                        "learn": [
                          0.1507235884,
                          0.9640718563
                        ],
                        "iteration": 895,
                        "passed_time": 5.557492685,
                        "remaining_time": 0.6450661153,
                        "test": [
                          0.4805240224,
                          0.8071748879
                        ]
                      },
                      {
                        "learn": [
                          0.1506132015,
                          0.9640718563
                        ],
                        "iteration": 896,
                        "passed_time": 5.561678201,
                        "remaining_time": 0.6386319451,
                        "test": [
                          0.4805078115,
                          0.8071748879
                        ]
                      },
                      {
                        "learn": [
                          0.1506019434,
                          0.9640718563
                        ],
                        "iteration": 897,
                        "passed_time": 5.565675979,
                        "remaining_time": 0.6321814587,
                        "test": [
                          0.4805246425,
                          0.8071748879
                        ]
                      },
                      {
                        "learn": [
                          0.1504119658,
                          0.9640718563
                        ],
                        "iteration": 898,
                        "passed_time": 5.569245124,
                        "remaining_time": 0.6256882732,
                        "test": [
                          0.4810904239,
                          0.8071748879
                        ]
                      },
                      {
                        "learn": [
                          0.1502441234,
                          0.9640718563
                        ],
                        "iteration": 899,
                        "passed_time": 5.573304557,
                        "remaining_time": 0.6192560618,
                        "test": [
                          0.4812147407,
                          0.8071748879
                        ]
                      },
                      {
                        "learn": [
                          0.1500798502,
                          0.9640718563
                        ],
                        "iteration": 900,
                        "passed_time": 5.577182398,
                        "remaining_time": 0.6128091647,
                        "test": [
                          0.4813219749,
                          0.8071748879
                        ]
                      },
                      {
                        "learn": [
                          0.1499297694,
                          0.9640718563
                        ],
                        "iteration": 901,
                        "passed_time": 5.581155513,
                        "remaining_time": 0.6063783151,
                        "test": [
                          0.4815651083,
                          0.8071748879
                        ]
                      },
                      {
                        "learn": [
                          0.1498614818,
                          0.9640718563
                        ],
                        "iteration": 902,
                        "passed_time": 5.584901552,
                        "remaining_time": 0.5999285167,
                        "test": [
                          0.481590455,
                          0.8071748879
                        ]
                      },
                      {
                        "learn": [
                          0.1498529866,
                          0.9640718563
                        ],
                        "iteration": 903,
                        "passed_time": 5.589458173,
                        "remaining_time": 0.5935707794,
                        "test": [
                          0.4815920164,
                          0.8071748879
                        ]
                      },
                      {
                        "learn": [
                          0.1498396574,
                          0.9640718563
                        ],
                        "iteration": 904,
                        "passed_time": 5.593343745,
                        "remaining_time": 0.587146581,
                        "test": [
                          0.4815977426,
                          0.8071748879
                        ]
                      },
                      {
                        "learn": [
                          0.1495960411,
                          0.9640718563
                        ],
                        "iteration": 905,
                        "passed_time": 5.597360834,
                        "remaining_time": 0.5807416318,
                        "test": [
                          0.481414852,
                          0.8071748879
                        ]
                      },
                      {
                        "learn": [
                          0.149543373,
                          0.9640718563
                        ],
                        "iteration": 906,
                        "passed_time": 5.601286296,
                        "remaining_time": 0.574332553,
                        "test": [
                          0.4816450228,
                          0.8071748879
                        ]
                      },
                      {
                        "learn": [
                          0.1494689765,
                          0.9640718563
                        ],
                        "iteration": 907,
                        "passed_time": 5.605078282,
                        "remaining_time": 0.5679154207,
                        "test": [
                          0.4815831649,
                          0.8071748879
                        ]
                      },
                      {
                        "learn": [
                          0.1491144451,
                          0.9640718563
                        ],
                        "iteration": 908,
                        "passed_time": 5.609004784,
                        "remaining_time": 0.5615175307,
                        "test": [
                          0.4818696892,
                          0.8071748879
                        ]
                      },
                      {
                        "learn": [
                          0.149105958,
                          0.9640718563
                        ],
                        "iteration": 909,
                        "passed_time": 5.614102647,
                        "remaining_time": 0.5552409211,
                        "test": [
                          0.4818849859,
                          0.8071748879
                        ]
                      },
                      {
                        "learn": [
                          0.1489517157,
                          0.9640718563
                        ],
                        "iteration": 910,
                        "passed_time": 5.61795636,
                        "remaining_time": 0.5488453524,
                        "test": [
                          0.4816736908,
                          0.8071748879
                        ]
                      },
                      {
                        "learn": [
                          0.1489443624,
                          0.9640718563
                        ],
                        "iteration": 911,
                        "passed_time": 5.622011029,
                        "remaining_time": 0.5424747484,
                        "test": [
                          0.4816751979,
                          0.8071748879
                        ]
                      },
                      {
                        "learn": [
                          0.14855303,
                          0.9640718563
                        ],
                        "iteration": 912,
                        "passed_time": 5.625998766,
                        "remaining_time": 0.5361028397,
                        "test": [
                          0.4820381661,
                          0.8071748879
                        ]
                      },
                      {
                        "learn": [
                          0.1482892691,
                          0.9640718563
                        ],
                        "iteration": 913,
                        "passed_time": 5.630231662,
                        "remaining_time": 0.5297592155,
                        "test": [
                          0.4820448278,
                          0.8071748879
                        ]
                      },
                      {
                        "learn": [
                          0.148018665,
                          0.9640718563
                        ],
                        "iteration": 914,
                        "passed_time": 5.634113493,
                        "remaining_time": 0.5233875923,
                        "test": [
                          0.4822580725,
                          0.8071748879
                        ]
                      },
                      {
                        "learn": [
                          0.1478008525,
                          0.9640718563
                        ],
                        "iteration": 915,
                        "passed_time": 5.638004602,
                        "remaining_time": 0.5170222561,
                        "test": [
                          0.4822042529,
                          0.8071748879
                        ]
                      },
                      {
                        "learn": [
                          0.1475257098,
                          0.9640718563
                        ],
                        "iteration": 916,
                        "passed_time": 5.641965306,
                        "remaining_time": 0.5106686155,
                        "test": [
                          0.4823247324,
                          0.8071748879
                        ]
                      },
                      {
                        "learn": [
                          0.1475193424,
                          0.9640718563
                        ],
                        "iteration": 917,
                        "passed_time": 5.64593115,
                        "remaining_time": 0.5043206474,
                        "test": [
                          0.4823220381,
                          0.8071748879
                        ]
                      },
                      {
                        "learn": [
                          0.1472452998,
                          0.9640718563
                        ],
                        "iteration": 918,
                        "passed_time": 5.65010349,
                        "remaining_time": 0.4979960639,
                        "test": [
                          0.4822756096,
                          0.8071748879
                        ]
                      },
                      {
                        "learn": [
                          0.1470891542,
                          0.9655688623
                        ],
                        "iteration": 919,
                        "passed_time": 5.65442859,
                        "remaining_time": 0.4916894426,
                        "test": [
                          0.4823625269,
                          0.8071748879
                        ]
                      },
                      {
                        "learn": [
                          0.1469107859,
                          0.9655688623
                        ],
                        "iteration": 920,
                        "passed_time": 5.658257394,
                        "remaining_time": 0.4853445539,
                        "test": [
                          0.4828146156,
                          0.8071748879
                        ]
                      },
                      {
                        "learn": [
                          0.1469012813,
                          0.9655688623
                        ],
                        "iteration": 921,
                        "passed_time": 5.662097316,
                        "remaining_time": 0.4790060636,
                        "test": [
                          0.4830767696,
                          0.8071748879
                        ]
                      },
                      {
                        "learn": [
                          0.1468920457,
                          0.9655688623
                        ],
                        "iteration": 922,
                        "passed_time": 5.665074382,
                        "remaining_time": 0.4726010048,
                        "test": [
                          0.4830353535,
                          0.8071748879
                        ]
                      },
                      {
                        "learn": [
                          0.1468316336,
                          0.9655688623
                        ],
                        "iteration": 923,
                        "passed_time": 5.668989902,
                        "remaining_time": 0.4662805547,
                        "test": [
                          0.4833062555,
                          0.8071748879
                        ]
                      },
                      {
                        "learn": [
                          0.1468256965,
                          0.9655688623
                        ],
                        "iteration": 924,
                        "passed_time": 5.672585237,
                        "remaining_time": 0.4599393435,
                        "test": [
                          0.483595438,
                          0.8071748879
                        ]
                      },
                      {
                        "learn": [
                          0.1463862388,
                          0.9655688623
                        ],
                        "iteration": 925,
                        "passed_time": 5.676548622,
                        "remaining_time": 0.4536334752,
                        "test": [
                          0.4833596969,
                          0.8071748879
                        ]
                      },
                      {
                        "learn": [
                          0.1463389595,
                          0.9655688623
                        ],
                        "iteration": 926,
                        "passed_time": 5.680210729,
                        "remaining_time": 0.4473089355,
                        "test": [
                          0.4834657513,
                          0.8071748879
                        ]
                      },
                      {
                        "learn": [
                          0.146152189,
                          0.9655688623
                        ],
                        "iteration": 927,
                        "passed_time": 5.683724737,
                        "remaining_time": 0.4409786434,
                        "test": [
                          0.4837667725,
                          0.8071748879
                        ]
                      },
                      {
                        "learn": [
                          0.1460494383,
                          0.9670658683
                        ],
                        "iteration": 928,
                        "passed_time": 5.687696586,
                        "remaining_time": 0.4346894054,
                        "test": [
                          0.4837507839,
                          0.8071748879
                        ]
                      },
                      {
                        "learn": [
                          0.1458970072,
                          0.9670658683
                        ],
                        "iteration": 929,
                        "passed_time": 5.691595012,
                        "remaining_time": 0.4283996246,
                        "test": [
                          0.48411356,
                          0.8071748879
                        ]
                      },
                      {
                        "learn": [
                          0.1457444592,
                          0.9670658683
                        ],
                        "iteration": 930,
                        "passed_time": 5.695644427,
                        "remaining_time": 0.4221261713,
                        "test": [
                          0.4840824758,
                          0.8071748879
                        ]
                      },
                      {
                        "learn": [
                          0.1454983636,
                          0.9670658683
                        ],
                        "iteration": 931,
                        "passed_time": 5.699664628,
                        "remaining_time": 0.4158553591,
                        "test": [
                          0.4841232159,
                          0.8071748879
                        ]
                      },
                      {
                        "learn": [
                          0.1454137493,
                          0.9670658683
                        ],
                        "iteration": 932,
                        "passed_time": 5.703546582,
                        "remaining_time": 0.4095794437,
                        "test": [
                          0.4840929433,
                          0.8071748879
                        ]
                      },
                      {
                        "learn": [
                          0.1452756785,
                          0.9670658683
                        ],
                        "iteration": 933,
                        "passed_time": 5.7077319,
                        "remaining_time": 0.4033300914,
                        "test": [
                          0.4840167585,
                          0.8071748879
                        ]
                      },
                      {
                        "learn": [
                          0.1451764328,
                          0.9670658683
                        ],
                        "iteration": 934,
                        "passed_time": 5.711804213,
                        "remaining_time": 0.3970772982,
                        "test": [
                          0.4839023477,
                          0.8071748879
                        ]
                      },
                      {
                        "learn": [
                          0.1448863738,
                          0.9670658683
                        ],
                        "iteration": 935,
                        "passed_time": 5.715818893,
                        "remaining_time": 0.3908252235,
                        "test": [
                          0.4843797535,
                          0.8071748879
                        ]
                      },
                      {
                        "learn": [
                          0.1447729295,
                          0.9670658683
                        ],
                        "iteration": 936,
                        "passed_time": 5.719683633,
                        "remaining_time": 0.384567843,
                        "test": [
                          0.4843393074,
                          0.8071748879
                        ]
                      },
                      {
                        "learn": [
                          0.1447114706,
                          0.9670658683
                        ],
                        "iteration": 937,
                        "passed_time": 5.723701702,
                        "remaining_time": 0.3783256989,
                        "test": [
                          0.4843212713,
                          0.8071748879
                        ]
                      },
                      {
                        "learn": [
                          0.1446346152,
                          0.9670658683
                        ],
                        "iteration": 938,
                        "passed_time": 5.727191455,
                        "remaining_time": 0.372053971,
                        "test": [
                          0.4843523695,
                          0.8071748879
                        ]
                      },
                      {
                        "learn": [
                          0.1445207274,
                          0.9670658683
                        ],
                        "iteration": 939,
                        "passed_time": 5.731080351,
                        "remaining_time": 0.3658136394,
                        "test": [
                          0.4842715093,
                          0.8071748879
                        ]
                      },
                      {
                        "learn": [
                          0.1444189274,
                          0.9670658683
                        ],
                        "iteration": 940,
                        "passed_time": 5.735622147,
                        "remaining_time": 0.3596192419,
                        "test": [
                          0.4842598113,
                          0.8071748879
                        ]
                      },
                      {
                        "learn": [
                          0.1443096541,
                          0.9670658683
                        ],
                        "iteration": 941,
                        "passed_time": 5.738957682,
                        "remaining_time": 0.3533540823,
                        "test": [
                          0.484182851,
                          0.8071748879
                        ]
                      },
                      {
                        "learn": [
                          0.1441058225,
                          0.9670658683
                        ],
                        "iteration": 942,
                        "passed_time": 5.743018377,
                        "remaining_time": 0.3471389687,
                        "test": [
                          0.4841317286,
                          0.8071748879
                        ]
                      },
                      {
                        "learn": [
                          0.1440311554,
                          0.9670658683
                        ],
                        "iteration": 943,
                        "passed_time": 5.746645666,
                        "remaining_time": 0.340902709,
                        "test": [
                          0.4850299359,
                          0.8071748879
                        ]
                      },
                      {
                        "learn": [
                          0.144007069,
                          0.9670658683
                        ],
                        "iteration": 944,
                        "passed_time": 5.750748225,
                        "remaining_time": 0.3346996322,
                        "test": [
                          0.4848843339,
                          0.8071748879
                        ]
                      },
                      {
                        "learn": [
                          0.1439731943,
                          0.9670658683
                        ],
                        "iteration": 945,
                        "passed_time": 5.754673112,
                        "remaining_time": 0.3284908542,
                        "test": [
                          0.484809449,
                          0.8071748879
                        ]
                      },
                      {
                        "learn": [
                          0.1438657858,
                          0.9670658683
                        ],
                        "iteration": 946,
                        "passed_time": 5.758683671,
                        "remaining_time": 0.3222916944,
                        "test": [
                          0.4851012636,
                          0.8071748879
                        ]
                      },
                      {
                        "learn": [
                          0.1437978894,
                          0.9670658683
                        ],
                        "iteration": 947,
                        "passed_time": 5.762902936,
                        "remaining_time": 0.3161085999,
                        "test": [
                          0.4858683954,
                          0.8071748879
                        ]
                      },
                      {
                        "learn": [
                          0.1436852155,
                          0.9670658683
                        ],
                        "iteration": 948,
                        "passed_time": 5.766571099,
                        "remaining_time": 0.3099000275,
                        "test": [
                          0.4859580153,
                          0.8071748879
                        ]
                      },
                      {
                        "learn": [
                          0.1436748873,
                          0.9670658683
                        ],
                        "iteration": 949,
                        "passed_time": 5.770407668,
                        "remaining_time": 0.3037056667,
                        "test": [
                          0.4859801816,
                          0.8071748879
                        ]
                      },
                      {
                        "learn": [
                          0.143672622,
                          0.9670658683
                        ],
                        "iteration": 950,
                        "passed_time": 5.774239517,
                        "remaining_time": 0.2975160214,
                        "test": [
                          0.4859969044,
                          0.8071748879
                        ]
                      },
                      {
                        "learn": [
                          0.1435808921,
                          0.9670658683
                        ],
                        "iteration": 951,
                        "passed_time": 5.777968403,
                        "remaining_time": 0.291326138,
                        "test": [
                          0.4857054924,
                          0.8071748879
                        ]
                      },
                      {
                        "learn": [
                          0.1433610794,
                          0.9670658683
                        ],
                        "iteration": 952,
                        "passed_time": 5.781965247,
                        "remaining_time": 0.2851546344,
                        "test": [
                          0.4862998499,
                          0.8116591928
                        ]
                      },
                      {
                        "learn": [
                          0.1431562751,
                          0.9670658683
                        ],
                        "iteration": 953,
                        "passed_time": 5.786025572,
                        "remaining_time": 0.2789907508,
                        "test": [
                          0.4859427523,
                          0.8071748879
                        ]
                      },
                      {
                        "learn": [
                          0.1428553199,
                          0.9670658683
                        ],
                        "iteration": 954,
                        "passed_time": 5.79019478,
                        "remaining_time": 0.2728364033,
                        "test": [
                          0.4861276054,
                          0.8071748879
                        ]
                      },
                      {
                        "learn": [
                          0.1428497556,
                          0.9670658683
                        ],
                        "iteration": 955,
                        "passed_time": 5.794370756,
                        "remaining_time": 0.2666865202,
                        "test": [
                          0.4861298744,
                          0.8116591928
                        ]
                      },
                      {
                        "learn": [
                          0.142731779,
                          0.9670658683
                        ],
                        "iteration": 956,
                        "passed_time": 5.79833022,
                        "remaining_time": 0.2605310339,
                        "test": [
                          0.4861053399,
                          0.8071748879
                        ]
                      },
                      {
                        "learn": [
                          0.142723287,
                          0.9670658683
                        ],
                        "iteration": 957,
                        "passed_time": 5.80214319,
                        "remaining_time": 0.2543737098,
                        "test": [
                          0.4860690247,
                          0.8116591928
                        ]
                      },
                      {
                        "learn": [
                          0.1423986023,
                          0.9670658683
                        ],
                        "iteration": 958,
                        "passed_time": 5.806133996,
                        "remaining_time": 0.2482288778,
                        "test": [
                          0.4865077188,
                          0.8116591928
                        ]
                      },
                      {
                        "learn": [
                          0.1422807857,
                          0.9670658683
                        ],
                        "iteration": 959,
                        "passed_time": 5.809975503,
                        "remaining_time": 0.2420823126,
                        "test": [
                          0.486857994,
                          0.8116591928
                        ]
                      },
                      {
                        "learn": [
                          0.1421419899,
                          0.9670658683
                        ],
                        "iteration": 960,
                        "passed_time": 5.814245188,
                        "remaining_time": 0.2359579213,
                        "test": [
                          0.4868316815,
                          0.8071748879
                        ]
                      },
                      {
                        "learn": [
                          0.1419307255,
                          0.9670658683
                        ],
                        "iteration": 961,
                        "passed_time": 5.818374805,
                        "remaining_time": 0.229831853,
                        "test": [
                          0.4867308502,
                          0.8071748879
                        ]
                      },
                      {
                        "learn": [
                          0.1418280418,
                          0.9670658683
                        ],
                        "iteration": 962,
                        "passed_time": 5.822421793,
                        "remaining_time": 0.2237067563,
                        "test": [
                          0.4867862011,
                          0.8071748879
                        ]
                      },
                      {
                        "learn": [
                          0.1416576485,
                          0.9670658683
                        ],
                        "iteration": 963,
                        "passed_time": 5.826309737,
                        "remaining_time": 0.2175800317,
                        "test": [
                          0.486995654,
                          0.8071748879
                        ]
                      },
                      {
                        "learn": [
                          0.1415879962,
                          0.9670658683
                        ],
                        "iteration": 964,
                        "passed_time": 5.830111839,
                        "remaining_time": 0.2114548335,
                        "test": [
                          0.4869589869,
                          0.8071748879
                        ]
                      },
                      {
                        "learn": [
                          0.1414790362,
                          0.9670658683
                        ],
                        "iteration": 965,
                        "passed_time": 5.834006235,
                        "remaining_time": 0.2053376936,
                        "test": [
                          0.4871282499,
                          0.8071748879
                        ]
                      },
                      {
                        "learn": [
                          0.1413585919,
                          0.9670658683
                        ],
                        "iteration": 966,
                        "passed_time": 5.837844662,
                        "remaining_time": 0.1992232408,
                        "test": [
                          0.4872638426,
                          0.8071748879
                        ]
                      },
                      {
                        "learn": [
                          0.1411055075,
                          0.9670658683
                        ],
                        "iteration": 967,
                        "passed_time": 5.841381188,
                        "remaining_time": 0.1931035103,
                        "test": [
                          0.4879139672,
                          0.8071748879
                        ]
                      },
                      {
                        "learn": [
                          0.1410428202,
                          0.9670658683
                        ],
                        "iteration": 968,
                        "passed_time": 5.844548095,
                        "remaining_time": 0.1869772868,
                        "test": [
                          0.4877738426,
                          0.8071748879
                        ]
                      },
                      {
                        "learn": [
                          0.141037449,
                          0.9670658683
                        ],
                        "iteration": 969,
                        "passed_time": 5.848486315,
                        "remaining_time": 0.18088102,
                        "test": [
                          0.4877710867,
                          0.8071748879
                        ]
                      },
                      {
                        "learn": [
                          0.141002233,
                          0.9670658683
                        ],
                        "iteration": 970,
                        "passed_time": 5.852139497,
                        "remaining_time": 0.1747806853,
                        "test": [
                          0.4878304267,
                          0.8071748879
                        ]
                      },
                      {
                        "learn": [
                          0.1407488471,
                          0.9670658683
                        ],
                        "iteration": 971,
                        "passed_time": 5.855987975,
                        "remaining_time": 0.1686910116,
                        "test": [
                          0.4877897158,
                          0.8071748879
                        ]
                      },
                      {
                        "learn": [
                          0.1404351981,
                          0.9670658683
                        ],
                        "iteration": 972,
                        "passed_time": 5.859452204,
                        "remaining_time": 0.1625952821,
                        "test": [
                          0.4879270509,
                          0.8071748879
                        ]
                      },
                      {
                        "learn": [
                          0.1403868109,
                          0.9670658683
                        ],
                        "iteration": 973,
                        "passed_time": 5.86313717,
                        "remaining_time": 0.1565108485,
                        "test": [
                          0.4879208416,
                          0.8071748879
                        ]
                      },
                      {
                        "learn": [
                          0.1403791807,
                          0.9670658683
                        ],
                        "iteration": 974,
                        "passed_time": 5.866617352,
                        "remaining_time": 0.150426086,
                        "test": [
                          0.4879341856,
                          0.8071748879
                        ]
                      },
                      {
                        "learn": [
                          0.1403294103,
                          0.9670658683
                        ],
                        "iteration": 975,
                        "passed_time": 5.870745771,
                        "remaining_time": 0.1443626009,
                        "test": [
                          0.4879539787,
                          0.8071748879
                        ]
                      },
                      {
                        "learn": [
                          0.1401067384,
                          0.9685628743
                        ],
                        "iteration": 976,
                        "passed_time": 5.874877265,
                        "remaining_time": 0.1383031495,
                        "test": [
                          0.4880263581,
                          0.8071748879
                        ]
                      },
                      {
                        "learn": [
                          0.13989518,
                          0.9685628743
                        ],
                        "iteration": 977,
                        "passed_time": 5.878709421,
                        "remaining_time": 0.1322409072,
                        "test": [
                          0.4880510149,
                          0.8071748879
                        ]
                      },
                      {
                        "learn": [
                          0.1396197168,
                          0.9685628743
                        ],
                        "iteration": 978,
                        "passed_time": 5.882594552,
                        "remaining_time": 0.1261843571,
                        "test": [
                          0.488226441,
                          0.8071748879
                        ]
                      },
                      {
                        "learn": [
                          0.1393494925,
                          0.9685628743
                        ],
                        "iteration": 979,
                        "passed_time": 5.88636205,
                        "remaining_time": 0.1201298378,
                        "test": [
                          0.4883719943,
                          0.8071748879
                        ]
                      },
                      {
                        "learn": [
                          0.1392892774,
                          0.9685628743
                        ],
                        "iteration": 980,
                        "passed_time": 5.890300595,
                        "remaining_time": 0.1140832939,
                        "test": [
                          0.4883432025,
                          0.8071748879
                        ]
                      },
                      {
                        "learn": [
                          0.1390151879,
                          0.9685628743
                        ],
                        "iteration": 981,
                        "passed_time": 5.89485309,
                        "remaining_time": 0.108052297,
                        "test": [
                          0.4884258117,
                          0.8071748879
                        ]
                      },
                      {
                        "learn": [
                          0.1388890445,
                          0.9685628743
                        ],
                        "iteration": 982,
                        "passed_time": 5.899274528,
                        "remaining_time": 0.1020220417,
                        "test": [
                          0.4882025575,
                          0.8071748879
                        ]
                      },
                      {
                        "learn": [
                          0.1388409899,
                          0.9700598802
                        ],
                        "iteration": 983,
                        "passed_time": 5.903398924,
                        "remaining_time": 0.09599022641,
                        "test": [
                          0.4881697234,
                          0.8071748879
                        ]
                      },
                      {
                        "learn": [
                          0.1387967004,
                          0.9700598802
                        ],
                        "iteration": 984,
                        "passed_time": 5.906927314,
                        "remaining_time": 0.08995320782,
                        "test": [
                          0.488094082,
                          0.8071748879
                        ]
                      },
                      {
                        "learn": [
                          0.1386518338,
                          0.9700598802
                        ],
                        "iteration": 985,
                        "passed_time": 5.910795968,
                        "remaining_time": 0.08392610908,
                        "test": [
                          0.4884275993,
                          0.8071748879
                        ]
                      },
                      {
                        "learn": [
                          0.1384967369,
                          0.9700598802
                        ],
                        "iteration": 986,
                        "passed_time": 5.914077737,
                        "remaining_time": 0.07789565409,
                        "test": [
                          0.4886134148,
                          0.8071748879
                        ]
                      },
                      {
                        "learn": [
                          0.1383326298,
                          0.9700598802
                        ],
                        "iteration": 987,
                        "passed_time": 5.91795468,
                        "remaining_time": 0.07187799207,
                        "test": [
                          0.4889660492,
                          0.8071748879
                        ]
                      },
                      {
                        "learn": [
                          0.1382014028,
                          0.9700598802
                        ],
                        "iteration": 988,
                        "passed_time": 5.921766307,
                        "remaining_time": 0.06586393263,
                        "test": [
                          0.4883320145,
                          0.8071748879
                        ]
                      },
                      {
                        "learn": [
                          0.1381674147,
                          0.9700598802
                        ],
                        "iteration": 989,
                        "passed_time": 5.925753475,
                        "remaining_time": 0.05985609571,
                        "test": [
                          0.4883858912,
                          0.8071748879
                        ]
                      },
                      {
                        "learn": [
                          0.1379676088,
                          0.9700598802
                        ],
                        "iteration": 990,
                        "passed_time": 5.930469931,
                        "remaining_time": 0.05385896002,
                        "test": [
                          0.4885235768,
                          0.8071748879
                        ]
                      },
                      {
                        "learn": [
                          0.1378066991,
                          0.9700598802
                        ],
                        "iteration": 991,
                        "passed_time": 5.934650931,
                        "remaining_time": 0.04786008815,
                        "test": [
                          0.4886726929,
                          0.8071748879
                        ]
                      },
                      {
                        "learn": [
                          0.1377347478,
                          0.9700598802
                        ],
                        "iteration": 992,
                        "passed_time": 5.938579391,
                        "remaining_time": 0.04186309742,
                        "test": [
                          0.488715165,
                          0.8071748879
                        ]
                      },
                      {
                        "learn": [
                          0.137699237,
                          0.9700598802
                        ],
                        "iteration": 993,
                        "passed_time": 5.942210404,
                        "remaining_time": 0.03586847326,
                        "test": [
                          0.48867696,
                          0.8071748879
                        ]
                      },
                      {
                        "learn": [
                          0.1376028231,
                          0.9700598802
                        ],
                        "iteration": 994,
                        "passed_time": 5.945832448,
                        "remaining_time": 0.02987855501,
                        "test": [
                          0.4885932033,
                          0.8071748879
                        ]
                      },
                      {
                        "learn": [
                          0.1372679151,
                          0.9700598802
                        ],
                        "iteration": 995,
                        "passed_time": 5.949645129,
                        "remaining_time": 0.02389415714,
                        "test": [
                          0.4890435346,
                          0.8071748879
                        ]
                      },
                      {
                        "learn": [
                          0.1371939712,
                          0.9700598802
                        ],
                        "iteration": 996,
                        "passed_time": 5.953456599,
                        "remaining_time": 0.01791411213,
                        "test": [
                          0.4890685701,
                          0.8071748879
                        ]
                      },
                      {
                        "learn": [
                          0.1370976615,
                          0.9700598802
                        ],
                        "iteration": 997,
                        "passed_time": 5.957619926,
                        "remaining_time": 0.01193911809,
                        "test": [
                          0.4892963125,
                          0.8071748879
                        ]
                      },
                      {
                        "learn": [
                          0.1369661473,
                          0.9700598802
                        ],
                        "iteration": 998,
                        "passed_time": 5.961731804,
                        "remaining_time": 0.005967699503,
                        "test": [
                          0.4892450302,
                          0.8071748879
                        ]
                      },
                      {
                        "learn": [
                          0.1368742446,
                          0.9700598802
                        ],
                        "iteration": 999,
                        "passed_time": 5.965703119,
                        "remaining_time": 0,
                        "test": [
                          0.48926453,
                          0.8071748879
                        ]
                      }
                    ],
                    "meta": {
                      "test_sets": [
                        "test"
                      ],
                      "test_metrics": [
                        {
                          "best_value": "Min",
                          "name": "Logloss"
                        },
                        {
                          "best_value": "Max",
                          "name": "Accuracy"
                        }
                      ],
                      "learn_metrics": [
                        {
                          "best_value": "Min",
                          "name": "Logloss"
                        },
                        {
                          "best_value": "Max",
                          "name": "Accuracy"
                        }
                      ],
                      "launch_mode": "Train",
                      "parameters": "",
                      "iteration_count": 1000,
                      "learn_sets": [
                        "learn"
                      ],
                      "name": "experiment"
                    }
                  }
                }
              }
            },
            "layout": "IPY_MODEL_3895be1b32304d1d9c403a91b082d277"
          }
        }
      }
    }
  },
  "cells": [
    {
      "cell_type": "markdown",
      "metadata": {
        "id": "view-in-github",
        "colab_type": "text"
      },
      "source": [
        "<a href=\"https://colab.research.google.com/github/Vecheslav-Eremeev/keras_projects/blob/main/Titanic_test_catboost.ipynb\" target=\"_parent\"><img src=\"https://colab.research.google.com/assets/colab-badge.svg\" alt=\"Open In Colab\"/></a>"
      ]
    },
    {
      "cell_type": "markdown",
      "source": [
        "Imports"
      ],
      "metadata": {
        "id": "S3WKdM0m3sio"
      }
    },
    {
      "cell_type": "code",
      "source": [
        "import warnings\n",
        "warnings.filterwarnings('ignore')"
      ],
      "metadata": {
        "id": "_GQD2giM6-7g"
      },
      "execution_count": 20,
      "outputs": []
    },
    {
      "cell_type": "code",
      "source": [
        "pip install catboost"
      ],
      "metadata": {
        "colab": {
          "base_uri": "https://localhost:8080/"
        },
        "id": "miHwqqBy25ig",
        "outputId": "e096587d-c24e-47df-f887-a8f06ad9a8f0"
      },
      "execution_count": 2,
      "outputs": [
        {
          "output_type": "stream",
          "name": "stdout",
          "text": [
            "Collecting catboost\n",
            "  Downloading catboost-1.0.4-cp37-none-manylinux1_x86_64.whl (76.1 MB)\n",
            "\u001b[K     |████████████████████████████████| 76.1 MB 1.3 MB/s \n",
            "\u001b[?25hRequirement already satisfied: graphviz in /usr/local/lib/python3.7/dist-packages (from catboost) (0.10.1)\n",
            "Requirement already satisfied: numpy>=1.16.0 in /usr/local/lib/python3.7/dist-packages (from catboost) (1.21.5)\n",
            "Requirement already satisfied: scipy in /usr/local/lib/python3.7/dist-packages (from catboost) (1.4.1)\n",
            "Requirement already satisfied: six in /usr/local/lib/python3.7/dist-packages (from catboost) (1.15.0)\n",
            "Requirement already satisfied: pandas>=0.24.0 in /usr/local/lib/python3.7/dist-packages (from catboost) (1.3.5)\n",
            "Requirement already satisfied: plotly in /usr/local/lib/python3.7/dist-packages (from catboost) (5.5.0)\n",
            "Requirement already satisfied: matplotlib in /usr/local/lib/python3.7/dist-packages (from catboost) (3.2.2)\n",
            "Requirement already satisfied: python-dateutil>=2.7.3 in /usr/local/lib/python3.7/dist-packages (from pandas>=0.24.0->catboost) (2.8.2)\n",
            "Requirement already satisfied: pytz>=2017.3 in /usr/local/lib/python3.7/dist-packages (from pandas>=0.24.0->catboost) (2018.9)\n",
            "Requirement already satisfied: pyparsing!=2.0.4,!=2.1.2,!=2.1.6,>=2.0.1 in /usr/local/lib/python3.7/dist-packages (from matplotlib->catboost) (3.0.7)\n",
            "Requirement already satisfied: kiwisolver>=1.0.1 in /usr/local/lib/python3.7/dist-packages (from matplotlib->catboost) (1.4.0)\n",
            "Requirement already satisfied: cycler>=0.10 in /usr/local/lib/python3.7/dist-packages (from matplotlib->catboost) (0.11.0)\n",
            "Requirement already satisfied: typing-extensions in /usr/local/lib/python3.7/dist-packages (from kiwisolver>=1.0.1->matplotlib->catboost) (3.10.0.2)\n",
            "Requirement already satisfied: tenacity>=6.2.0 in /usr/local/lib/python3.7/dist-packages (from plotly->catboost) (8.0.1)\n",
            "Installing collected packages: catboost\n",
            "Successfully installed catboost-1.0.4\n"
          ]
        }
      ]
    },
    {
      "cell_type": "code",
      "execution_count": 4,
      "metadata": {
        "id": "kt3iSINJ2mbH"
      },
      "outputs": [],
      "source": [
        "import numpy as np\n",
        "import pandas as pd\n",
        "import seaborn as sns\n",
        "\n",
        "from sklearn.model_selection import train_test_split\n",
        "from sklearn.metrics import accuracy_score\n",
        "\n",
        "from catboost import CatBoostClassifier, Pool, cv"
      ]
    },
    {
      "cell_type": "markdown",
      "source": [
        "Load Data"
      ],
      "metadata": {
        "id": "-0MYPnEW3v4O"
      }
    },
    {
      "cell_type": "code",
      "source": [
        "data = sns.load_dataset('titanic')\n",
        "data.shape"
      ],
      "metadata": {
        "colab": {
          "base_uri": "https://localhost:8080/"
        },
        "id": "wQH_c1XJ21e5",
        "outputId": "a4816c00-4786-4eaa-a46c-03ebd8597a52"
      },
      "execution_count": 5,
      "outputs": [
        {
          "output_type": "execute_result",
          "data": {
            "text/plain": [
              "(891, 15)"
            ]
          },
          "metadata": {},
          "execution_count": 5
        }
      ]
    },
    {
      "cell_type": "code",
      "source": [
        "data.keys()"
      ],
      "metadata": {
        "colab": {
          "base_uri": "https://localhost:8080/"
        },
        "id": "L2uraAtA35H_",
        "outputId": "ad202234-2600-4314-93d7-3d1c43bc91bb"
      },
      "execution_count": 6,
      "outputs": [
        {
          "output_type": "execute_result",
          "data": {
            "text/plain": [
              "Index(['survived', 'pclass', 'sex', 'age', 'sibsp', 'parch', 'fare',\n",
              "       'embarked', 'class', 'who', 'adult_male', 'deck', 'embark_town',\n",
              "       'alive', 'alone'],\n",
              "      dtype='object')"
            ]
          },
          "metadata": {},
          "execution_count": 6
        }
      ]
    },
    {
      "cell_type": "code",
      "source": [
        "data.head()"
      ],
      "metadata": {
        "colab": {
          "base_uri": "https://localhost:8080/",
          "height": 206
        },
        "id": "xcs8s0mm37t_",
        "outputId": "7b15866f-01c3-48aa-edc4-4ab27700f33c"
      },
      "execution_count": 7,
      "outputs": [
        {
          "output_type": "execute_result",
          "data": {
            "text/plain": [
              "   survived  pclass     sex   age  sibsp  parch     fare embarked  class  \\\n",
              "0         0       3    male  22.0      1      0   7.2500        S  Third   \n",
              "1         1       1  female  38.0      1      0  71.2833        C  First   \n",
              "2         1       3  female  26.0      0      0   7.9250        S  Third   \n",
              "3         1       1  female  35.0      1      0  53.1000        S  First   \n",
              "4         0       3    male  35.0      0      0   8.0500        S  Third   \n",
              "\n",
              "     who  adult_male deck  embark_town alive  alone  \n",
              "0    man        True  NaN  Southampton    no  False  \n",
              "1  woman       False    C    Cherbourg   yes  False  \n",
              "2  woman       False  NaN  Southampton   yes   True  \n",
              "3  woman       False    C  Southampton   yes  False  \n",
              "4    man        True  NaN  Southampton    no   True  "
            ],
            "text/html": [
              "\n",
              "  <div id=\"df-57358666-32b5-431b-8544-0e436a46abf6\">\n",
              "    <div class=\"colab-df-container\">\n",
              "      <div>\n",
              "<style scoped>\n",
              "    .dataframe tbody tr th:only-of-type {\n",
              "        vertical-align: middle;\n",
              "    }\n",
              "\n",
              "    .dataframe tbody tr th {\n",
              "        vertical-align: top;\n",
              "    }\n",
              "\n",
              "    .dataframe thead th {\n",
              "        text-align: right;\n",
              "    }\n",
              "</style>\n",
              "<table border=\"1\" class=\"dataframe\">\n",
              "  <thead>\n",
              "    <tr style=\"text-align: right;\">\n",
              "      <th></th>\n",
              "      <th>survived</th>\n",
              "      <th>pclass</th>\n",
              "      <th>sex</th>\n",
              "      <th>age</th>\n",
              "      <th>sibsp</th>\n",
              "      <th>parch</th>\n",
              "      <th>fare</th>\n",
              "      <th>embarked</th>\n",
              "      <th>class</th>\n",
              "      <th>who</th>\n",
              "      <th>adult_male</th>\n",
              "      <th>deck</th>\n",
              "      <th>embark_town</th>\n",
              "      <th>alive</th>\n",
              "      <th>alone</th>\n",
              "    </tr>\n",
              "  </thead>\n",
              "  <tbody>\n",
              "    <tr>\n",
              "      <th>0</th>\n",
              "      <td>0</td>\n",
              "      <td>3</td>\n",
              "      <td>male</td>\n",
              "      <td>22.0</td>\n",
              "      <td>1</td>\n",
              "      <td>0</td>\n",
              "      <td>7.2500</td>\n",
              "      <td>S</td>\n",
              "      <td>Third</td>\n",
              "      <td>man</td>\n",
              "      <td>True</td>\n",
              "      <td>NaN</td>\n",
              "      <td>Southampton</td>\n",
              "      <td>no</td>\n",
              "      <td>False</td>\n",
              "    </tr>\n",
              "    <tr>\n",
              "      <th>1</th>\n",
              "      <td>1</td>\n",
              "      <td>1</td>\n",
              "      <td>female</td>\n",
              "      <td>38.0</td>\n",
              "      <td>1</td>\n",
              "      <td>0</td>\n",
              "      <td>71.2833</td>\n",
              "      <td>C</td>\n",
              "      <td>First</td>\n",
              "      <td>woman</td>\n",
              "      <td>False</td>\n",
              "      <td>C</td>\n",
              "      <td>Cherbourg</td>\n",
              "      <td>yes</td>\n",
              "      <td>False</td>\n",
              "    </tr>\n",
              "    <tr>\n",
              "      <th>2</th>\n",
              "      <td>1</td>\n",
              "      <td>3</td>\n",
              "      <td>female</td>\n",
              "      <td>26.0</td>\n",
              "      <td>0</td>\n",
              "      <td>0</td>\n",
              "      <td>7.9250</td>\n",
              "      <td>S</td>\n",
              "      <td>Third</td>\n",
              "      <td>woman</td>\n",
              "      <td>False</td>\n",
              "      <td>NaN</td>\n",
              "      <td>Southampton</td>\n",
              "      <td>yes</td>\n",
              "      <td>True</td>\n",
              "    </tr>\n",
              "    <tr>\n",
              "      <th>3</th>\n",
              "      <td>1</td>\n",
              "      <td>1</td>\n",
              "      <td>female</td>\n",
              "      <td>35.0</td>\n",
              "      <td>1</td>\n",
              "      <td>0</td>\n",
              "      <td>53.1000</td>\n",
              "      <td>S</td>\n",
              "      <td>First</td>\n",
              "      <td>woman</td>\n",
              "      <td>False</td>\n",
              "      <td>C</td>\n",
              "      <td>Southampton</td>\n",
              "      <td>yes</td>\n",
              "      <td>False</td>\n",
              "    </tr>\n",
              "    <tr>\n",
              "      <th>4</th>\n",
              "      <td>0</td>\n",
              "      <td>3</td>\n",
              "      <td>male</td>\n",
              "      <td>35.0</td>\n",
              "      <td>0</td>\n",
              "      <td>0</td>\n",
              "      <td>8.0500</td>\n",
              "      <td>S</td>\n",
              "      <td>Third</td>\n",
              "      <td>man</td>\n",
              "      <td>True</td>\n",
              "      <td>NaN</td>\n",
              "      <td>Southampton</td>\n",
              "      <td>no</td>\n",
              "      <td>True</td>\n",
              "    </tr>\n",
              "  </tbody>\n",
              "</table>\n",
              "</div>\n",
              "      <button class=\"colab-df-convert\" onclick=\"convertToInteractive('df-57358666-32b5-431b-8544-0e436a46abf6')\"\n",
              "              title=\"Convert this dataframe to an interactive table.\"\n",
              "              style=\"display:none;\">\n",
              "        \n",
              "  <svg xmlns=\"http://www.w3.org/2000/svg\" height=\"24px\"viewBox=\"0 0 24 24\"\n",
              "       width=\"24px\">\n",
              "    <path d=\"M0 0h24v24H0V0z\" fill=\"none\"/>\n",
              "    <path d=\"M18.56 5.44l.94 2.06.94-2.06 2.06-.94-2.06-.94-.94-2.06-.94 2.06-2.06.94zm-11 1L8.5 8.5l.94-2.06 2.06-.94-2.06-.94L8.5 2.5l-.94 2.06-2.06.94zm10 10l.94 2.06.94-2.06 2.06-.94-2.06-.94-.94-2.06-.94 2.06-2.06.94z\"/><path d=\"M17.41 7.96l-1.37-1.37c-.4-.4-.92-.59-1.43-.59-.52 0-1.04.2-1.43.59L10.3 9.45l-7.72 7.72c-.78.78-.78 2.05 0 2.83L4 21.41c.39.39.9.59 1.41.59.51 0 1.02-.2 1.41-.59l7.78-7.78 2.81-2.81c.8-.78.8-2.07 0-2.86zM5.41 20L4 18.59l7.72-7.72 1.47 1.35L5.41 20z\"/>\n",
              "  </svg>\n",
              "      </button>\n",
              "      \n",
              "  <style>\n",
              "    .colab-df-container {\n",
              "      display:flex;\n",
              "      flex-wrap:wrap;\n",
              "      gap: 12px;\n",
              "    }\n",
              "\n",
              "    .colab-df-convert {\n",
              "      background-color: #E8F0FE;\n",
              "      border: none;\n",
              "      border-radius: 50%;\n",
              "      cursor: pointer;\n",
              "      display: none;\n",
              "      fill: #1967D2;\n",
              "      height: 32px;\n",
              "      padding: 0 0 0 0;\n",
              "      width: 32px;\n",
              "    }\n",
              "\n",
              "    .colab-df-convert:hover {\n",
              "      background-color: #E2EBFA;\n",
              "      box-shadow: 0px 1px 2px rgba(60, 64, 67, 0.3), 0px 1px 3px 1px rgba(60, 64, 67, 0.15);\n",
              "      fill: #174EA6;\n",
              "    }\n",
              "\n",
              "    [theme=dark] .colab-df-convert {\n",
              "      background-color: #3B4455;\n",
              "      fill: #D2E3FC;\n",
              "    }\n",
              "\n",
              "    [theme=dark] .colab-df-convert:hover {\n",
              "      background-color: #434B5C;\n",
              "      box-shadow: 0px 1px 3px 1px rgba(0, 0, 0, 0.15);\n",
              "      filter: drop-shadow(0px 1px 2px rgba(0, 0, 0, 0.3));\n",
              "      fill: #FFFFFF;\n",
              "    }\n",
              "  </style>\n",
              "\n",
              "      <script>\n",
              "        const buttonEl =\n",
              "          document.querySelector('#df-57358666-32b5-431b-8544-0e436a46abf6 button.colab-df-convert');\n",
              "        buttonEl.style.display =\n",
              "          google.colab.kernel.accessAllowed ? 'block' : 'none';\n",
              "\n",
              "        async function convertToInteractive(key) {\n",
              "          const element = document.querySelector('#df-57358666-32b5-431b-8544-0e436a46abf6');\n",
              "          const dataTable =\n",
              "            await google.colab.kernel.invokeFunction('convertToInteractive',\n",
              "                                                     [key], {});\n",
              "          if (!dataTable) return;\n",
              "\n",
              "          const docLinkHtml = 'Like what you see? Visit the ' +\n",
              "            '<a target=\"_blank\" href=https://colab.research.google.com/notebooks/data_table.ipynb>data table notebook</a>'\n",
              "            + ' to learn more about interactive tables.';\n",
              "          element.innerHTML = '';\n",
              "          dataTable['output_type'] = 'display_data';\n",
              "          await google.colab.output.renderOutput(dataTable, element);\n",
              "          const docLink = document.createElement('div');\n",
              "          docLink.innerHTML = docLinkHtml;\n",
              "          element.appendChild(docLink);\n",
              "        }\n",
              "      </script>\n",
              "    </div>\n",
              "  </div>\n",
              "  "
            ]
          },
          "metadata": {},
          "execution_count": 7
        }
      ]
    },
    {
      "cell_type": "code",
      "source": [
        "data.isnull().sum()"
      ],
      "metadata": {
        "colab": {
          "base_uri": "https://localhost:8080/"
        },
        "id": "2cdTB2Oq39y4",
        "outputId": "49e3c69a-9219-4f49-db63-ffcd40a4d378"
      },
      "execution_count": 8,
      "outputs": [
        {
          "output_type": "execute_result",
          "data": {
            "text/plain": [
              "survived         0\n",
              "pclass           0\n",
              "sex              0\n",
              "age            177\n",
              "sibsp            0\n",
              "parch            0\n",
              "fare             0\n",
              "embarked         2\n",
              "class            0\n",
              "who              0\n",
              "adult_male       0\n",
              "deck           688\n",
              "embark_town      2\n",
              "alive            0\n",
              "alone            0\n",
              "dtype: int64"
            ]
          },
          "metadata": {},
          "execution_count": 8
        }
      ]
    },
    {
      "cell_type": "markdown",
      "source": [
        "Data preparation"
      ],
      "metadata": {
        "id": "7Xr_g-ZW7kIY"
      }
    },
    {
      "cell_type": "code",
      "source": [
        "data['family'] = data['sibsp'] + data['parch'] + 1"
      ],
      "metadata": {
        "id": "FmHJ5AXy4Bko"
      },
      "execution_count": 9,
      "outputs": []
    },
    {
      "cell_type": "code",
      "source": [
        "drop_col = 'survived class who adult_male deck embark_town alive alone'.split()"
      ],
      "metadata": {
        "id": "T00UYl124WVn"
      },
      "execution_count": 12,
      "outputs": []
    },
    {
      "cell_type": "code",
      "source": [
        "X = data.drop(drop_col, axis=1)\n",
        "y = data['survived']"
      ],
      "metadata": {
        "id": "hIdJhc1e5rV5"
      },
      "execution_count": 13,
      "outputs": []
    },
    {
      "cell_type": "code",
      "source": [
        "X['age'] = X['age'].fillna(X['age'].mean())"
      ],
      "metadata": {
        "id": "pgQ_oCvh6OW9"
      },
      "execution_count": 16,
      "outputs": []
    },
    {
      "cell_type": "code",
      "source": [
        "X['embarked'] = X['embarked'].fillna(X['embarked'].mode()[0])"
      ],
      "metadata": {
        "id": "JJQnhTN36QBO"
      },
      "execution_count": 17,
      "outputs": []
    },
    {
      "cell_type": "code",
      "source": [
        "X.isnull().sum()"
      ],
      "metadata": {
        "colab": {
          "base_uri": "https://localhost:8080/"
        },
        "id": "Y93A3ybs6r53",
        "outputId": "a4bf6f42-a54a-4e1a-fa30-665d64648ef3"
      },
      "execution_count": 18,
      "outputs": [
        {
          "output_type": "execute_result",
          "data": {
            "text/plain": [
              "pclass      0\n",
              "sex         0\n",
              "age         0\n",
              "sibsp       0\n",
              "parch       0\n",
              "fare        0\n",
              "embarked    0\n",
              "family      0\n",
              "dtype: int64"
            ]
          },
          "metadata": {},
          "execution_count": 18
        }
      ]
    },
    {
      "cell_type": "code",
      "source": [
        "categorical_features_indices = np.where(X.dtypes != np.float)[0]\n",
        "categorical_features_indices"
      ],
      "metadata": {
        "colab": {
          "base_uri": "https://localhost:8080/"
        },
        "id": "2rje-VeU6wRv",
        "outputId": "c2c845bc-889c-4116-eeb5-48deb5a518ba"
      },
      "execution_count": 21,
      "outputs": [
        {
          "output_type": "execute_result",
          "data": {
            "text/plain": [
              "array([0, 1, 3, 4, 6, 7])"
            ]
          },
          "metadata": {},
          "execution_count": 21
        }
      ]
    },
    {
      "cell_type": "code",
      "source": [
        "X_train, X_test, y_train, y_test = train_test_split(X, y, random_state=42, test_size=0.25)"
      ],
      "metadata": {
        "id": "mc7V4XJU67vX"
      },
      "execution_count": 22,
      "outputs": []
    },
    {
      "cell_type": "markdown",
      "source": [
        "Train Model"
      ],
      "metadata": {
        "id": "0JonIpov7T7Y"
      }
    },
    {
      "cell_type": "code",
      "source": [
        "model = CatBoostClassifier(custom_loss=['Accuracy'], random_seed=42, logging_level='Silent')"
      ],
      "metadata": {
        "id": "OqtxoweN7L5H"
      },
      "execution_count": 23,
      "outputs": []
    },
    {
      "cell_type": "code",
      "source": [
        "model.fit(X_train, y_train, cat_features=categorical_features_indices, eval_set=(X_test, y_test), plot=True)"
      ],
      "metadata": {
        "colab": {
          "base_uri": "https://localhost:8080/",
          "height": 35,
          "referenced_widgets": [
            "e90fafdc6e774e9a9f8b70523a0368db"
          ]
        },
        "id": "fo8v1Ri87mag",
        "outputId": "aec92528-f1a0-4ade-9408-40d360a963dc"
      },
      "execution_count": 24,
      "outputs": [
        {
          "output_type": "display_data",
          "data": {
            "text/plain": [
              "MetricVisualizer(layout=Layout(align_self='stretch', height='500px'))"
            ],
            "application/vnd.jupyter.widget-view+json": {
              "version_major": 2,
              "version_minor": 0,
              "model_id": "e90fafdc6e774e9a9f8b70523a0368db"
            }
          },
          "metadata": {}
        },
        {
          "output_type": "execute_result",
          "data": {
            "text/plain": [
              "<catboost.core.CatBoostClassifier at 0x7f70a4719b90>"
            ]
          },
          "metadata": {},
          "execution_count": 24
        }
      ]
    },
    {
      "cell_type": "code",
      "source": [
        "pred = model.predict(X_test)"
      ],
      "metadata": {
        "id": "Su9Ut6sT7q4P"
      },
      "execution_count": 25,
      "outputs": []
    },
    {
      "cell_type": "code",
      "source": [
        "print(accuracy_score(y_test, pred))"
      ],
      "metadata": {
        "colab": {
          "base_uri": "https://localhost:8080/"
        },
        "id": "4jA_PckI7yVP",
        "outputId": "edeacbbf-b594-4afa-ab55-9bac36216e94"
      },
      "execution_count": 27,
      "outputs": [
        {
          "output_type": "stream",
          "name": "stdout",
          "text": [
            "0.8161434977578476\n"
          ]
        }
      ]
    },
    {
      "cell_type": "code",
      "source": [
        ""
      ],
      "metadata": {
        "id": "QVaAm616748_"
      },
      "execution_count": null,
      "outputs": []
    }
  ]
}